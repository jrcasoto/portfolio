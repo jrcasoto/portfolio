{
 "cells": [
  {
   "cell_type": "markdown",
   "metadata": {},
   "source": [
    "# Proposta de Solução"
   ]
  },
  {
   "cell_type": "markdown",
   "metadata": {},
   "source": [
    "Etapas:\n",
    "\n",
    "1. Data Understanding\n",
    "2. Data Visualization\n",
    "3. Data Wrangling\n",
    "4. Data Modelling\n",
    "5. Model Evaluation & Deployment"
   ]
  },
  {
   "cell_type": "markdown",
   "metadata": {},
   "source": [
    "## Data Understanding & Data Wrangling"
   ]
  },
  {
   "cell_type": "code",
   "execution_count": 1,
   "metadata": {},
   "outputs": [],
   "source": [
    "import pandas as pd\n",
    "import numpy as np\n",
    "import seaborn as sns\n",
    "import matplotlib.pyplot as plt\n",
    "import warnings\n",
    "import os\n",
    "pd.set_option('display.float_format', lambda x: '%.2f' % x) # Remover notação científica do DataFrame\n",
    "pd.options.display.max_columns = None # Mostrar todas as colunas\n",
    "warnings.filterwarnings(\"ignore\") # Ignorar warnings"
   ]
  },
  {
   "cell_type": "markdown",
   "metadata": {},
   "source": [
    "## Data Undestanding"
   ]
  },
  {
   "cell_type": "code",
   "execution_count": 2,
   "metadata": {},
   "outputs": [
    {
     "data": {
      "text/html": [
       "<div>\n",
       "<style scoped>\n",
       "    .dataframe tbody tr th:only-of-type {\n",
       "        vertical-align: middle;\n",
       "    }\n",
       "\n",
       "    .dataframe tbody tr th {\n",
       "        vertical-align: top;\n",
       "    }\n",
       "\n",
       "    .dataframe thead th {\n",
       "        text-align: right;\n",
       "    }\n",
       "</style>\n",
       "<table border=\"1\" class=\"dataframe\">\n",
       "  <thead>\n",
       "    <tr style=\"text-align: right;\">\n",
       "      <th></th>\n",
       "      <th>id_subestacao</th>\n",
       "      <th>local_medidor</th>\n",
       "      <th>tipo_medidor</th>\n",
       "      <th>consumo_medio_mensal</th>\n",
       "      <th>temperatura_maxima</th>\n",
       "      <th>temperatura_minima</th>\n",
       "      <th>numero_fases</th>\n",
       "      <th>classe_cliente</th>\n",
       "    </tr>\n",
       "  </thead>\n",
       "  <tbody>\n",
       "    <tr>\n",
       "      <th>0</th>\n",
       "      <td>14</td>\n",
       "      <td>comercial</td>\n",
       "      <td>digital</td>\n",
       "      <td>293</td>\n",
       "      <td>42</td>\n",
       "      <td>10</td>\n",
       "      <td>monofasica</td>\n",
       "      <td>normal</td>\n",
       "    </tr>\n",
       "    <tr>\n",
       "      <th>1</th>\n",
       "      <td>30</td>\n",
       "      <td>residencial</td>\n",
       "      <td>digital</td>\n",
       "      <td>190</td>\n",
       "      <td>36</td>\n",
       "      <td>13</td>\n",
       "      <td>trifasica</td>\n",
       "      <td>normal</td>\n",
       "    </tr>\n",
       "    <tr>\n",
       "      <th>2</th>\n",
       "      <td>38</td>\n",
       "      <td>residencial</td>\n",
       "      <td>digital</td>\n",
       "      <td>399</td>\n",
       "      <td>31</td>\n",
       "      <td>14</td>\n",
       "      <td>bifasica</td>\n",
       "      <td>normal</td>\n",
       "    </tr>\n",
       "    <tr>\n",
       "      <th>3</th>\n",
       "      <td>40</td>\n",
       "      <td>residencial</td>\n",
       "      <td>analogico</td>\n",
       "      <td>307</td>\n",
       "      <td>45</td>\n",
       "      <td>11</td>\n",
       "      <td>monofasica</td>\n",
       "      <td>normal</td>\n",
       "    </tr>\n",
       "    <tr>\n",
       "      <th>4</th>\n",
       "      <td>15</td>\n",
       "      <td>residencial</td>\n",
       "      <td>digital</td>\n",
       "      <td>407</td>\n",
       "      <td>39</td>\n",
       "      <td>19</td>\n",
       "      <td>trifasica</td>\n",
       "      <td>normal</td>\n",
       "    </tr>\n",
       "  </tbody>\n",
       "</table>\n",
       "</div>"
      ],
      "text/plain": [
       "   id_subestacao local_medidor tipo_medidor  consumo_medio_mensal  \\\n",
       "0             14     comercial      digital                   293   \n",
       "1             30   residencial      digital                   190   \n",
       "2             38   residencial      digital                   399   \n",
       "3             40   residencial    analogico                   307   \n",
       "4             15   residencial      digital                   407   \n",
       "\n",
       "   temperatura_maxima  temperatura_minima numero_fases classe_cliente  \n",
       "0                  42                  10   monofasica         normal  \n",
       "1                  36                  13    trifasica         normal  \n",
       "2                  31                  14     bifasica         normal  \n",
       "3                  45                  11   monofasica         normal  \n",
       "4                  39                  19    trifasica         normal  "
      ]
     },
     "metadata": {},
     "output_type": "display_data"
    }
   ],
   "source": [
    "# Leitura do dataset\n",
    "dataset = pd.read_csv('dados.csv')\n",
    "display(dataset.head())"
   ]
  },
  {
   "cell_type": "code",
   "execution_count": 3,
   "metadata": {},
   "outputs": [
    {
     "name": "stdout",
     "output_type": "stream",
     "text": [
      "<class 'pandas.core.frame.DataFrame'>\n",
      "RangeIndex: 150000 entries, 0 to 149999\n",
      "Data columns (total 8 columns):\n",
      " #   Column                Non-Null Count   Dtype \n",
      "---  ------                --------------   ----- \n",
      " 0   id_subestacao         150000 non-null  int64 \n",
      " 1   local_medidor         150000 non-null  object\n",
      " 2   tipo_medidor          150000 non-null  object\n",
      " 3   consumo_medio_mensal  150000 non-null  int64 \n",
      " 4   temperatura_maxima    150000 non-null  int64 \n",
      " 5   temperatura_minima    150000 non-null  int64 \n",
      " 6   numero_fases          150000 non-null  object\n",
      " 7   classe_cliente        150000 non-null  object\n",
      "dtypes: int64(4), object(4)\n",
      "memory usage: 9.2+ MB\n"
     ]
    },
    {
     "data": {
      "text/plain": [
       "None"
      ]
     },
     "metadata": {},
     "output_type": "display_data"
    },
    {
     "data": {
      "text/html": [
       "<div>\n",
       "<style scoped>\n",
       "    .dataframe tbody tr th:only-of-type {\n",
       "        vertical-align: middle;\n",
       "    }\n",
       "\n",
       "    .dataframe tbody tr th {\n",
       "        vertical-align: top;\n",
       "    }\n",
       "\n",
       "    .dataframe thead th {\n",
       "        text-align: right;\n",
       "    }\n",
       "</style>\n",
       "<table border=\"1\" class=\"dataframe\">\n",
       "  <thead>\n",
       "    <tr style=\"text-align: right;\">\n",
       "      <th></th>\n",
       "      <th>id_subestacao</th>\n",
       "      <th>consumo_medio_mensal</th>\n",
       "      <th>temperatura_maxima</th>\n",
       "      <th>temperatura_minima</th>\n",
       "    </tr>\n",
       "  </thead>\n",
       "  <tbody>\n",
       "    <tr>\n",
       "      <th>count</th>\n",
       "      <td>150000.00</td>\n",
       "      <td>150000.00</td>\n",
       "      <td>150000.00</td>\n",
       "      <td>150000.00</td>\n",
       "    </tr>\n",
       "    <tr>\n",
       "      <th>mean</th>\n",
       "      <td>25.03</td>\n",
       "      <td>277.82</td>\n",
       "      <td>39.49</td>\n",
       "      <td>16.99</td>\n",
       "    </tr>\n",
       "    <tr>\n",
       "      <th>std</th>\n",
       "      <td>14.17</td>\n",
       "      <td>102.49</td>\n",
       "      <td>5.77</td>\n",
       "      <td>4.32</td>\n",
       "    </tr>\n",
       "    <tr>\n",
       "      <th>min</th>\n",
       "      <td>1.00</td>\n",
       "      <td>100.00</td>\n",
       "      <td>30.00</td>\n",
       "      <td>10.00</td>\n",
       "    </tr>\n",
       "    <tr>\n",
       "      <th>25%</th>\n",
       "      <td>13.00</td>\n",
       "      <td>190.00</td>\n",
       "      <td>34.00</td>\n",
       "      <td>13.00</td>\n",
       "    </tr>\n",
       "    <tr>\n",
       "      <th>50%</th>\n",
       "      <td>25.00</td>\n",
       "      <td>278.00</td>\n",
       "      <td>39.00</td>\n",
       "      <td>17.00</td>\n",
       "    </tr>\n",
       "    <tr>\n",
       "      <th>75%</th>\n",
       "      <td>37.00</td>\n",
       "      <td>365.00</td>\n",
       "      <td>44.00</td>\n",
       "      <td>21.00</td>\n",
       "    </tr>\n",
       "    <tr>\n",
       "      <th>max</th>\n",
       "      <td>49.00</td>\n",
       "      <td>549.00</td>\n",
       "      <td>49.00</td>\n",
       "      <td>24.00</td>\n",
       "    </tr>\n",
       "  </tbody>\n",
       "</table>\n",
       "</div>"
      ],
      "text/plain": [
       "       id_subestacao  consumo_medio_mensal  temperatura_maxima  \\\n",
       "count      150000.00             150000.00           150000.00   \n",
       "mean           25.03                277.82               39.49   \n",
       "std            14.17                102.49                5.77   \n",
       "min             1.00                100.00               30.00   \n",
       "25%            13.00                190.00               34.00   \n",
       "50%            25.00                278.00               39.00   \n",
       "75%            37.00                365.00               44.00   \n",
       "max            49.00                549.00               49.00   \n",
       "\n",
       "       temperatura_minima  \n",
       "count           150000.00  \n",
       "mean                16.99  \n",
       "std                  4.32  \n",
       "min                 10.00  \n",
       "25%                 13.00  \n",
       "50%                 17.00  \n",
       "75%                 21.00  \n",
       "max                 24.00  "
      ]
     },
     "metadata": {},
     "output_type": "display_data"
    }
   ],
   "source": [
    "# Checando estrutura do dataset e distribuição de valores quantitativos\n",
    "display(dataset.info())\n",
    "display(dataset.describe())"
   ]
  },
  {
   "cell_type": "code",
   "execution_count": 4,
   "metadata": {},
   "outputs": [
    {
     "data": {
      "text/plain": [
       "id_subestacao           0\n",
       "local_medidor           0\n",
       "tipo_medidor            0\n",
       "consumo_medio_mensal    0\n",
       "temperatura_maxima      0\n",
       "temperatura_minima      0\n",
       "numero_fases            0\n",
       "classe_cliente          0\n",
       "dtype: int64"
      ]
     },
     "execution_count": 4,
     "metadata": {},
     "output_type": "execute_result"
    }
   ],
   "source": [
    "# Procurando por valores faltantes/NA\n",
    "dataset.isna().sum()"
   ]
  },
  {
   "cell_type": "code",
   "execution_count": 5,
   "metadata": {},
   "outputs": [
    {
     "data": {
      "text/plain": [
       "industrial     62718\n",
       "comercial      49695\n",
       "residencial    37587\n",
       "Name: local_medidor, dtype: int64"
      ]
     },
     "metadata": {},
     "output_type": "display_data"
    },
    {
     "data": {
      "text/plain": [
       "digital      75669\n",
       "analogico    74331\n",
       "Name: tipo_medidor, dtype: int64"
      ]
     },
     "metadata": {},
     "output_type": "display_data"
    },
    {
     "data": {
      "text/plain": [
       "monofasica    50582\n",
       "trifasica     50146\n",
       "bifasica      49272\n",
       "Name: numero_fases, dtype: int64"
      ]
     },
     "metadata": {},
     "output_type": "display_data"
    },
    {
     "data": {
      "text/plain": [
       "normal       145483\n",
       "fraudador      4517\n",
       "Name: classe_cliente, dtype: int64"
      ]
     },
     "metadata": {},
     "output_type": "display_data"
    }
   ],
   "source": [
    "# Verificando as colunas qualitativas se não há preenchimentos indevidos (blanks, descrições fora do padrão, etc.)\n",
    "for col in dataset.loc[:, dataset.dtypes == np.object]:\n",
    "    display(dataset[col].value_counts())"
   ]
  },
  {
   "cell_type": "code",
   "execution_count": 6,
   "metadata": {},
   "outputs": [
    {
     "data": {
      "text/plain": [
       "normal      0.97\n",
       "fraudador   0.03\n",
       "Name: classe_cliente, dtype: float64"
      ]
     },
     "execution_count": 6,
     "metadata": {},
     "output_type": "execute_result"
    }
   ],
   "source": [
    "# Checando a distribuição dos dados na variável 'classe_cliente'\n",
    "dataset['classe_cliente'].value_counts(normalize = True)"
   ]
  },
  {
   "cell_type": "markdown",
   "metadata": {},
   "source": [
    "#### Notas\n",
    "1. Dados distribuídos em 150 mil registros e oito variáveis (incluindo variável target 'classe_cliente');\n",
    "2. Contém variáveis numéricas e categóricas; separarei o dataset para gerar visualizações pontuais;\n",
    "3. Nas variáveis quantitativas, o consumo médio mensal e as temperaturas representam informações diferentes, portanto, escalas diferentes (valores Min/Max). Dependendo do modelo a ser treinado, será necessário normalizar a base e remover a ocluna 'id_subestacao';\n",
    "4. Procurei por valores missing ou indevidos tanto nas variáveis quantitativas (contagem simples) quanto qualitativas (via tabelas de contingência) mas nada foi encontrado, logo nenhuma ação será necessária;\n",
    "5. Avaliando a distribuição da variável 'classe_cliente', vemos que os dados estão altamente desbalanceados (97/3), por isso será necessário aplicarmos alguma técnica de normalização na base (ex.: ROSE)."
   ]
  },
  {
   "cell_type": "markdown",
   "metadata": {},
   "source": [
    "## Data Visualization"
   ]
  },
  {
   "cell_type": "markdown",
   "metadata": {},
   "source": [
    "### Quantitativas"
   ]
  },
  {
   "cell_type": "code",
   "execution_count": 7,
   "metadata": {},
   "outputs": [
    {
     "name": "stdout",
     "output_type": "stream",
     "text": [
      "Categóricas:  ['local_medidor', 'tipo_medidor', 'numero_fases', 'classe_cliente'] \n",
      "Numéricas:  ['id_subestacao', 'consumo_medio_mensal', 'temperatura_maxima', 'temperatura_minima']\n"
     ]
    }
   ],
   "source": [
    "# Separar colunas categóricas das numéricas para visualizar estrutura dos dados\n",
    "categorical = dataset.loc[:, dataset.dtypes == np.object]\n",
    "numerical = dataset.loc[:, dataset.dtypes == np.int64]\n",
    "print('Categóricas: ', categorical.columns.tolist(), '\\nNuméricas: ', numerical.columns.tolist())"
   ]
  },
  {
   "cell_type": "code",
   "execution_count": 8,
   "metadata": {},
   "outputs": [
    {
     "data": {
      "text/plain": [
       "id_subestacao              AxesSubplot(0.125,0.536818;0.352273x0.343182)\n",
       "consumo_medio_mensal    AxesSubplot(0.547727,0.536818;0.352273x0.343182)\n",
       "temperatura_maxima            AxesSubplot(0.125,0.125;0.352273x0.343182)\n",
       "temperatura_minima         AxesSubplot(0.547727,0.125;0.352273x0.343182)\n",
       "dtype: object"
      ]
     },
     "execution_count": 8,
     "metadata": {},
     "output_type": "execute_result"
    },
    {
     "data": {
      "image/png": "[encoded data removed]",
      "text/plain": [
       "<Figure size 864x864 with 4 Axes>"
      ]
     },
     "metadata": {
      "needs_background": "light"
     },
     "output_type": "display_data"
    }
   ],
   "source": [
    "# Boxplot com distribuições das variáveis numéricas\n",
    "numerical.plot(kind = 'box', subplots = True, layout = (2,2), sharex = False, sharey = False, figsize=(12, 12))"
   ]
  },
  {
   "cell_type": "code",
   "execution_count": 9,
   "metadata": {},
   "outputs": [
    {
     "data": {
      "image/png": "[encoded data removed]",
      "text/plain": [
       "<Figure size 864x864 with 4 Axes>"
      ]
     },
     "metadata": {
      "needs_background": "light"
     },
     "output_type": "display_data"
    }
   ],
   "source": [
    "# Histogramas de distribuição\n",
    "numerical.hist(figsize=(12, 12))\n",
    "plt.show()"
   ]
  },
  {
   "cell_type": "markdown",
   "metadata": {},
   "source": [
    "#### Notas\n",
    "1. As variáveis categóricas estão bem distribuídas (histograma) e sem outliers na distribuição (boxplots), por mais que tenhamos alguns registros de consumo médio mensal mais altos do que a média;\n",
    "2. Todos os dados serão mantidos a priori."
   ]
  },
  {
   "cell_type": "markdown",
   "metadata": {},
   "source": [
    "### Qualitativas"
   ]
  },
  {
   "cell_type": "code",
   "execution_count": 10,
   "metadata": {},
   "outputs": [
    {
     "data": {
      "image/png": "[encoded data removed]",
      "text/plain": [
       "<Figure size 432x288 with 1 Axes>"
      ]
     },
     "metadata": {
      "needs_background": "light"
     },
     "output_type": "display_data"
    }
   ],
   "source": [
    "# Plot de contagem por tipo de transação (normal/fraudulenta)\n",
    "sns.countplot(categorical['classe_cliente'], palette = \"OrRd\")\n",
    "plt.box(False)\n",
    "plt.xlabel('Categoria', fontsize = 11)\n",
    "plt.ylabel('Contagem', fontsize = 11)\n",
    "plt.title('Distribuição de Transações por Classe de Clientes\\n')\n",
    "plt.show()"
   ]
  },
  {
   "cell_type": "code",
   "execution_count": 11,
   "metadata": {},
   "outputs": [
    {
     "data": {
      "image/png": "[encoded data removed]",
      "text/plain": [
       "<Figure size 432x288 with 1 Axes>"
      ]
     },
     "metadata": {
      "needs_background": "light"
     },
     "output_type": "display_data"
    }
   ],
   "source": [
    "# Plot de contagem por tipo de transação (norma/fraudulenta)\n",
    "sns.countplot(categorical['local_medidor'], palette = \"OrRd\")\n",
    "plt.box(False)\n",
    "plt.xlabel('Categoria', fontsize = 11)\n",
    "plt.ylabel('Contagem', fontsize = 11)\n",
    "plt.title('Distribuição de Transações por Classe de Clientes\\n')\n",
    "plt.show()"
   ]
  },
  {
   "cell_type": "code",
   "execution_count": 12,
   "metadata": {},
   "outputs": [
    {
     "data": {
      "image/png": "[encoded data removed]",
      "text/plain": [
       "<Figure size 1080x360 with 1 Axes>"
      ]
     },
     "metadata": {
      "needs_background": "light"
     },
     "output_type": "display_data"
    }
   ],
   "source": [
    "# Stacked Bar Subestação x Classe do cliente\n",
    "pd.crosstab(dataset['id_subestacao'], dataset['classe_cliente']).plot(kind = 'bar', \n",
    "                                                   stacked = True, \n",
    "                                                   figsize = (15, 5), \n",
    "                                                   color = ['red', 'green'])\n",
    "plt.xlabel('Subestação', fontsize = 11)\n",
    "plt.ylabel('Contagem', fontsize = 11)\n",
    "plt.title('Distribuição de Transações por Subestação\\n')\n",
    "plt.show()"
   ]
  },
  {
   "cell_type": "markdown",
   "metadata": {},
   "source": [
    "#### Nota\n",
    "Há um forte desbalanceamento na classe dos clientes, por isso será utilizado técnicas para balancear os dados no dataset (ROSE, UnderSampling e replicação das transações fraudulentas nas subestações afim de balancear o dataset)."
   ]
  },
  {
   "cell_type": "markdown",
   "metadata": {},
   "source": [
    "## Data Wrangling"
   ]
  },
  {
   "cell_type": "code",
   "execution_count": 13,
   "metadata": {},
   "outputs": [],
   "source": [
    "# Criar cópias do dataset original\n",
    "dataset_modified = dataset.copy()\n",
    "dataset_modified2 = dataset.copy()"
   ]
  },
  {
   "cell_type": "code",
   "execution_count": 14,
   "metadata": {},
   "outputs": [
    {
     "data": {
      "text/html": [
       "<div>\n",
       "<style scoped>\n",
       "    .dataframe tbody tr th:only-of-type {\n",
       "        vertical-align: middle;\n",
       "    }\n",
       "\n",
       "    .dataframe tbody tr th {\n",
       "        vertical-align: top;\n",
       "    }\n",
       "\n",
       "    .dataframe thead th {\n",
       "        text-align: right;\n",
       "    }\n",
       "</style>\n",
       "<table border=\"1\" class=\"dataframe\">\n",
       "  <thead>\n",
       "    <tr style=\"text-align: right;\">\n",
       "      <th></th>\n",
       "      <th>id_subestacao</th>\n",
       "      <th>local_medidor</th>\n",
       "      <th>tipo_medidor</th>\n",
       "      <th>consumo_medio_mensal</th>\n",
       "      <th>temperatura_maxima</th>\n",
       "      <th>temperatura_minima</th>\n",
       "      <th>numero_fases</th>\n",
       "      <th>classe_cliente</th>\n",
       "    </tr>\n",
       "  </thead>\n",
       "  <tbody>\n",
       "    <tr>\n",
       "      <th>0</th>\n",
       "      <td>14</td>\n",
       "      <td>0</td>\n",
       "      <td>1</td>\n",
       "      <td>293</td>\n",
       "      <td>42</td>\n",
       "      <td>10</td>\n",
       "      <td>1</td>\n",
       "      <td>1</td>\n",
       "    </tr>\n",
       "    <tr>\n",
       "      <th>1</th>\n",
       "      <td>30</td>\n",
       "      <td>2</td>\n",
       "      <td>1</td>\n",
       "      <td>190</td>\n",
       "      <td>36</td>\n",
       "      <td>13</td>\n",
       "      <td>2</td>\n",
       "      <td>1</td>\n",
       "    </tr>\n",
       "    <tr>\n",
       "      <th>2</th>\n",
       "      <td>38</td>\n",
       "      <td>2</td>\n",
       "      <td>1</td>\n",
       "      <td>399</td>\n",
       "      <td>31</td>\n",
       "      <td>14</td>\n",
       "      <td>0</td>\n",
       "      <td>1</td>\n",
       "    </tr>\n",
       "    <tr>\n",
       "      <th>3</th>\n",
       "      <td>40</td>\n",
       "      <td>2</td>\n",
       "      <td>0</td>\n",
       "      <td>307</td>\n",
       "      <td>45</td>\n",
       "      <td>11</td>\n",
       "      <td>1</td>\n",
       "      <td>1</td>\n",
       "    </tr>\n",
       "    <tr>\n",
       "      <th>4</th>\n",
       "      <td>15</td>\n",
       "      <td>2</td>\n",
       "      <td>1</td>\n",
       "      <td>407</td>\n",
       "      <td>39</td>\n",
       "      <td>19</td>\n",
       "      <td>2</td>\n",
       "      <td>1</td>\n",
       "    </tr>\n",
       "  </tbody>\n",
       "</table>\n",
       "</div>"
      ],
      "text/plain": [
       "   id_subestacao  local_medidor  tipo_medidor  consumo_medio_mensal  \\\n",
       "0             14              0             1                   293   \n",
       "1             30              2             1                   190   \n",
       "2             38              2             1                   399   \n",
       "3             40              2             0                   307   \n",
       "4             15              2             1                   407   \n",
       "\n",
       "   temperatura_maxima  temperatura_minima  numero_fases  classe_cliente  \n",
       "0                  42                  10             1               1  \n",
       "1                  36                  13             2               1  \n",
       "2                  31                  14             0               1  \n",
       "3                  45                  11             1               1  \n",
       "4                  39                  19             2               1  "
      ]
     },
     "execution_count": 14,
     "metadata": {},
     "output_type": "execute_result"
    }
   ],
   "source": [
    "# Converte colunas categóricas para 'Categorical' e mapeia em formato de números\n",
    "\n",
    "for col in categorical.columns.tolist():\n",
    "    dataset_modified[col] = pd.Categorical(dataset_modified[col]) # Converte para categórico\n",
    "    cats = dict(enumerate(dataset_modified[col].cat.categories)) # Mapeia categorias em dict\n",
    "    cats = {v: k for k, v in cats.items()} # Inverte par chave/valor do dict\n",
    "    dataset_modified[col] = dataset_modified[col].map(cats) # Remapeia base\n",
    "    \n",
    "# Converte colunas para int64\n",
    "for col in categorical.columns.tolist():\n",
    "    dataset_modified[col] = pd.to_numeric(dataset_modified[col]) # Converte para categórico\n",
    "dataset_modified.head()"
   ]
  },
  {
   "cell_type": "code",
   "execution_count": 15,
   "metadata": {
    "scrolled": true
   },
   "outputs": [
    {
     "name": "stdout",
     "output_type": "stream",
     "text": [
      "['local_medidor_comercial', 'local_medidor_industrial', 'local_medidor_residencial']\n",
      "['tipo_medidor_analogico', 'tipo_medidor_digital']\n",
      "['numero_fases_bifasica', 'numero_fases_monofasica', 'numero_fases_trifasica']\n"
     ]
    },
    {
     "data": {
      "text/html": [
       "<div>\n",
       "<style scoped>\n",
       "    .dataframe tbody tr th:only-of-type {\n",
       "        vertical-align: middle;\n",
       "    }\n",
       "\n",
       "    .dataframe tbody tr th {\n",
       "        vertical-align: top;\n",
       "    }\n",
       "\n",
       "    .dataframe thead th {\n",
       "        text-align: right;\n",
       "    }\n",
       "</style>\n",
       "<table border=\"1\" class=\"dataframe\">\n",
       "  <thead>\n",
       "    <tr style=\"text-align: right;\">\n",
       "      <th></th>\n",
       "      <th>id_subestacao</th>\n",
       "      <th>consumo_medio_mensal</th>\n",
       "      <th>temperatura_maxima</th>\n",
       "      <th>temperatura_minima</th>\n",
       "      <th>classe_cliente</th>\n",
       "      <th>local_medidor_comercial</th>\n",
       "      <th>local_medidor_industrial</th>\n",
       "      <th>local_medidor_residencial</th>\n",
       "      <th>tipo_medidor_analogico</th>\n",
       "      <th>tipo_medidor_digital</th>\n",
       "      <th>numero_fases_bifasica</th>\n",
       "      <th>numero_fases_monofasica</th>\n",
       "      <th>numero_fases_trifasica</th>\n",
       "    </tr>\n",
       "  </thead>\n",
       "  <tbody>\n",
       "    <tr>\n",
       "      <th>0</th>\n",
       "      <td>14</td>\n",
       "      <td>293</td>\n",
       "      <td>42</td>\n",
       "      <td>10</td>\n",
       "      <td>0</td>\n",
       "      <td>1.00</td>\n",
       "      <td>0.00</td>\n",
       "      <td>0.00</td>\n",
       "      <td>0.00</td>\n",
       "      <td>1.00</td>\n",
       "      <td>0.00</td>\n",
       "      <td>1.00</td>\n",
       "      <td>0.00</td>\n",
       "    </tr>\n",
       "    <tr>\n",
       "      <th>1</th>\n",
       "      <td>30</td>\n",
       "      <td>190</td>\n",
       "      <td>36</td>\n",
       "      <td>13</td>\n",
       "      <td>0</td>\n",
       "      <td>0.00</td>\n",
       "      <td>0.00</td>\n",
       "      <td>1.00</td>\n",
       "      <td>0.00</td>\n",
       "      <td>1.00</td>\n",
       "      <td>0.00</td>\n",
       "      <td>0.00</td>\n",
       "      <td>1.00</td>\n",
       "    </tr>\n",
       "    <tr>\n",
       "      <th>2</th>\n",
       "      <td>38</td>\n",
       "      <td>399</td>\n",
       "      <td>31</td>\n",
       "      <td>14</td>\n",
       "      <td>0</td>\n",
       "      <td>0.00</td>\n",
       "      <td>0.00</td>\n",
       "      <td>1.00</td>\n",
       "      <td>0.00</td>\n",
       "      <td>1.00</td>\n",
       "      <td>1.00</td>\n",
       "      <td>0.00</td>\n",
       "      <td>0.00</td>\n",
       "    </tr>\n",
       "    <tr>\n",
       "      <th>3</th>\n",
       "      <td>40</td>\n",
       "      <td>307</td>\n",
       "      <td>45</td>\n",
       "      <td>11</td>\n",
       "      <td>0</td>\n",
       "      <td>0.00</td>\n",
       "      <td>0.00</td>\n",
       "      <td>1.00</td>\n",
       "      <td>1.00</td>\n",
       "      <td>0.00</td>\n",
       "      <td>0.00</td>\n",
       "      <td>1.00</td>\n",
       "      <td>0.00</td>\n",
       "    </tr>\n",
       "    <tr>\n",
       "      <th>4</th>\n",
       "      <td>15</td>\n",
       "      <td>407</td>\n",
       "      <td>39</td>\n",
       "      <td>19</td>\n",
       "      <td>0</td>\n",
       "      <td>0.00</td>\n",
       "      <td>0.00</td>\n",
       "      <td>1.00</td>\n",
       "      <td>0.00</td>\n",
       "      <td>1.00</td>\n",
       "      <td>0.00</td>\n",
       "      <td>0.00</td>\n",
       "      <td>1.00</td>\n",
       "    </tr>\n",
       "  </tbody>\n",
       "</table>\n",
       "</div>"
      ],
      "text/plain": [
       "   id_subestacao  consumo_medio_mensal  temperatura_maxima  \\\n",
       "0             14                   293                  42   \n",
       "1             30                   190                  36   \n",
       "2             38                   399                  31   \n",
       "3             40                   307                  45   \n",
       "4             15                   407                  39   \n",
       "\n",
       "   temperatura_minima  classe_cliente  local_medidor_comercial  \\\n",
       "0                  10               0                     1.00   \n",
       "1                  13               0                     0.00   \n",
       "2                  14               0                     0.00   \n",
       "3                  11               0                     0.00   \n",
       "4                  19               0                     0.00   \n",
       "\n",
       "   local_medidor_industrial  local_medidor_residencial  \\\n",
       "0                      0.00                       0.00   \n",
       "1                      0.00                       1.00   \n",
       "2                      0.00                       1.00   \n",
       "3                      0.00                       1.00   \n",
       "4                      0.00                       1.00   \n",
       "\n",
       "   tipo_medidor_analogico  tipo_medidor_digital  numero_fases_bifasica  \\\n",
       "0                    0.00                  1.00                   0.00   \n",
       "1                    0.00                  1.00                   0.00   \n",
       "2                    0.00                  1.00                   1.00   \n",
       "3                    1.00                  0.00                   0.00   \n",
       "4                    0.00                  1.00                   0.00   \n",
       "\n",
       "   numero_fases_monofasica  numero_fases_trifasica  \n",
       "0                     1.00                    0.00  \n",
       "1                     0.00                    1.00  \n",
       "2                     0.00                    0.00  \n",
       "3                     1.00                    0.00  \n",
       "4                     0.00                    1.00  "
      ]
     },
     "execution_count": 15,
     "metadata": {},
     "output_type": "execute_result"
    }
   ],
   "source": [
    "# One Hot Encoding nas variáveis categóricas (conversão do DataFrame para formato wide)\n",
    "\n",
    "from sklearn.preprocessing import OneHotEncoder\n",
    "\n",
    "cols = categorical.columns.tolist()\n",
    "\n",
    "# Converte colunas para int64\n",
    "for col in categorical.columns.tolist():\n",
    "    dataset[col] = dataset[col].astype(str) # Converte para categórico\n",
    "\n",
    "dataset_modified2 = dataset.copy()\n",
    "    \n",
    "for col in cols[:-1]:\n",
    "    ohe = OneHotEncoder().fit(dataset_modified2[col].values.reshape(-1,1))\n",
    "    ohe_cols = list(map(lambda val: col + '_' + str(val), ohe.categories_[0]))\n",
    "    print(ohe_cols)\n",
    "    ohe_frame = pd.DataFrame(ohe.transform(dataset_modified2[col].values.reshape(-1,1)).toarray(), columns = ohe_cols)\n",
    "    dataset_modified2 = pd.concat([dataset_modified2, ohe_frame], join = 'inner', axis = 1)\n",
    "    dataset_modified2.drop(columns = {col}, inplace = True)\n",
    "# Mapear classe target para binário\n",
    "dataset_modified2['classe_cliente'] = dataset_modified2['classe_cliente'].map(lambda x: 1 if x == 'fraudador' else 0)\n",
    "dataset_modified2.head()"
   ]
  },
  {
   "cell_type": "code",
   "execution_count": 16,
   "metadata": {},
   "outputs": [
    {
     "data": {
      "text/html": [
       "<style  type=\"text/css\" >\n",
       "    #T_80eaf4ea_8baa_11ec_98c4_d4d2527bf86crow0_col0 {\n",
       "            background-color:  #b40426;\n",
       "            color:  #f1f1f1;\n",
       "        }    #T_80eaf4ea_8baa_11ec_98c4_d4d2527bf86crow0_col1 {\n",
       "            background-color:  #3d50c3;\n",
       "            color:  #f1f1f1;\n",
       "        }    #T_80eaf4ea_8baa_11ec_98c4_d4d2527bf86crow0_col2 {\n",
       "            background-color:  #3b4cc0;\n",
       "            color:  #f1f1f1;\n",
       "        }    #T_80eaf4ea_8baa_11ec_98c4_d4d2527bf86crow0_col3 {\n",
       "            background-color:  #8badfd;\n",
       "            color:  #000000;\n",
       "        }    #T_80eaf4ea_8baa_11ec_98c4_d4d2527bf86crow0_col4 {\n",
       "            background-color:  #b7cff9;\n",
       "            color:  #000000;\n",
       "        }    #T_80eaf4ea_8baa_11ec_98c4_d4d2527bf86crow0_col5 {\n",
       "            background-color:  #b3cdfb;\n",
       "            color:  #000000;\n",
       "        }    #T_80eaf4ea_8baa_11ec_98c4_d4d2527bf86crow0_col6 {\n",
       "            background-color:  #aec9fc;\n",
       "            color:  #000000;\n",
       "        }    #T_80eaf4ea_8baa_11ec_98c4_d4d2527bf86crow0_col7 {\n",
       "            background-color:  #dedcdb;\n",
       "            color:  #000000;\n",
       "        }    #T_80eaf4ea_8baa_11ec_98c4_d4d2527bf86crow0_col8 {\n",
       "            background-color:  #dbdcde;\n",
       "            color:  #000000;\n",
       "        }    #T_80eaf4ea_8baa_11ec_98c4_d4d2527bf86crow0_col9 {\n",
       "            background-color:  #a9c6fd;\n",
       "            color:  #000000;\n",
       "        }    #T_80eaf4ea_8baa_11ec_98c4_d4d2527bf86crow0_col10 {\n",
       "            background-color:  #aec9fc;\n",
       "            color:  #000000;\n",
       "        }    #T_80eaf4ea_8baa_11ec_98c4_d4d2527bf86crow0_col11 {\n",
       "            background-color:  #a9c6fd;\n",
       "            color:  #000000;\n",
       "        }    #T_80eaf4ea_8baa_11ec_98c4_d4d2527bf86crow1_col0 {\n",
       "            background-color:  #4055c8;\n",
       "            color:  #f1f1f1;\n",
       "        }    #T_80eaf4ea_8baa_11ec_98c4_d4d2527bf86crow1_col1 {\n",
       "            background-color:  #b40426;\n",
       "            color:  #f1f1f1;\n",
       "        }    #T_80eaf4ea_8baa_11ec_98c4_d4d2527bf86crow1_col2 {\n",
       "            background-color:  #3c4ec2;\n",
       "            color:  #f1f1f1;\n",
       "        }    #T_80eaf4ea_8baa_11ec_98c4_d4d2527bf86crow1_col3 {\n",
       "            background-color:  #5875e1;\n",
       "            color:  #000000;\n",
       "        }    #T_80eaf4ea_8baa_11ec_98c4_d4d2527bf86crow1_col4 {\n",
       "            background-color:  #b9d0f9;\n",
       "            color:  #000000;\n",
       "        }    #T_80eaf4ea_8baa_11ec_98c4_d4d2527bf86crow1_col5 {\n",
       "            background-color:  #b7cff9;\n",
       "            color:  #000000;\n",
       "        }    #T_80eaf4ea_8baa_11ec_98c4_d4d2527bf86crow1_col6 {\n",
       "            background-color:  #a9c6fd;\n",
       "            color:  #000000;\n",
       "        }    #T_80eaf4ea_8baa_11ec_98c4_d4d2527bf86crow1_col7 {\n",
       "            background-color:  #dddcdc;\n",
       "            color:  #000000;\n",
       "        }    #T_80eaf4ea_8baa_11ec_98c4_d4d2527bf86crow1_col8 {\n",
       "            background-color:  #dcdddd;\n",
       "            color:  #000000;\n",
       "        }    #T_80eaf4ea_8baa_11ec_98c4_d4d2527bf86crow1_col9 {\n",
       "            background-color:  #a9c6fd;\n",
       "            color:  #000000;\n",
       "        }    #T_80eaf4ea_8baa_11ec_98c4_d4d2527bf86crow1_col10 {\n",
       "            background-color:  #abc8fd;\n",
       "            color:  #000000;\n",
       "        }    #T_80eaf4ea_8baa_11ec_98c4_d4d2527bf86crow1_col11 {\n",
       "            background-color:  #aac7fd;\n",
       "            color:  #000000;\n",
       "        }    #T_80eaf4ea_8baa_11ec_98c4_d4d2527bf86crow2_col0 {\n",
       "            background-color:  #4055c8;\n",
       "            color:  #f1f1f1;\n",
       "        }    #T_80eaf4ea_8baa_11ec_98c4_d4d2527bf86crow2_col1 {\n",
       "            background-color:  #3d50c3;\n",
       "            color:  #f1f1f1;\n",
       "        }    #T_80eaf4ea_8baa_11ec_98c4_d4d2527bf86crow2_col2 {\n",
       "            background-color:  #b40426;\n",
       "            color:  #f1f1f1;\n",
       "        }    #T_80eaf4ea_8baa_11ec_98c4_d4d2527bf86crow2_col3 {\n",
       "            background-color:  #5875e1;\n",
       "            color:  #000000;\n",
       "        }    #T_80eaf4ea_8baa_11ec_98c4_d4d2527bf86crow2_col4 {\n",
       "            background-color:  #b7cff9;\n",
       "            color:  #000000;\n",
       "        }    #T_80eaf4ea_8baa_11ec_98c4_d4d2527bf86crow2_col5 {\n",
       "            background-color:  #b7cff9;\n",
       "            color:  #000000;\n",
       "        }    #T_80eaf4ea_8baa_11ec_98c4_d4d2527bf86crow2_col6 {\n",
       "            background-color:  #a9c6fd;\n",
       "            color:  #000000;\n",
       "        }    #T_80eaf4ea_8baa_11ec_98c4_d4d2527bf86crow2_col7 {\n",
       "            background-color:  #dddcdc;\n",
       "            color:  #000000;\n",
       "        }    #T_80eaf4ea_8baa_11ec_98c4_d4d2527bf86crow2_col8 {\n",
       "            background-color:  #dcdddd;\n",
       "            color:  #000000;\n",
       "        }    #T_80eaf4ea_8baa_11ec_98c4_d4d2527bf86crow2_col9 {\n",
       "            background-color:  #aac7fd;\n",
       "            color:  #000000;\n",
       "        }    #T_80eaf4ea_8baa_11ec_98c4_d4d2527bf86crow2_col10 {\n",
       "            background-color:  #aac7fd;\n",
       "            color:  #000000;\n",
       "        }    #T_80eaf4ea_8baa_11ec_98c4_d4d2527bf86crow2_col11 {\n",
       "            background-color:  #aac7fd;\n",
       "            color:  #000000;\n",
       "        }    #T_80eaf4ea_8baa_11ec_98c4_d4d2527bf86crow3_col0 {\n",
       "            background-color:  #7597f6;\n",
       "            color:  #000000;\n",
       "        }    #T_80eaf4ea_8baa_11ec_98c4_d4d2527bf86crow3_col1 {\n",
       "            background-color:  #3c4ec2;\n",
       "            color:  #f1f1f1;\n",
       "        }    #T_80eaf4ea_8baa_11ec_98c4_d4d2527bf86crow3_col2 {\n",
       "            background-color:  #3c4ec2;\n",
       "            color:  #f1f1f1;\n",
       "        }    #T_80eaf4ea_8baa_11ec_98c4_d4d2527bf86crow3_col3 {\n",
       "            background-color:  #b40426;\n",
       "            color:  #f1f1f1;\n",
       "        }    #T_80eaf4ea_8baa_11ec_98c4_d4d2527bf86crow3_col4 {\n",
       "            background-color:  #b5cdfa;\n",
       "            color:  #000000;\n",
       "        }    #T_80eaf4ea_8baa_11ec_98c4_d4d2527bf86crow3_col5 {\n",
       "            background-color:  #a2c1ff;\n",
       "            color:  #000000;\n",
       "        }    #T_80eaf4ea_8baa_11ec_98c4_d4d2527bf86crow3_col6 {\n",
       "            background-color:  #c5d6f2;\n",
       "            color:  #000000;\n",
       "        }    #T_80eaf4ea_8baa_11ec_98c4_d4d2527bf86crow3_col7 {\n",
       "            background-color:  #e6d7cf;\n",
       "            color:  #000000;\n",
       "        }    #T_80eaf4ea_8baa_11ec_98c4_d4d2527bf86crow3_col8 {\n",
       "            background-color:  #d3dbe7;\n",
       "            color:  #000000;\n",
       "        }    #T_80eaf4ea_8baa_11ec_98c4_d4d2527bf86crow3_col9 {\n",
       "            background-color:  #a5c3fe;\n",
       "            color:  #000000;\n",
       "        }    #T_80eaf4ea_8baa_11ec_98c4_d4d2527bf86crow3_col10 {\n",
       "            background-color:  #bed2f6;\n",
       "            color:  #000000;\n",
       "        }    #T_80eaf4ea_8baa_11ec_98c4_d4d2527bf86crow3_col11 {\n",
       "            background-color:  #9dbdff;\n",
       "            color:  #000000;\n",
       "        }    #T_80eaf4ea_8baa_11ec_98c4_d4d2527bf86crow4_col0 {\n",
       "            background-color:  #3f53c6;\n",
       "            color:  #f1f1f1;\n",
       "        }    #T_80eaf4ea_8baa_11ec_98c4_d4d2527bf86crow4_col1 {\n",
       "            background-color:  #3c4ec2;\n",
       "            color:  #f1f1f1;\n",
       "        }    #T_80eaf4ea_8baa_11ec_98c4_d4d2527bf86crow4_col2 {\n",
       "            background-color:  #3b4cc0;\n",
       "            color:  #f1f1f1;\n",
       "        }    #T_80eaf4ea_8baa_11ec_98c4_d4d2527bf86crow4_col3 {\n",
       "            background-color:  #5470de;\n",
       "            color:  #000000;\n",
       "        }    #T_80eaf4ea_8baa_11ec_98c4_d4d2527bf86crow4_col4 {\n",
       "            background-color:  #b40426;\n",
       "            color:  #f1f1f1;\n",
       "        }    #T_80eaf4ea_8baa_11ec_98c4_d4d2527bf86crow4_col5 {\n",
       "            background-color:  #3b4cc0;\n",
       "            color:  #f1f1f1;\n",
       "        }    #T_80eaf4ea_8baa_11ec_98c4_d4d2527bf86crow4_col6 {\n",
       "            background-color:  #4b64d5;\n",
       "            color:  #f1f1f1;\n",
       "        }    #T_80eaf4ea_8baa_11ec_98c4_d4d2527bf86crow4_col7 {\n",
       "            background-color:  #dfdbd9;\n",
       "            color:  #000000;\n",
       "        }    #T_80eaf4ea_8baa_11ec_98c4_d4d2527bf86crow4_col8 {\n",
       "            background-color:  #dadce0;\n",
       "            color:  #000000;\n",
       "        }    #T_80eaf4ea_8baa_11ec_98c4_d4d2527bf86crow4_col9 {\n",
       "            background-color:  #aac7fd;\n",
       "            color:  #000000;\n",
       "        }    #T_80eaf4ea_8baa_11ec_98c4_d4d2527bf86crow4_col10 {\n",
       "            background-color:  #aac7fd;\n",
       "            color:  #000000;\n",
       "        }    #T_80eaf4ea_8baa_11ec_98c4_d4d2527bf86crow4_col11 {\n",
       "            background-color:  #abc8fd;\n",
       "            color:  #000000;\n",
       "        }    #T_80eaf4ea_8baa_11ec_98c4_d4d2527bf86crow5_col0 {\n",
       "            background-color:  #3b4cc0;\n",
       "            color:  #f1f1f1;\n",
       "        }    #T_80eaf4ea_8baa_11ec_98c4_d4d2527bf86crow5_col1 {\n",
       "            background-color:  #3b4cc0;\n",
       "            color:  #f1f1f1;\n",
       "        }    #T_80eaf4ea_8baa_11ec_98c4_d4d2527bf86crow5_col2 {\n",
       "            background-color:  #3b4cc0;\n",
       "            color:  #f1f1f1;\n",
       "        }    #T_80eaf4ea_8baa_11ec_98c4_d4d2527bf86crow5_col3 {\n",
       "            background-color:  #3b4cc0;\n",
       "            color:  #f1f1f1;\n",
       "        }    #T_80eaf4ea_8baa_11ec_98c4_d4d2527bf86crow5_col4 {\n",
       "            background-color:  #3b4cc0;\n",
       "            color:  #f1f1f1;\n",
       "        }    #T_80eaf4ea_8baa_11ec_98c4_d4d2527bf86crow5_col5 {\n",
       "            background-color:  #b40426;\n",
       "            color:  #f1f1f1;\n",
       "        }    #T_80eaf4ea_8baa_11ec_98c4_d4d2527bf86crow5_col6 {\n",
       "            background-color:  #3b4cc0;\n",
       "            color:  #f1f1f1;\n",
       "        }    #T_80eaf4ea_8baa_11ec_98c4_d4d2527bf86crow5_col7 {\n",
       "            background-color:  #d8dce2;\n",
       "            color:  #000000;\n",
       "        }    #T_80eaf4ea_8baa_11ec_98c4_d4d2527bf86crow5_col8 {\n",
       "            background-color:  #e1dad6;\n",
       "            color:  #000000;\n",
       "        }    #T_80eaf4ea_8baa_11ec_98c4_d4d2527bf86crow5_col9 {\n",
       "            background-color:  #aac7fd;\n",
       "            color:  #000000;\n",
       "        }    #T_80eaf4ea_8baa_11ec_98c4_d4d2527bf86crow5_col10 {\n",
       "            background-color:  #a9c6fd;\n",
       "            color:  #000000;\n",
       "        }    #T_80eaf4ea_8baa_11ec_98c4_d4d2527bf86crow5_col11 {\n",
       "            background-color:  #abc8fd;\n",
       "            color:  #000000;\n",
       "        }    #T_80eaf4ea_8baa_11ec_98c4_d4d2527bf86crow6_col0 {\n",
       "            background-color:  #465ecf;\n",
       "            color:  #f1f1f1;\n",
       "        }    #T_80eaf4ea_8baa_11ec_98c4_d4d2527bf86crow6_col1 {\n",
       "            background-color:  #3c4ec2;\n",
       "            color:  #f1f1f1;\n",
       "        }    #T_80eaf4ea_8baa_11ec_98c4_d4d2527bf86crow6_col2 {\n",
       "            background-color:  #3b4cc0;\n",
       "            color:  #f1f1f1;\n",
       "        }    #T_80eaf4ea_8baa_11ec_98c4_d4d2527bf86crow6_col3 {\n",
       "            background-color:  #80a3fa;\n",
       "            color:  #000000;\n",
       "        }    #T_80eaf4ea_8baa_11ec_98c4_d4d2527bf86crow6_col4 {\n",
       "            background-color:  #5f7fe8;\n",
       "            color:  #000000;\n",
       "        }    #T_80eaf4ea_8baa_11ec_98c4_d4d2527bf86crow6_col5 {\n",
       "            background-color:  #4f69d9;\n",
       "            color:  #000000;\n",
       "        }    #T_80eaf4ea_8baa_11ec_98c4_d4d2527bf86crow6_col6 {\n",
       "            background-color:  #b40426;\n",
       "            color:  #f1f1f1;\n",
       "        }    #T_80eaf4ea_8baa_11ec_98c4_d4d2527bf86crow6_col7 {\n",
       "            background-color:  #e0dbd8;\n",
       "            color:  #000000;\n",
       "        }    #T_80eaf4ea_8baa_11ec_98c4_d4d2527bf86crow6_col8 {\n",
       "            background-color:  #d9dce1;\n",
       "            color:  #000000;\n",
       "        }    #T_80eaf4ea_8baa_11ec_98c4_d4d2527bf86crow6_col9 {\n",
       "            background-color:  #a9c6fd;\n",
       "            color:  #000000;\n",
       "        }    #T_80eaf4ea_8baa_11ec_98c4_d4d2527bf86crow6_col10 {\n",
       "            background-color:  #adc9fd;\n",
       "            color:  #000000;\n",
       "        }    #T_80eaf4ea_8baa_11ec_98c4_d4d2527bf86crow6_col11 {\n",
       "            background-color:  #a9c6fd;\n",
       "            color:  #000000;\n",
       "        }    #T_80eaf4ea_8baa_11ec_98c4_d4d2527bf86crow7_col0 {\n",
       "            background-color:  #445acc;\n",
       "            color:  #f1f1f1;\n",
       "        }    #T_80eaf4ea_8baa_11ec_98c4_d4d2527bf86crow7_col1 {\n",
       "            background-color:  #3d50c3;\n",
       "            color:  #f1f1f1;\n",
       "        }    #T_80eaf4ea_8baa_11ec_98c4_d4d2527bf86crow7_col2 {\n",
       "            background-color:  #3b4cc0;\n",
       "            color:  #f1f1f1;\n",
       "        }    #T_80eaf4ea_8baa_11ec_98c4_d4d2527bf86crow7_col3 {\n",
       "            background-color:  #6c8ff1;\n",
       "            color:  #000000;\n",
       "        }    #T_80eaf4ea_8baa_11ec_98c4_d4d2527bf86crow7_col4 {\n",
       "            background-color:  #bbd1f8;\n",
       "            color:  #000000;\n",
       "        }    #T_80eaf4ea_8baa_11ec_98c4_d4d2527bf86crow7_col5 {\n",
       "            background-color:  #afcafc;\n",
       "            color:  #000000;\n",
       "        }    #T_80eaf4ea_8baa_11ec_98c4_d4d2527bf86crow7_col6 {\n",
       "            background-color:  #aec9fc;\n",
       "            color:  #000000;\n",
       "        }    #T_80eaf4ea_8baa_11ec_98c4_d4d2527bf86crow7_col7 {\n",
       "            background-color:  #b40426;\n",
       "            color:  #f1f1f1;\n",
       "        }    #T_80eaf4ea_8baa_11ec_98c4_d4d2527bf86crow7_col8 {\n",
       "            background-color:  #3b4cc0;\n",
       "            color:  #f1f1f1;\n",
       "        }    #T_80eaf4ea_8baa_11ec_98c4_d4d2527bf86crow7_col9 {\n",
       "            background-color:  #a9c6fd;\n",
       "            color:  #000000;\n",
       "        }    #T_80eaf4ea_8baa_11ec_98c4_d4d2527bf86crow7_col10 {\n",
       "            background-color:  #adc9fd;\n",
       "            color:  #000000;\n",
       "        }    #T_80eaf4ea_8baa_11ec_98c4_d4d2527bf86crow7_col11 {\n",
       "            background-color:  #aac7fd;\n",
       "            color:  #000000;\n",
       "        }    #T_80eaf4ea_8baa_11ec_98c4_d4d2527bf86crow8_col0 {\n",
       "            background-color:  #3c4ec2;\n",
       "            color:  #f1f1f1;\n",
       "        }    #T_80eaf4ea_8baa_11ec_98c4_d4d2527bf86crow8_col1 {\n",
       "            background-color:  #3b4cc0;\n",
       "            color:  #f1f1f1;\n",
       "        }    #T_80eaf4ea_8baa_11ec_98c4_d4d2527bf86crow8_col2 {\n",
       "            background-color:  #3b4cc0;\n",
       "            color:  #f1f1f1;\n",
       "        }    #T_80eaf4ea_8baa_11ec_98c4_d4d2527bf86crow8_col3 {\n",
       "            background-color:  #4358cb;\n",
       "            color:  #f1f1f1;\n",
       "        }    #T_80eaf4ea_8baa_11ec_98c4_d4d2527bf86crow8_col4 {\n",
       "            background-color:  #b5cdfa;\n",
       "            color:  #000000;\n",
       "        }    #T_80eaf4ea_8baa_11ec_98c4_d4d2527bf86crow8_col5 {\n",
       "            background-color:  #bfd3f6;\n",
       "            color:  #000000;\n",
       "        }    #T_80eaf4ea_8baa_11ec_98c4_d4d2527bf86crow8_col6 {\n",
       "            background-color:  #a3c2fe;\n",
       "            color:  #000000;\n",
       "        }    #T_80eaf4ea_8baa_11ec_98c4_d4d2527bf86crow8_col7 {\n",
       "            background-color:  #3b4cc0;\n",
       "            color:  #f1f1f1;\n",
       "        }    #T_80eaf4ea_8baa_11ec_98c4_d4d2527bf86crow8_col8 {\n",
       "            background-color:  #b40426;\n",
       "            color:  #f1f1f1;\n",
       "        }    #T_80eaf4ea_8baa_11ec_98c4_d4d2527bf86crow8_col9 {\n",
       "            background-color:  #abc8fd;\n",
       "            color:  #000000;\n",
       "        }    #T_80eaf4ea_8baa_11ec_98c4_d4d2527bf86crow8_col10 {\n",
       "            background-color:  #a9c6fd;\n",
       "            color:  #000000;\n",
       "        }    #T_80eaf4ea_8baa_11ec_98c4_d4d2527bf86crow8_col11 {\n",
       "            background-color:  #abc8fd;\n",
       "            color:  #000000;\n",
       "        }    #T_80eaf4ea_8baa_11ec_98c4_d4d2527bf86crow9_col0 {\n",
       "            background-color:  #3e51c5;\n",
       "            color:  #f1f1f1;\n",
       "        }    #T_80eaf4ea_8baa_11ec_98c4_d4d2527bf86crow9_col1 {\n",
       "            background-color:  #3b4cc0;\n",
       "            color:  #f1f1f1;\n",
       "        }    #T_80eaf4ea_8baa_11ec_98c4_d4d2527bf86crow9_col2 {\n",
       "            background-color:  #3c4ec2;\n",
       "            color:  #f1f1f1;\n",
       "        }    #T_80eaf4ea_8baa_11ec_98c4_d4d2527bf86crow9_col3 {\n",
       "            background-color:  #516ddb;\n",
       "            color:  #000000;\n",
       "        }    #T_80eaf4ea_8baa_11ec_98c4_d4d2527bf86crow9_col4 {\n",
       "            background-color:  #b7cff9;\n",
       "            color:  #000000;\n",
       "        }    #T_80eaf4ea_8baa_11ec_98c4_d4d2527bf86crow9_col5 {\n",
       "            background-color:  #b9d0f9;\n",
       "            color:  #000000;\n",
       "        }    #T_80eaf4ea_8baa_11ec_98c4_d4d2527bf86crow9_col6 {\n",
       "            background-color:  #a7c5fe;\n",
       "            color:  #000000;\n",
       "        }    #T_80eaf4ea_8baa_11ec_98c4_d4d2527bf86crow9_col7 {\n",
       "            background-color:  #dcdddd;\n",
       "            color:  #000000;\n",
       "        }    #T_80eaf4ea_8baa_11ec_98c4_d4d2527bf86crow9_col8 {\n",
       "            background-color:  #dddcdc;\n",
       "            color:  #000000;\n",
       "        }    #T_80eaf4ea_8baa_11ec_98c4_d4d2527bf86crow9_col9 {\n",
       "            background-color:  #b40426;\n",
       "            color:  #f1f1f1;\n",
       "        }    #T_80eaf4ea_8baa_11ec_98c4_d4d2527bf86crow9_col10 {\n",
       "            background-color:  #3c4ec2;\n",
       "            color:  #f1f1f1;\n",
       "        }    #T_80eaf4ea_8baa_11ec_98c4_d4d2527bf86crow9_col11 {\n",
       "            background-color:  #3c4ec2;\n",
       "            color:  #f1f1f1;\n",
       "        }    #T_80eaf4ea_8baa_11ec_98c4_d4d2527bf86crow10_col0 {\n",
       "            background-color:  #445acc;\n",
       "            color:  #f1f1f1;\n",
       "        }    #T_80eaf4ea_8baa_11ec_98c4_d4d2527bf86crow10_col1 {\n",
       "            background-color:  #3d50c3;\n",
       "            color:  #f1f1f1;\n",
       "        }    #T_80eaf4ea_8baa_11ec_98c4_d4d2527bf86crow10_col2 {\n",
       "            background-color:  #3b4cc0;\n",
       "            color:  #f1f1f1;\n",
       "        }    #T_80eaf4ea_8baa_11ec_98c4_d4d2527bf86crow10_col3 {\n",
       "            background-color:  #7093f3;\n",
       "            color:  #000000;\n",
       "        }    #T_80eaf4ea_8baa_11ec_98c4_d4d2527bf86crow10_col4 {\n",
       "            background-color:  #b7cff9;\n",
       "            color:  #000000;\n",
       "        }    #T_80eaf4ea_8baa_11ec_98c4_d4d2527bf86crow10_col5 {\n",
       "            background-color:  #b6cefa;\n",
       "            color:  #000000;\n",
       "        }    #T_80eaf4ea_8baa_11ec_98c4_d4d2527bf86crow10_col6 {\n",
       "            background-color:  #abc8fd;\n",
       "            color:  #000000;\n",
       "        }    #T_80eaf4ea_8baa_11ec_98c4_d4d2527bf86crow10_col7 {\n",
       "            background-color:  #dedcdb;\n",
       "            color:  #000000;\n",
       "        }    #T_80eaf4ea_8baa_11ec_98c4_d4d2527bf86crow10_col8 {\n",
       "            background-color:  #dbdcde;\n",
       "            color:  #000000;\n",
       "        }    #T_80eaf4ea_8baa_11ec_98c4_d4d2527bf86crow10_col9 {\n",
       "            background-color:  #3b4cc0;\n",
       "            color:  #f1f1f1;\n",
       "        }    #T_80eaf4ea_8baa_11ec_98c4_d4d2527bf86crow10_col10 {\n",
       "            background-color:  #b40426;\n",
       "            color:  #f1f1f1;\n",
       "        }    #T_80eaf4ea_8baa_11ec_98c4_d4d2527bf86crow10_col11 {\n",
       "            background-color:  #3b4cc0;\n",
       "            color:  #f1f1f1;\n",
       "        }    #T_80eaf4ea_8baa_11ec_98c4_d4d2527bf86crow11_col0 {\n",
       "            background-color:  #3d50c3;\n",
       "            color:  #f1f1f1;\n",
       "        }    #T_80eaf4ea_8baa_11ec_98c4_d4d2527bf86crow11_col1 {\n",
       "            background-color:  #3b4cc0;\n",
       "            color:  #f1f1f1;\n",
       "        }    #T_80eaf4ea_8baa_11ec_98c4_d4d2527bf86crow11_col2 {\n",
       "            background-color:  #3b4cc0;\n",
       "            color:  #f1f1f1;\n",
       "        }    #T_80eaf4ea_8baa_11ec_98c4_d4d2527bf86crow11_col3 {\n",
       "            background-color:  #455cce;\n",
       "            color:  #f1f1f1;\n",
       "        }    #T_80eaf4ea_8baa_11ec_98c4_d4d2527bf86crow11_col4 {\n",
       "            background-color:  #b9d0f9;\n",
       "            color:  #000000;\n",
       "        }    #T_80eaf4ea_8baa_11ec_98c4_d4d2527bf86crow11_col5 {\n",
       "            background-color:  #b9d0f9;\n",
       "            color:  #000000;\n",
       "        }    #T_80eaf4ea_8baa_11ec_98c4_d4d2527bf86crow11_col6 {\n",
       "            background-color:  #a6c4fe;\n",
       "            color:  #000000;\n",
       "        }    #T_80eaf4ea_8baa_11ec_98c4_d4d2527bf86crow11_col7 {\n",
       "            background-color:  #dcdddd;\n",
       "            color:  #000000;\n",
       "        }    #T_80eaf4ea_8baa_11ec_98c4_d4d2527bf86crow11_col8 {\n",
       "            background-color:  #dddcdc;\n",
       "            color:  #000000;\n",
       "        }    #T_80eaf4ea_8baa_11ec_98c4_d4d2527bf86crow11_col9 {\n",
       "            background-color:  #3b4cc0;\n",
       "            color:  #f1f1f1;\n",
       "        }    #T_80eaf4ea_8baa_11ec_98c4_d4d2527bf86crow11_col10 {\n",
       "            background-color:  #3b4cc0;\n",
       "            color:  #f1f1f1;\n",
       "        }    #T_80eaf4ea_8baa_11ec_98c4_d4d2527bf86crow11_col11 {\n",
       "            background-color:  #b40426;\n",
       "            color:  #f1f1f1;\n",
       "        }</style><table id=\"T_80eaf4ea_8baa_11ec_98c4_d4d2527bf86c\" ><thead>    <tr>        <th class=\"blank level0\" ></th>        <th class=\"col_heading level0 col0\" >consumo_medio_mensal</th>        <th class=\"col_heading level0 col1\" >temperatura_maxima</th>        <th class=\"col_heading level0 col2\" >temperatura_minima</th>        <th class=\"col_heading level0 col3\" >classe_cliente</th>        <th class=\"col_heading level0 col4\" >local_medidor_comercial</th>        <th class=\"col_heading level0 col5\" >local_medidor_industrial</th>        <th class=\"col_heading level0 col6\" >local_medidor_residencial</th>        <th class=\"col_heading level0 col7\" >tipo_medidor_analogico</th>        <th class=\"col_heading level0 col8\" >tipo_medidor_digital</th>        <th class=\"col_heading level0 col9\" >numero_fases_bifasica</th>        <th class=\"col_heading level0 col10\" >numero_fases_monofasica</th>        <th class=\"col_heading level0 col11\" >numero_fases_trifasica</th>    </tr></thead><tbody>\n",
       "                <tr>\n",
       "                        <th id=\"T_80eaf4ea_8baa_11ec_98c4_d4d2527bf86clevel0_row0\" class=\"row_heading level0 row0\" >consumo_medio_mensal</th>\n",
       "                        <td id=\"T_80eaf4ea_8baa_11ec_98c4_d4d2527bf86crow0_col0\" class=\"data row0 col0\" >1.00</td>\n",
       "                        <td id=\"T_80eaf4ea_8baa_11ec_98c4_d4d2527bf86crow0_col1\" class=\"data row0 col1\" >0.00</td>\n",
       "                        <td id=\"T_80eaf4ea_8baa_11ec_98c4_d4d2527bf86crow0_col2\" class=\"data row0 col2\" >0.00</td>\n",
       "                        <td id=\"T_80eaf4ea_8baa_11ec_98c4_d4d2527bf86crow0_col3\" class=\"data row0 col3\" >0.17</td>\n",
       "                        <td id=\"T_80eaf4ea_8baa_11ec_98c4_d4d2527bf86crow0_col4\" class=\"data row0 col4\" >-0.00</td>\n",
       "                        <td id=\"T_80eaf4ea_8baa_11ec_98c4_d4d2527bf86crow0_col5\" class=\"data row0 col5\" >-0.02</td>\n",
       "                        <td id=\"T_80eaf4ea_8baa_11ec_98c4_d4d2527bf86crow0_col6\" class=\"data row0 col6\" >0.02</td>\n",
       "                        <td id=\"T_80eaf4ea_8baa_11ec_98c4_d4d2527bf86crow0_col7\" class=\"data row0 col7\" >0.01</td>\n",
       "                        <td id=\"T_80eaf4ea_8baa_11ec_98c4_d4d2527bf86crow0_col8\" class=\"data row0 col8\" >-0.01</td>\n",
       "                        <td id=\"T_80eaf4ea_8baa_11ec_98c4_d4d2527bf86crow0_col9\" class=\"data row0 col9\" >-0.01</td>\n",
       "                        <td id=\"T_80eaf4ea_8baa_11ec_98c4_d4d2527bf86crow0_col10\" class=\"data row0 col10\" >0.01</td>\n",
       "                        <td id=\"T_80eaf4ea_8baa_11ec_98c4_d4d2527bf86crow0_col11\" class=\"data row0 col11\" >-0.01</td>\n",
       "            </tr>\n",
       "            <tr>\n",
       "                        <th id=\"T_80eaf4ea_8baa_11ec_98c4_d4d2527bf86clevel0_row1\" class=\"row_heading level0 row1\" >temperatura_maxima</th>\n",
       "                        <td id=\"T_80eaf4ea_8baa_11ec_98c4_d4d2527bf86crow1_col0\" class=\"data row1 col0\" >0.00</td>\n",
       "                        <td id=\"T_80eaf4ea_8baa_11ec_98c4_d4d2527bf86crow1_col1\" class=\"data row1 col1\" >1.00</td>\n",
       "                        <td id=\"T_80eaf4ea_8baa_11ec_98c4_d4d2527bf86crow1_col2\" class=\"data row1 col2\" >0.00</td>\n",
       "                        <td id=\"T_80eaf4ea_8baa_11ec_98c4_d4d2527bf86crow1_col3\" class=\"data row1 col3\" >0.00</td>\n",
       "                        <td id=\"T_80eaf4ea_8baa_11ec_98c4_d4d2527bf86crow1_col4\" class=\"data row1 col4\" >0.00</td>\n",
       "                        <td id=\"T_80eaf4ea_8baa_11ec_98c4_d4d2527bf86crow1_col5\" class=\"data row1 col5\" >-0.00</td>\n",
       "                        <td id=\"T_80eaf4ea_8baa_11ec_98c4_d4d2527bf86crow1_col6\" class=\"data row1 col6\" >0.00</td>\n",
       "                        <td id=\"T_80eaf4ea_8baa_11ec_98c4_d4d2527bf86crow1_col7\" class=\"data row1 col7\" >0.00</td>\n",
       "                        <td id=\"T_80eaf4ea_8baa_11ec_98c4_d4d2527bf86crow1_col8\" class=\"data row1 col8\" >-0.00</td>\n",
       "                        <td id=\"T_80eaf4ea_8baa_11ec_98c4_d4d2527bf86crow1_col9\" class=\"data row1 col9\" >-0.00</td>\n",
       "                        <td id=\"T_80eaf4ea_8baa_11ec_98c4_d4d2527bf86crow1_col10\" class=\"data row1 col10\" >0.01</td>\n",
       "                        <td id=\"T_80eaf4ea_8baa_11ec_98c4_d4d2527bf86crow1_col11\" class=\"data row1 col11\" >-0.00</td>\n",
       "            </tr>\n",
       "            <tr>\n",
       "                        <th id=\"T_80eaf4ea_8baa_11ec_98c4_d4d2527bf86clevel0_row2\" class=\"row_heading level0 row2\" >temperatura_minima</th>\n",
       "                        <td id=\"T_80eaf4ea_8baa_11ec_98c4_d4d2527bf86crow2_col0\" class=\"data row2 col0\" >0.00</td>\n",
       "                        <td id=\"T_80eaf4ea_8baa_11ec_98c4_d4d2527bf86crow2_col1\" class=\"data row2 col1\" >0.00</td>\n",
       "                        <td id=\"T_80eaf4ea_8baa_11ec_98c4_d4d2527bf86crow2_col2\" class=\"data row2 col2\" >1.00</td>\n",
       "                        <td id=\"T_80eaf4ea_8baa_11ec_98c4_d4d2527bf86crow2_col3\" class=\"data row2 col3\" >0.00</td>\n",
       "                        <td id=\"T_80eaf4ea_8baa_11ec_98c4_d4d2527bf86crow2_col4\" class=\"data row2 col4\" >0.00</td>\n",
       "                        <td id=\"T_80eaf4ea_8baa_11ec_98c4_d4d2527bf86crow2_col5\" class=\"data row2 col5\" >-0.00</td>\n",
       "                        <td id=\"T_80eaf4ea_8baa_11ec_98c4_d4d2527bf86crow2_col6\" class=\"data row2 col6\" >-0.00</td>\n",
       "                        <td id=\"T_80eaf4ea_8baa_11ec_98c4_d4d2527bf86crow2_col7\" class=\"data row2 col7\" >0.00</td>\n",
       "                        <td id=\"T_80eaf4ea_8baa_11ec_98c4_d4d2527bf86crow2_col8\" class=\"data row2 col8\" >-0.00</td>\n",
       "                        <td id=\"T_80eaf4ea_8baa_11ec_98c4_d4d2527bf86crow2_col9\" class=\"data row2 col9\" >0.00</td>\n",
       "                        <td id=\"T_80eaf4ea_8baa_11ec_98c4_d4d2527bf86crow2_col10\" class=\"data row2 col10\" >-0.00</td>\n",
       "                        <td id=\"T_80eaf4ea_8baa_11ec_98c4_d4d2527bf86crow2_col11\" class=\"data row2 col11\" >-0.00</td>\n",
       "            </tr>\n",
       "            <tr>\n",
       "                        <th id=\"T_80eaf4ea_8baa_11ec_98c4_d4d2527bf86clevel0_row3\" class=\"row_heading level0 row3\" >classe_cliente</th>\n",
       "                        <td id=\"T_80eaf4ea_8baa_11ec_98c4_d4d2527bf86crow3_col0\" class=\"data row3 col0\" >0.17</td>\n",
       "                        <td id=\"T_80eaf4ea_8baa_11ec_98c4_d4d2527bf86crow3_col1\" class=\"data row3 col1\" >0.00</td>\n",
       "                        <td id=\"T_80eaf4ea_8baa_11ec_98c4_d4d2527bf86crow3_col2\" class=\"data row3 col2\" >0.00</td>\n",
       "                        <td id=\"T_80eaf4ea_8baa_11ec_98c4_d4d2527bf86crow3_col3\" class=\"data row3 col3\" >1.00</td>\n",
       "                        <td id=\"T_80eaf4ea_8baa_11ec_98c4_d4d2527bf86crow3_col4\" class=\"data row3 col4\" >-0.01</td>\n",
       "                        <td id=\"T_80eaf4ea_8baa_11ec_98c4_d4d2527bf86crow3_col5\" class=\"data row3 col5\" >-0.10</td>\n",
       "                        <td id=\"T_80eaf4ea_8baa_11ec_98c4_d4d2527bf86crow3_col6\" class=\"data row3 col6\" >0.13</td>\n",
       "                        <td id=\"T_80eaf4ea_8baa_11ec_98c4_d4d2527bf86crow3_col7\" class=\"data row3 col7\" >0.07</td>\n",
       "                        <td id=\"T_80eaf4ea_8baa_11ec_98c4_d4d2527bf86crow3_col8\" class=\"data row3 col8\" >-0.07</td>\n",
       "                        <td id=\"T_80eaf4ea_8baa_11ec_98c4_d4d2527bf86crow3_col9\" class=\"data row3 col9\" >-0.02</td>\n",
       "                        <td id=\"T_80eaf4ea_8baa_11ec_98c4_d4d2527bf86crow3_col10\" class=\"data row3 col10\" >0.08</td>\n",
       "                        <td id=\"T_80eaf4ea_8baa_11ec_98c4_d4d2527bf86crow3_col11\" class=\"data row3 col11\" >-0.06</td>\n",
       "            </tr>\n",
       "            <tr>\n",
       "                        <th id=\"T_80eaf4ea_8baa_11ec_98c4_d4d2527bf86clevel0_row4\" class=\"row_heading level0 row4\" >local_medidor_comercial</th>\n",
       "                        <td id=\"T_80eaf4ea_8baa_11ec_98c4_d4d2527bf86crow4_col0\" class=\"data row4 col0\" >-0.00</td>\n",
       "                        <td id=\"T_80eaf4ea_8baa_11ec_98c4_d4d2527bf86crow4_col1\" class=\"data row4 col1\" >0.00</td>\n",
       "                        <td id=\"T_80eaf4ea_8baa_11ec_98c4_d4d2527bf86crow4_col2\" class=\"data row4 col2\" >0.00</td>\n",
       "                        <td id=\"T_80eaf4ea_8baa_11ec_98c4_d4d2527bf86crow4_col3\" class=\"data row4 col3\" >-0.01</td>\n",
       "                        <td id=\"T_80eaf4ea_8baa_11ec_98c4_d4d2527bf86crow4_col4\" class=\"data row4 col4\" >1.00</td>\n",
       "                        <td id=\"T_80eaf4ea_8baa_11ec_98c4_d4d2527bf86crow4_col5\" class=\"data row4 col5\" >-0.60</td>\n",
       "                        <td id=\"T_80eaf4ea_8baa_11ec_98c4_d4d2527bf86crow4_col6\" class=\"data row4 col6\" >-0.41</td>\n",
       "                        <td id=\"T_80eaf4ea_8baa_11ec_98c4_d4d2527bf86crow4_col7\" class=\"data row4 col7\" >0.02</td>\n",
       "                        <td id=\"T_80eaf4ea_8baa_11ec_98c4_d4d2527bf86crow4_col8\" class=\"data row4 col8\" >-0.02</td>\n",
       "                        <td id=\"T_80eaf4ea_8baa_11ec_98c4_d4d2527bf86crow4_col9\" class=\"data row4 col9\" >0.00</td>\n",
       "                        <td id=\"T_80eaf4ea_8baa_11ec_98c4_d4d2527bf86crow4_col10\" class=\"data row4 col10\" >-0.00</td>\n",
       "                        <td id=\"T_80eaf4ea_8baa_11ec_98c4_d4d2527bf86crow4_col11\" class=\"data row4 col11\" >0.00</td>\n",
       "            </tr>\n",
       "            <tr>\n",
       "                        <th id=\"T_80eaf4ea_8baa_11ec_98c4_d4d2527bf86clevel0_row5\" class=\"row_heading level0 row5\" >local_medidor_industrial</th>\n",
       "                        <td id=\"T_80eaf4ea_8baa_11ec_98c4_d4d2527bf86crow5_col0\" class=\"data row5 col0\" >-0.02</td>\n",
       "                        <td id=\"T_80eaf4ea_8baa_11ec_98c4_d4d2527bf86crow5_col1\" class=\"data row5 col1\" >-0.00</td>\n",
       "                        <td id=\"T_80eaf4ea_8baa_11ec_98c4_d4d2527bf86crow5_col2\" class=\"data row5 col2\" >-0.00</td>\n",
       "                        <td id=\"T_80eaf4ea_8baa_11ec_98c4_d4d2527bf86crow5_col3\" class=\"data row5 col3\" >-0.10</td>\n",
       "                        <td id=\"T_80eaf4ea_8baa_11ec_98c4_d4d2527bf86crow5_col4\" class=\"data row5 col4\" >-0.60</td>\n",
       "                        <td id=\"T_80eaf4ea_8baa_11ec_98c4_d4d2527bf86crow5_col5\" class=\"data row5 col5\" >1.00</td>\n",
       "                        <td id=\"T_80eaf4ea_8baa_11ec_98c4_d4d2527bf86crow5_col6\" class=\"data row5 col6\" >-0.49</td>\n",
       "                        <td id=\"T_80eaf4ea_8baa_11ec_98c4_d4d2527bf86crow5_col7\" class=\"data row5 col7\" >-0.04</td>\n",
       "                        <td id=\"T_80eaf4ea_8baa_11ec_98c4_d4d2527bf86crow5_col8\" class=\"data row5 col8\" >0.04</td>\n",
       "                        <td id=\"T_80eaf4ea_8baa_11ec_98c4_d4d2527bf86crow5_col9\" class=\"data row5 col9\" >0.00</td>\n",
       "                        <td id=\"T_80eaf4ea_8baa_11ec_98c4_d4d2527bf86crow5_col10\" class=\"data row5 col10\" >-0.01</td>\n",
       "                        <td id=\"T_80eaf4ea_8baa_11ec_98c4_d4d2527bf86crow5_col11\" class=\"data row5 col11\" >0.00</td>\n",
       "            </tr>\n",
       "            <tr>\n",
       "                        <th id=\"T_80eaf4ea_8baa_11ec_98c4_d4d2527bf86clevel0_row6\" class=\"row_heading level0 row6\" >local_medidor_residencial</th>\n",
       "                        <td id=\"T_80eaf4ea_8baa_11ec_98c4_d4d2527bf86crow6_col0\" class=\"data row6 col0\" >0.02</td>\n",
       "                        <td id=\"T_80eaf4ea_8baa_11ec_98c4_d4d2527bf86crow6_col1\" class=\"data row6 col1\" >0.00</td>\n",
       "                        <td id=\"T_80eaf4ea_8baa_11ec_98c4_d4d2527bf86crow6_col2\" class=\"data row6 col2\" >-0.00</td>\n",
       "                        <td id=\"T_80eaf4ea_8baa_11ec_98c4_d4d2527bf86crow6_col3\" class=\"data row6 col3\" >0.13</td>\n",
       "                        <td id=\"T_80eaf4ea_8baa_11ec_98c4_d4d2527bf86crow6_col4\" class=\"data row6 col4\" >-0.41</td>\n",
       "                        <td id=\"T_80eaf4ea_8baa_11ec_98c4_d4d2527bf86crow6_col5\" class=\"data row6 col5\" >-0.49</td>\n",
       "                        <td id=\"T_80eaf4ea_8baa_11ec_98c4_d4d2527bf86crow6_col6\" class=\"data row6 col6\" >1.00</td>\n",
       "                        <td id=\"T_80eaf4ea_8baa_11ec_98c4_d4d2527bf86crow6_col7\" class=\"data row6 col7\" >0.02</td>\n",
       "                        <td id=\"T_80eaf4ea_8baa_11ec_98c4_d4d2527bf86crow6_col8\" class=\"data row6 col8\" >-0.02</td>\n",
       "                        <td id=\"T_80eaf4ea_8baa_11ec_98c4_d4d2527bf86crow6_col9\" class=\"data row6 col9\" >-0.00</td>\n",
       "                        <td id=\"T_80eaf4ea_8baa_11ec_98c4_d4d2527bf86crow6_col10\" class=\"data row6 col10\" >0.01</td>\n",
       "                        <td id=\"T_80eaf4ea_8baa_11ec_98c4_d4d2527bf86crow6_col11\" class=\"data row6 col11\" >-0.01</td>\n",
       "            </tr>\n",
       "            <tr>\n",
       "                        <th id=\"T_80eaf4ea_8baa_11ec_98c4_d4d2527bf86clevel0_row7\" class=\"row_heading level0 row7\" >tipo_medidor_analogico</th>\n",
       "                        <td id=\"T_80eaf4ea_8baa_11ec_98c4_d4d2527bf86crow7_col0\" class=\"data row7 col0\" >0.01</td>\n",
       "                        <td id=\"T_80eaf4ea_8baa_11ec_98c4_d4d2527bf86crow7_col1\" class=\"data row7 col1\" >0.00</td>\n",
       "                        <td id=\"T_80eaf4ea_8baa_11ec_98c4_d4d2527bf86crow7_col2\" class=\"data row7 col2\" >0.00</td>\n",
       "                        <td id=\"T_80eaf4ea_8baa_11ec_98c4_d4d2527bf86crow7_col3\" class=\"data row7 col3\" >0.07</td>\n",
       "                        <td id=\"T_80eaf4ea_8baa_11ec_98c4_d4d2527bf86crow7_col4\" class=\"data row7 col4\" >0.02</td>\n",
       "                        <td id=\"T_80eaf4ea_8baa_11ec_98c4_d4d2527bf86crow7_col5\" class=\"data row7 col5\" >-0.04</td>\n",
       "                        <td id=\"T_80eaf4ea_8baa_11ec_98c4_d4d2527bf86crow7_col6\" class=\"data row7 col6\" >0.02</td>\n",
       "                        <td id=\"T_80eaf4ea_8baa_11ec_98c4_d4d2527bf86crow7_col7\" class=\"data row7 col7\" >1.00</td>\n",
       "                        <td id=\"T_80eaf4ea_8baa_11ec_98c4_d4d2527bf86crow7_col8\" class=\"data row7 col8\" >-1.00</td>\n",
       "                        <td id=\"T_80eaf4ea_8baa_11ec_98c4_d4d2527bf86crow7_col9\" class=\"data row7 col9\" >-0.01</td>\n",
       "                        <td id=\"T_80eaf4ea_8baa_11ec_98c4_d4d2527bf86crow7_col10\" class=\"data row7 col10\" >0.01</td>\n",
       "                        <td id=\"T_80eaf4ea_8baa_11ec_98c4_d4d2527bf86crow7_col11\" class=\"data row7 col11\" >-0.00</td>\n",
       "            </tr>\n",
       "            <tr>\n",
       "                        <th id=\"T_80eaf4ea_8baa_11ec_98c4_d4d2527bf86clevel0_row8\" class=\"row_heading level0 row8\" >tipo_medidor_digital</th>\n",
       "                        <td id=\"T_80eaf4ea_8baa_11ec_98c4_d4d2527bf86crow8_col0\" class=\"data row8 col0\" >-0.01</td>\n",
       "                        <td id=\"T_80eaf4ea_8baa_11ec_98c4_d4d2527bf86crow8_col1\" class=\"data row8 col1\" >-0.00</td>\n",
       "                        <td id=\"T_80eaf4ea_8baa_11ec_98c4_d4d2527bf86crow8_col2\" class=\"data row8 col2\" >-0.00</td>\n",
       "                        <td id=\"T_80eaf4ea_8baa_11ec_98c4_d4d2527bf86crow8_col3\" class=\"data row8 col3\" >-0.07</td>\n",
       "                        <td id=\"T_80eaf4ea_8baa_11ec_98c4_d4d2527bf86crow8_col4\" class=\"data row8 col4\" >-0.02</td>\n",
       "                        <td id=\"T_80eaf4ea_8baa_11ec_98c4_d4d2527bf86crow8_col5\" class=\"data row8 col5\" >0.04</td>\n",
       "                        <td id=\"T_80eaf4ea_8baa_11ec_98c4_d4d2527bf86crow8_col6\" class=\"data row8 col6\" >-0.02</td>\n",
       "                        <td id=\"T_80eaf4ea_8baa_11ec_98c4_d4d2527bf86crow8_col7\" class=\"data row8 col7\" >-1.00</td>\n",
       "                        <td id=\"T_80eaf4ea_8baa_11ec_98c4_d4d2527bf86crow8_col8\" class=\"data row8 col8\" >1.00</td>\n",
       "                        <td id=\"T_80eaf4ea_8baa_11ec_98c4_d4d2527bf86crow8_col9\" class=\"data row8 col9\" >0.01</td>\n",
       "                        <td id=\"T_80eaf4ea_8baa_11ec_98c4_d4d2527bf86crow8_col10\" class=\"data row8 col10\" >-0.01</td>\n",
       "                        <td id=\"T_80eaf4ea_8baa_11ec_98c4_d4d2527bf86crow8_col11\" class=\"data row8 col11\" >0.00</td>\n",
       "            </tr>\n",
       "            <tr>\n",
       "                        <th id=\"T_80eaf4ea_8baa_11ec_98c4_d4d2527bf86clevel0_row9\" class=\"row_heading level0 row9\" >numero_fases_bifasica</th>\n",
       "                        <td id=\"T_80eaf4ea_8baa_11ec_98c4_d4d2527bf86crow9_col0\" class=\"data row9 col0\" >-0.01</td>\n",
       "                        <td id=\"T_80eaf4ea_8baa_11ec_98c4_d4d2527bf86crow9_col1\" class=\"data row9 col1\" >-0.00</td>\n",
       "                        <td id=\"T_80eaf4ea_8baa_11ec_98c4_d4d2527bf86crow9_col2\" class=\"data row9 col2\" >0.00</td>\n",
       "                        <td id=\"T_80eaf4ea_8baa_11ec_98c4_d4d2527bf86crow9_col3\" class=\"data row9 col3\" >-0.02</td>\n",
       "                        <td id=\"T_80eaf4ea_8baa_11ec_98c4_d4d2527bf86crow9_col4\" class=\"data row9 col4\" >0.00</td>\n",
       "                        <td id=\"T_80eaf4ea_8baa_11ec_98c4_d4d2527bf86crow9_col5\" class=\"data row9 col5\" >0.00</td>\n",
       "                        <td id=\"T_80eaf4ea_8baa_11ec_98c4_d4d2527bf86crow9_col6\" class=\"data row9 col6\" >-0.00</td>\n",
       "                        <td id=\"T_80eaf4ea_8baa_11ec_98c4_d4d2527bf86crow9_col7\" class=\"data row9 col7\" >-0.01</td>\n",
       "                        <td id=\"T_80eaf4ea_8baa_11ec_98c4_d4d2527bf86crow9_col8\" class=\"data row9 col8\" >0.01</td>\n",
       "                        <td id=\"T_80eaf4ea_8baa_11ec_98c4_d4d2527bf86crow9_col9\" class=\"data row9 col9\" >1.00</td>\n",
       "                        <td id=\"T_80eaf4ea_8baa_11ec_98c4_d4d2527bf86crow9_col10\" class=\"data row9 col10\" >-0.50</td>\n",
       "                        <td id=\"T_80eaf4ea_8baa_11ec_98c4_d4d2527bf86crow9_col11\" class=\"data row9 col11\" >-0.50</td>\n",
       "            </tr>\n",
       "            <tr>\n",
       "                        <th id=\"T_80eaf4ea_8baa_11ec_98c4_d4d2527bf86clevel0_row10\" class=\"row_heading level0 row10\" >numero_fases_monofasica</th>\n",
       "                        <td id=\"T_80eaf4ea_8baa_11ec_98c4_d4d2527bf86crow10_col0\" class=\"data row10 col0\" >0.01</td>\n",
       "                        <td id=\"T_80eaf4ea_8baa_11ec_98c4_d4d2527bf86crow10_col1\" class=\"data row10 col1\" >0.01</td>\n",
       "                        <td id=\"T_80eaf4ea_8baa_11ec_98c4_d4d2527bf86crow10_col2\" class=\"data row10 col2\" >-0.00</td>\n",
       "                        <td id=\"T_80eaf4ea_8baa_11ec_98c4_d4d2527bf86crow10_col3\" class=\"data row10 col3\" >0.08</td>\n",
       "                        <td id=\"T_80eaf4ea_8baa_11ec_98c4_d4d2527bf86crow10_col4\" class=\"data row10 col4\" >-0.00</td>\n",
       "                        <td id=\"T_80eaf4ea_8baa_11ec_98c4_d4d2527bf86crow10_col5\" class=\"data row10 col5\" >-0.01</td>\n",
       "                        <td id=\"T_80eaf4ea_8baa_11ec_98c4_d4d2527bf86crow10_col6\" class=\"data row10 col6\" >0.01</td>\n",
       "                        <td id=\"T_80eaf4ea_8baa_11ec_98c4_d4d2527bf86crow10_col7\" class=\"data row10 col7\" >0.01</td>\n",
       "                        <td id=\"T_80eaf4ea_8baa_11ec_98c4_d4d2527bf86crow10_col8\" class=\"data row10 col8\" >-0.01</td>\n",
       "                        <td id=\"T_80eaf4ea_8baa_11ec_98c4_d4d2527bf86crow10_col9\" class=\"data row10 col9\" >-0.50</td>\n",
       "                        <td id=\"T_80eaf4ea_8baa_11ec_98c4_d4d2527bf86crow10_col10\" class=\"data row10 col10\" >1.00</td>\n",
       "                        <td id=\"T_80eaf4ea_8baa_11ec_98c4_d4d2527bf86crow10_col11\" class=\"data row10 col11\" >-0.51</td>\n",
       "            </tr>\n",
       "            <tr>\n",
       "                        <th id=\"T_80eaf4ea_8baa_11ec_98c4_d4d2527bf86clevel0_row11\" class=\"row_heading level0 row11\" >numero_fases_trifasica</th>\n",
       "                        <td id=\"T_80eaf4ea_8baa_11ec_98c4_d4d2527bf86crow11_col0\" class=\"data row11 col0\" >-0.01</td>\n",
       "                        <td id=\"T_80eaf4ea_8baa_11ec_98c4_d4d2527bf86crow11_col1\" class=\"data row11 col1\" >-0.00</td>\n",
       "                        <td id=\"T_80eaf4ea_8baa_11ec_98c4_d4d2527bf86crow11_col2\" class=\"data row11 col2\" >-0.00</td>\n",
       "                        <td id=\"T_80eaf4ea_8baa_11ec_98c4_d4d2527bf86crow11_col3\" class=\"data row11 col3\" >-0.06</td>\n",
       "                        <td id=\"T_80eaf4ea_8baa_11ec_98c4_d4d2527bf86crow11_col4\" class=\"data row11 col4\" >0.00</td>\n",
       "                        <td id=\"T_80eaf4ea_8baa_11ec_98c4_d4d2527bf86crow11_col5\" class=\"data row11 col5\" >0.00</td>\n",
       "                        <td id=\"T_80eaf4ea_8baa_11ec_98c4_d4d2527bf86crow11_col6\" class=\"data row11 col6\" >-0.01</td>\n",
       "                        <td id=\"T_80eaf4ea_8baa_11ec_98c4_d4d2527bf86crow11_col7\" class=\"data row11 col7\" >-0.00</td>\n",
       "                        <td id=\"T_80eaf4ea_8baa_11ec_98c4_d4d2527bf86crow11_col8\" class=\"data row11 col8\" >0.00</td>\n",
       "                        <td id=\"T_80eaf4ea_8baa_11ec_98c4_d4d2527bf86crow11_col9\" class=\"data row11 col9\" >-0.50</td>\n",
       "                        <td id=\"T_80eaf4ea_8baa_11ec_98c4_d4d2527bf86crow11_col10\" class=\"data row11 col10\" >-0.51</td>\n",
       "                        <td id=\"T_80eaf4ea_8baa_11ec_98c4_d4d2527bf86crow11_col11\" class=\"data row11 col11\" >1.00</td>\n",
       "            </tr>\n",
       "    </tbody></table>"
      ],
      "text/plain": [
       "<pandas.io.formats.style.Styler at 0x2d5fa1ba880>"
      ]
     },
     "metadata": {},
     "output_type": "display_data"
    },
    {
     "data": {
      "text/plain": [
       "<matplotlib.axes._subplots.AxesSubplot at 0x2d5fa157ac0>"
      ]
     },
     "metadata": {},
     "output_type": "display_data"
    },
    {
     "data": {
      "image/png": "[encoded data removed]",
      "text/plain": [
       "<Figure size 720x576 with 2 Axes>"
      ]
     },
     "metadata": {
      "needs_background": "light"
     },
     "output_type": "display_data"
    }
   ],
   "source": [
    "# Matriz de correlação de Pearson\n",
    "\n",
    "corr = dataset_modified2.iloc[:, 1:].corr()\n",
    "display(corr.style.background_gradient(cmap = 'coolwarm').set_precision(2))\n",
    "\n",
    "# Visão alternativa com heatmap\n",
    "f, ax = plt.subplots(figsize = (10, 8))\n",
    "display(sns.heatmap(corr, mask = np.zeros_like(corr, dtype = np.bool),\n",
    "            cmap = sns.diverging_palette(1000, 10, as_cmap = True),\n",
    "            square = True, ax = ax))"
   ]
  },
  {
   "cell_type": "code",
   "execution_count": 17,
   "metadata": {},
   "outputs": [],
   "source": [
    "# TO DO: Aplicar amostras de transações fraudulentas para cada id (alternativa ao OverSampling)\n",
    "# dataset_replacement = dataset_modified2.copy()\n",
    "# dataset_replacement"
   ]
  },
  {
   "cell_type": "markdown",
   "metadata": {},
   "source": [
    "## Data Modelling"
   ]
  },
  {
   "cell_type": "markdown",
   "metadata": {},
   "source": [
    "#### Padronizando dados, separando dataset em treino/teste e Cross Validation "
   ]
  },
  {
   "cell_type": "code",
   "execution_count": 18,
   "metadata": {},
   "outputs": [],
   "source": [
    "# Reordenando coluna target para o final do dataset\n",
    "dataset_modified2 = pd.concat([dataset_modified2.drop(columns = ['classe_cliente']), \\\n",
    "                               dataset_modified2['classe_cliente']], axis = 1)"
   ]
  },
  {
   "cell_type": "code",
   "execution_count": 19,
   "metadata": {},
   "outputs": [
    {
     "name": "stdout",
     "output_type": "stream",
     "text": [
      "Dados originais: \n",
      "\n",
      " [[293.  42.  10. ...   0.   1.   0.]\n",
      " [190.  36.  13. ...   0.   0.   1.]\n",
      " [399.  31.  14. ...   1.   0.   0.]\n",
      " ...\n",
      " [381.  34.  17. ...   0.   0.   1.]\n",
      " [427.  38.  21. ...   0.   0.   1.]\n",
      " [277.  46.  13. ...   0.   1.   0.]]\n",
      "\n",
      "Dados normalizados: \n",
      "\n",
      " [[0.4298441  0.63157895 0.         ... 0.         1.         0.        ]\n",
      " [0.20044543 0.31578947 0.21428571 ... 0.         0.         1.        ]\n",
      " [0.66592428 0.05263158 0.28571429 ... 1.         0.         0.        ]\n",
      " ...\n",
      " [0.62583519 0.21052632 0.5        ... 0.         0.         1.        ]\n",
      " [0.72828508 0.42105263 0.78571429 ... 0.         0.         1.        ]\n",
      " [0.39420935 0.84210526 0.21428571 ... 0.         1.         0.        ]]\n",
      "\n",
      "NOTA: Aplicaremos padronização também para testarmos regressão logística.\n",
      "\n",
      "Dados padronizados: \n",
      "\n",
      " [[ 0.14815903  0.43497186 -1.61724353 ... -0.69939897  1.40195642\n",
      "  -0.70865591]\n",
      " [-0.85686507 -0.60418877 -0.92276476 ... -0.69939897 -0.71328894\n",
      "   1.41112207]\n",
      " [ 1.18245566 -1.47015597 -0.69127183 ...  1.42979907 -0.71328894\n",
      "  -0.70865591]\n",
      " ...\n",
      " [ 1.00682039 -0.95057565  0.00320695 ... -0.69939897 -0.71328894\n",
      "   1.41112207]\n",
      " [ 1.4556661  -0.2578019   0.92917865 ... -0.69939897 -0.71328894\n",
      "   1.41112207]\n",
      " [-0.00796122  1.12774561 -0.92276476 ... -0.69939897  1.40195642\n",
      "  -0.70865591]]\n"
     ]
    }
   ],
   "source": [
    "# Normalizando dados com MinMaxScaler e separando variáveis X e Y\n",
    "from sklearn.preprocessing import StandardScaler\n",
    "from sklearn.preprocessing import MinMaxScaler\n",
    "\n",
    "array = dataset_modified2.values\n",
    "X = array[:, 1:-1]\n",
    "Y = array[:, -1]\n",
    "\n",
    "# Normalizando dados com escala MinMax (dados estarão no range de 0 a 1)\n",
    "scaler = MinMaxScaler(feature_range = (0, 1))\n",
    "rescaledX = scaler.fit_transform(X)\n",
    "\n",
    "# Summarizando dados\n",
    "print(\"Dados originais: \\n\\n\", X)\n",
    "print(\"\\nDados normalizados: \\n\\n\", rescaledX)\n",
    "\n",
    "# Padronizando dados\n",
    "print(\"\\nNOTA: Aplicaremos padronização também para testarmos regressão logística.\")\n",
    "scaler = StandardScaler().fit(X)\n",
    "standardX = scaler.transform(X)\n",
    "\n",
    "print(\"\\nDados padronizados: \\n\\n\", standardX)"
   ]
  },
  {
   "cell_type": "code",
   "execution_count": 20,
   "metadata": {},
   "outputs": [
    {
     "name": "stdout",
     "output_type": "stream",
     "text": [
      "NOTA: Base de treino com 120000 linhas e teste 30000 linhas.\n"
     ]
    }
   ],
   "source": [
    "# Separando dados entre treino e teste (ratio 80/20, normalizadas e padronizadas)\n",
    "from sklearn.model_selection import train_test_split\n",
    "\n",
    "test_size = 0.2\n",
    "X_train, X_test, Y_train, Y_test = train_test_split(rescaledX, Y, test_size = test_size)\n",
    "X_trainS, X_testS, Y_trainS, Y_testS = train_test_split(standardX, Y, test_size = test_size)\n",
    "print(f\"NOTA: Base de treino com {len(X_train)} linhas e teste {len(X_test)} linhas.\")"
   ]
  },
  {
   "cell_type": "code",
   "execution_count": 21,
   "metadata": {},
   "outputs": [],
   "source": [
    "# Criando cross-validation score para coletar acurácia ajustada dos modelos\n",
    "\n",
    "from sklearn.model_selection import KFold\n",
    "from sklearn.model_selection import cross_val_score\n",
    "\n",
    "# Definindo hiperparâmetros para testes de CV (10 treinamentos para cada modelo)\n",
    "num_folds = 10\n",
    "kfold = KFold(num_folds, shuffle = True)"
   ]
  },
  {
   "cell_type": "markdown",
   "metadata": {},
   "source": [
    "#### Tratar desbalanceamento da base"
   ]
  },
  {
   "cell_type": "code",
   "execution_count": 22,
   "metadata": {},
   "outputs": [],
   "source": [
    "# !pip install imbalanced-learn\n",
    "\n",
    "# Aplicação ROSE (random undersampling example) para balanceamento de classes\n",
    "# from sklearn.datasets import make_classification\n",
    "# from imblearn.under_sampling import RandomUnderSampler\n",
    "\n",
    "# # 50/50\n",
    "# ros = RandomUnderSampler(sampling_strategy = 1)\n",
    "# X_over, Y_over = ros.fit_resample(pd.DataFrame(X_train), pd.DataFrame(Y_train.astype('int')))\n",
    "\n",
    "# ax = Y_over.iloc[:, 0].value_counts().plot.pie(autopct = '%.2f')\n",
    "# _ = ax.set_title('UnderSampling Shareof - Variável \"Target\"')\n",
    "# display(Y_over.iloc[:, 0].value_counts())"
   ]
  },
  {
   "cell_type": "markdown",
   "metadata": {},
   "source": [
    "#### Nota\n",
    "UnderSampling não gerou um bom resultado, por isso foi comentado (baixa quantidade de casos fraudulentos)."
   ]
  },
  {
   "cell_type": "code",
   "execution_count": 23,
   "metadata": {},
   "outputs": [
    {
     "data": {
      "text/plain": [
       "1    116410\n",
       "0    116410\n",
       "Name: 0, dtype: int64"
      ]
     },
     "metadata": {},
     "output_type": "display_data"
    },
    {
     "data": {
      "image/png": "[encoded data removed]",
      "text/plain": [
       "<Figure size 432x288 with 1 Axes>"
      ]
     },
     "metadata": {},
     "output_type": "display_data"
    }
   ],
   "source": [
    "# Tratar desbalanceamento dos dados (ROSE, SMOTE, imbalanced-learn)\n",
    "\n",
    "# !pip install imbalanced-learn\n",
    "\n",
    "# Aplicação ROSE para balanceamento de classes\n",
    "from sklearn.datasets import make_classification\n",
    "from imblearn.over_sampling import RandomOverSampler\n",
    "\n",
    "# Oversampling com ratio 50/50\n",
    "ros = RandomOverSampler(sampling_strategy = 'not majority')\n",
    "X_over, Y_over = ros.fit_resample(pd.DataFrame(X_train), pd.DataFrame(Y_train.astype('int')))\n",
    "X_overS, Y_overS = ros.fit_resample(pd.DataFrame(X_trainS), pd.DataFrame(Y_trainS.astype('int')))\n",
    "\n",
    "ax = Y_over.iloc[:, 0].value_counts().plot.pie(autopct = '%.2f')\n",
    "_ = ax.set_title('OverSampling Shareof - Variável \"Target\"')\n",
    "display(Y_over.iloc[:, 0].value_counts())"
   ]
  },
  {
   "cell_type": "markdown",
   "metadata": {},
   "source": [
    "### KNN"
   ]
  },
  {
   "cell_type": "code",
   "execution_count": 24,
   "metadata": {},
   "outputs": [
    {
     "name": "stdout",
     "output_type": "stream",
     "text": [
      "5 1.0\n",
      "0.9786724778508146\n",
      "[[27395  1678]\n",
      " [  597   330]]\n",
      "              precision    recall  f1-score   support\n",
      "\n",
      "         0.0       0.98      0.94      0.96     29073\n",
      "         1.0       0.16      0.36      0.22       927\n",
      "\n",
      "    accuracy                           0.92     30000\n",
      "   macro avg       0.57      0.65      0.59     30000\n",
      "weighted avg       0.95      0.92      0.94     30000\n",
      "\n"
     ]
    }
   ],
   "source": [
    "from sklearn.neighbors import KNeighborsClassifier\n",
    "from sklearn.metrics import confusion_matrix\n",
    "from sklearn.metrics import mean_squared_error\n",
    "from sklearn.metrics import classification_report\n",
    "from sklearn.metrics import precision_score\n",
    "import math\n",
    "\n",
    "alpha = [n for n in range(3, 50, 2)]\n",
    "argmax = 0\n",
    "best_param = int\n",
    "\n",
    "for param in alpha:\n",
    "    model = KNeighborsClassifier(n_neighbors = param)\n",
    "    knn = model.fit(X_over, Y_over)\n",
    "    preds = knn.predict(X_over)\n",
    "    score = precision_score(Y_over, preds, average = None)[0]\n",
    "    if score > argmax:\n",
    "        argmax = score\n",
    "        best_param = param\n",
    "        \n",
    "# Show best parameter\n",
    "print(best_param, argmax)\n",
    "\n",
    "# rerun classification report for best parameter\n",
    "model = KNeighborsClassifier(n_neighbors = best_param)\n",
    "knn = model.fit(X_over, Y_over)\n",
    "preds = knn.predict(X_test)\n",
    "print(precision_score(Y_test, preds, average = None)[0])\n",
    "print(confusion_matrix(Y_test, preds))\n",
    "print(classification_report(Y_test, preds)) # apenas 37% de acurácia em casos fraudulentos"
   ]
  },
  {
   "cell_type": "markdown",
   "metadata": {},
   "source": [
    "#### Notas\n",
    "1. O modelo não desempenhou bem pelo alto índice de erros tipo 1 (falsos positivos), com taxa de recuo baixa;\n",
    "2. Foi trabalho um range de K-vizinhos ímpares entre 3 e 30. "
   ]
  },
  {
   "cell_type": "markdown",
   "metadata": {},
   "source": [
    "### Regressão Logística"
   ]
  },
  {
   "cell_type": "code",
   "execution_count": 25,
   "metadata": {},
   "outputs": [
    {
     "name": "stdout",
     "output_type": "stream",
     "text": [
      "Acurácia (Regressão Logística): 76.052\n",
      "              precision    recall  f1-score   support\n",
      "\n",
      "         0.0       0.98      0.88      0.93     29073\n",
      "         1.0       0.13      0.57      0.21       927\n",
      "\n",
      "    accuracy                           0.87     30000\n",
      "   macro avg       0.56      0.73      0.57     30000\n",
      "weighted avg       0.96      0.87      0.91     30000\n",
      "\n"
     ]
    },
    {
     "data": {
      "text/plain": [
       "None"
      ]
     },
     "metadata": {},
     "output_type": "display_data"
    }
   ],
   "source": [
    "from sklearn.linear_model import LogisticRegression\n",
    "\n",
    "# Fit e avaliação do modelo\n",
    "regrl = LogisticRegression()\n",
    "regrl.fit(X_overS, Y_overS)\n",
    "regrl.score(X_overS, Y_overS)\n",
    "\n",
    "# Predições\n",
    "results = cross_val_score(regrl, X_overS, Y_overS, cv = kfold)\n",
    "predictions = regrl.predict(X_test)\n",
    "\n",
    "# Score\n",
    "print(\"Acurácia (Regressão Logística): %.3f\" % (results.mean() * 100))\n",
    "display(print(classification_report(Y_test, predictions)))"
   ]
  },
  {
   "cell_type": "code",
   "execution_count": 26,
   "metadata": {},
   "outputs": [
    {
     "name": "stdout",
     "output_type": "stream",
     "text": [
      "Acurácia (Regressão Logística): 76.322\n",
      "              precision    recall  f1-score   support\n",
      "\n",
      "         0.0       0.99      0.76      0.86     29073\n",
      "         1.0       0.09      0.77      0.16       927\n",
      "\n",
      "    accuracy                           0.76     30000\n",
      "   macro avg       0.54      0.77      0.51     30000\n",
      "weighted avg       0.96      0.76      0.84     30000\n",
      "\n"
     ]
    },
    {
     "data": {
      "text/plain": [
       "None"
      ]
     },
     "metadata": {},
     "output_type": "display_data"
    }
   ],
   "source": [
    "# Regressão Logística\n",
    "regrl = LogisticRegression()\n",
    "regrl.fit(X_over, Y_over)\n",
    "regrl.score(X_over, Y_over)\n",
    "\n",
    "# Predições\n",
    "results = cross_val_score(regrl, X_over, Y_over, cv = kfold)\n",
    "predictions = regrl.predict(X_test)\n",
    "\n",
    "# Score\n",
    "print(\"Acurácia (Regressão Logística): %.3f\" % (results.mean() * 100))\n",
    "display(print(classification_report(Y_test, predictions)))"
   ]
  },
  {
   "cell_type": "markdown",
   "metadata": {},
   "source": [
    "#### Nota\n",
    "O modelo de regressão logística teve um desempenho melhor em classificar as transações, com taxa de 76% de acerto."
   ]
  },
  {
   "cell_type": "markdown",
   "metadata": {},
   "source": [
    "### Random Forest"
   ]
  },
  {
   "cell_type": "code",
   "execution_count": 27,
   "metadata": {},
   "outputs": [
    {
     "name": "stdout",
     "output_type": "stream",
     "text": [
      "Acurácia (Random Forest): 99.338\n",
      "              precision    recall  f1-score   support\n",
      "\n",
      "         0.0       0.98      0.99      0.98     29073\n",
      "         1.0       0.47      0.30      0.37       927\n",
      "\n",
      "    accuracy                           0.97     30000\n",
      "   macro avg       0.72      0.65      0.68     30000\n",
      "weighted avg       0.96      0.97      0.96     30000\n",
      "\n"
     ]
    },
    {
     "data": {
      "text/plain": [
       "None"
      ]
     },
     "metadata": {},
     "output_type": "display_data"
    }
   ],
   "source": [
    "# Criando modelos para Regressão Logística, KNN e Random Forest\n",
    "\n",
    "from sklearn.ensemble import RandomForestClassifier\n",
    "\n",
    "# Criando modelo random forest\n",
    "num_trees = 100\n",
    "max_features = 5\n",
    "random_forest = RandomForestClassifier(n_estimators = num_trees, max_features = max_features)\n",
    "results = cross_val_score(random_forest, X_over, Y_over, cv = kfold)\n",
    "\n",
    "# Score\n",
    "print(\"Acurácia (Random Forest): %.3f\" % (results.mean() * 100))\n",
    "\n",
    "# Previsões\n",
    "random_forest.fit(X_over, Y_over)\n",
    "predictions = random_forest.predict(X_test)\n",
    "display(print(classification_report(Y_test, predictions)))"
   ]
  },
  {
   "cell_type": "markdown",
   "metadata": {},
   "source": [
    "### Ajustes de hiperparâmetros e Tunning"
   ]
  },
  {
   "cell_type": "code",
   "execution_count": 28,
   "metadata": {},
   "outputs": [
    {
     "name": "stdout",
     "output_type": "stream",
     "text": [
      "              precision    recall  f1-score   support\n",
      "\n",
      "         0.0       0.98      0.99      0.98     29073\n",
      "         1.0       0.53      0.29      0.38       927\n",
      "\n",
      "    accuracy                           0.97     30000\n",
      "   macro avg       0.75      0.64      0.68     30000\n",
      "weighted avg       0.96      0.97      0.97     30000\n",
      "\n"
     ]
    },
    {
     "data": {
      "text/plain": [
       "None"
      ]
     },
     "metadata": {},
     "output_type": "display_data"
    }
   ],
   "source": [
    "# Grid Search\n",
    "\n",
    "from sklearn.model_selection import GridSearchCV\n",
    "\n",
    "num_trees = 100\n",
    "max_features = 5\n",
    "random_forest = RandomForestClassifier(n_estimators = num_trees, max_features = max_features)\n",
    "\n",
    "# Usando um grid completo de todos os parâmetros\n",
    "param_grid = {\"max_depth\": [1, 3, 5, None],\n",
    "              \"max_features\": [3, 5, 7],\n",
    "              \"bootstrap\": [True, False],\n",
    "              \"criterion\": [\"gini\", \"entropy\"]}\n",
    "\n",
    "# Executando o Grid Search\n",
    "grid_search = GridSearchCV(random_forest, param_grid = param_grid, return_train_score = True)\n",
    "\n",
    "# Previsões\n",
    "grid_search.fit(X_over, Y_over)\n",
    "predictions = grid_search.predict(X_test)\n",
    "display(print(classification_report(Y_test, predictions)))"
   ]
  },
  {
   "cell_type": "code",
   "execution_count": 29,
   "metadata": {},
   "outputs": [
    {
     "data": {
      "text/plain": [
       "{'bootstrap': False,\n",
       " 'criterion': 'gini',\n",
       " 'max_depth': None,\n",
       " 'max_features': 7,\n",
       " 'n_estimators': 100}"
      ]
     },
     "metadata": {},
     "output_type": "display_data"
    },
    {
     "ename": "NameError",
     "evalue": "name 'accuracy_score' is not defined",
     "output_type": "error",
     "traceback": [
      "\u001b[1;31m---------------------------------------------------------------------------\u001b[0m",
      "\u001b[1;31mNameError\u001b[0m                                 Traceback (most recent call last)",
      "\u001b[1;32m<ipython-input-29-f2238be54a08>\u001b[0m in \u001b[0;36m<module>\u001b[1;34m\u001b[0m\n\u001b[0;32m      9\u001b[0m \u001b[1;33m\u001b[0m\u001b[0m\n\u001b[0;32m     10\u001b[0m \u001b[1;31m# Score\u001b[0m\u001b[1;33m\u001b[0m\u001b[1;33m\u001b[0m\u001b[1;33m\u001b[0m\u001b[0m\n\u001b[1;32m---> 11\u001b[1;33m \u001b[0mprint\u001b[0m\u001b[1;33m(\u001b[0m\u001b[1;34m\"Acurácia em Teste:\"\u001b[0m\u001b[1;33m,\u001b[0m \u001b[0maccuracy_score\u001b[0m\u001b[1;33m(\u001b[0m\u001b[0mY_test\u001b[0m\u001b[1;33m,\u001b[0m \u001b[0my_pred\u001b[0m\u001b[1;33m)\u001b[0m\u001b[1;33m)\u001b[0m\u001b[1;33m\u001b[0m\u001b[1;33m\u001b[0m\u001b[0m\n\u001b[0m\u001b[0;32m     12\u001b[0m \u001b[1;33m\u001b[0m\u001b[0m\n\u001b[0;32m     13\u001b[0m \u001b[1;31m# Previsões\u001b[0m\u001b[1;33m\u001b[0m\u001b[1;33m\u001b[0m\u001b[1;33m\u001b[0m\u001b[0m\n",
      "\u001b[1;31mNameError\u001b[0m: name 'accuracy_score' is not defined"
     ]
    }
   ],
   "source": [
    "# Rodar segundo modelo com parâmetros ajustados\n",
    "\n",
    "from sklearn.metrics import accuracy_score\n",
    "\n",
    "best_params = grid_search.best_params_\n",
    "best_params['n_estimators'] = 100\n",
    "display(best_params)\n",
    "\n",
    "random_forest_v2 = RandomForestClassifier(**best_params)\n",
    "random_forest_v2.fit(X_over, Y_over)\n",
    "\n",
    "# Previsões\n",
    "predictions = random_forest_v2.predict(X_test)\n",
    "print(\"Acurácia em Teste:\", accuracy_score(Y_test, predictions))\n",
    "display(print(classification_report(Y_test, predictions)))"
   ]
  },
  {
   "cell_type": "code",
   "execution_count": 31,
   "metadata": {},
   "outputs": [
    {
     "name": "stdout",
     "output_type": "stream",
     "text": [
      "Acurácia em Teste: 0.9700666666666666\n",
      "              precision    recall  f1-score   support\n",
      "\n",
      "         0.0       0.98      0.99      0.98     29073\n",
      "         1.0       0.53      0.30      0.38       927\n",
      "\n",
      "    accuracy                           0.97     30000\n",
      "   macro avg       0.75      0.64      0.68     30000\n",
      "weighted avg       0.96      0.97      0.97     30000\n",
      "\n"
     ]
    },
    {
     "data": {
      "text/plain": [
       "None"
      ]
     },
     "metadata": {},
     "output_type": "display_data"
    }
   ],
   "source": [
    "# Score\n",
    "from sklearn.metrics import accuracy_score\n",
    "\n",
    "# Previsões\n",
    "predictions = random_forest_v2.predict(X_test)\n",
    "print(\"Acurácia em Teste:\", accuracy_score(Y_test, predictions))\n",
    "display(print(classification_report(Y_test, predictions)))"
   ]
  },
  {
   "cell_type": "markdown",
   "metadata": {},
   "source": [
    "#### Notas\n",
    "O Grid Search foi criado com cinco parâmetros:\n",
    "- n_estimators - A tendência é ter um modelo melhor com mais estimadores, mas com tempo de processamento também mais alto;\n",
    "- max depth - Determina a \"profundidade\" da árvore. Um valor-teto pode ser colocado afim de eliminar overfitting;\n",
    "- max_features - Determina a quantidade de atributos a serem desmembrados nas random forests;\n",
    "- criterion - Determina como o algoritmo fará a divisão dos atributos e a classificação dos nós em cada árvore;\n",
    "- Boostrap - Utilização de reamostragem no treinamento do modelo.\n",
    "\n",
    "Houve um aumento na precisão das classificações de falsos negativos (42% para 49%), mas sem melhoras nas previsão de casos fraudulentos (34%)."
   ]
  },
  {
   "cell_type": "code",
   "execution_count": 32,
   "metadata": {},
   "outputs": [
    {
     "data": {
      "text/plain": [
       "0.8519333333333333"
      ]
     },
     "metadata": {},
     "output_type": "display_data"
    },
    {
     "name": "stdout",
     "output_type": "stream",
     "text": [
      "              precision    recall  f1-score   support\n",
      "\n",
      "         0.0       0.98      0.86      0.92     29073\n",
      "         1.0       0.12      0.58      0.19       927\n",
      "\n",
      "    accuracy                           0.85     30000\n",
      "   macro avg       0.55      0.72      0.56     30000\n",
      "weighted avg       0.96      0.85      0.90     30000\n",
      "\n"
     ]
    },
    {
     "data": {
      "text/plain": [
       "None"
      ]
     },
     "metadata": {},
     "output_type": "display_data"
    }
   ],
   "source": [
    "# Criando um modelo com Gradient Boosting\n",
    "\n",
    "from sklearn.ensemble import GradientBoostingClassifier\n",
    "\n",
    "random_forest_v3 = GradientBoostingClassifier(n_estimators = 1000, learning_rate = 1.0)\n",
    "\n",
    "# Treinando o classificador\n",
    "random_forest_v3.fit(X_over, Y_over)\n",
    "predictions = random_forest_v3.predict(X_test)\n",
    "\n",
    "# Acurácia\n",
    "display(random_forest_v3.score(X_test, Y_test))\n",
    "display(print(classification_report(Y_test, predictions)))"
   ]
  },
  {
   "cell_type": "markdown",
   "metadata": {},
   "source": [
    "##### Notas\n",
    "Usando o Grandient Boosting, tivemos um resultado melhor nas classificações de fraudes (aprox. 70%), contrabalanceando o modelo.\n",
    "\n",
    "1. Realiza um conjunto de previsões (y)\n",
    "2. Calcula o erro das previsões (j)\n",
    "3. Tenta ajustar y reduzindo o erro (através de alpha)\n",
    "4. Para cada estimador base, é estimado o gradiente da função de perda\n",
    "5. Estimadores subsequentes estimam o erro residual dos estimadores anteriores\n",
    "6. Aplica o gradiente descendente para reduzir j\n",
    "7. Soma os resultados dos estimadores, dando peso a cada passo de acordo com o valor de alfa"
   ]
  },
  {
   "cell_type": "markdown",
   "metadata": {},
   "source": [
    "### Outras tentativas de regularização (evitar Overfitting)\n",
    "1. Alterar a estrutura da árvore\n",
    "2. Shrinkage\n",
    "3. Stochastic Gradient Boosting"
   ]
  },
  {
   "cell_type": "code",
   "execution_count": 33,
   "metadata": {},
   "outputs": [
    {
     "data": {
      "text/plain": [
       "<matplotlib.legend.Legend at 0x2d586d94430>"
      ]
     },
     "execution_count": 33,
     "metadata": {},
     "output_type": "execute_result"
    },
    {
     "data": {
      "image/png": "[encoded data removed]",
      "text/plain": [
       "<Figure size 576x432 with 1 Axes>"
      ]
     },
     "metadata": {
      "needs_background": "light"
     },
     "output_type": "display_data"
    }
   ],
   "source": [
    "# Criando plot de desvio entre treino/teste para gradiente descendente\n",
    "def deviance_plot(est, X_test, y_test, ax=None, label='', train_color='#2c7bb6', test_color='#d7191c', alpha=1.0, ylim = (0, 10)):\n",
    "    n_estimators = len(est.estimators_)\n",
    "    test_dev = np.empty(n_estimators)\n",
    "\n",
    "    for i, pred in enumerate(est.staged_predict(X_test)):\n",
    "        test_dev[i] = est.loss_(y_test, pred)\n",
    "\n",
    "    if ax is None:\n",
    "        fig = plt.figure(figsize = (8, 6))\n",
    "        ax = plt.gca()\n",
    "        \n",
    "    ax.plot(np.arange(n_estimators) + 1, test_dev, color = test_color, label = 'Teste %s' % label, linewidth = 2, alpha = alpha)\n",
    "    ax.plot(np.arange(n_estimators) + 1, est.train_score_, color = train_color, label = 'Treino %s' % label, linewidth = 2, alpha = alpha)\n",
    "    ax.set_ylabel('Erro')\n",
    "    ax.set_xlabel('Número de Estimadores Base')\n",
    "    ax.set_ylim(ylim)\n",
    "    return test_dev, ax\n",
    "\n",
    "# Aplica a função aos dados de teste para medir o overfitting do nosso modelo (est)\n",
    "test_dev, ax = deviance_plot(random_forest_v3, X_test, Y_test)\n",
    "ax.legend(loc = 'upper right')"
   ]
  },
  {
   "cell_type": "code",
   "execution_count": 34,
   "metadata": {},
   "outputs": [
    {
     "data": {
      "text/plain": [
       "<matplotlib.legend.Legend at 0x2d586d840d0>"
      ]
     },
     "execution_count": 34,
     "metadata": {},
     "output_type": "execute_result"
    },
    {
     "data": {
      "image/png": "[encoded data removed]",
      "text/plain": [
       "<Figure size 576x576 with 1 Axes>"
      ]
     },
     "metadata": {
      "needs_background": "light"
     },
     "output_type": "display_data"
    }
   ],
   "source": [
    "# # Criando plot de desvio entre treino/teste para gradiente descendente com Shrinkage\n",
    "fig = plt.figure(figsize = (8,8))\n",
    "ax = plt.gca()\n",
    "\n",
    "def fmt_params(params):\n",
    "    return \", \".join(\"{0}={1}\".format(key, val) for key, val in params.items())\n",
    "\n",
    "for params, (test_color, train_color) in [({}, ('#d7191c', '#2c7bb6')), ({'learning_rate': 0.1}, ('#fdae61', '#abd9e9'))]:\n",
    "    est = GradientBoostingClassifier(n_estimators = 1000, max_depth = 1, learning_rate = 1.0)\n",
    "    est.set_params(**params)\n",
    "    est.fit(X_over, Y_over)\n",
    "    \n",
    "    test_dev, ax = deviance_plot(est, \n",
    "                                 X_test, \n",
    "                                 Y_test, \n",
    "                                 ax = ax, \n",
    "                                 label = fmt_params(params),\n",
    "                                 train_color = train_color, \n",
    "                                 test_color = test_color)\n",
    "\n",
    "plt.legend(loc = 'upper right')"
   ]
  },
  {
   "cell_type": "code",
   "execution_count": 35,
   "metadata": {},
   "outputs": [
    {
     "data": {
      "text/plain": [
       "<matplotlib.legend.Legend at 0x2d586c2b790>"
      ]
     },
     "execution_count": 35,
     "metadata": {},
     "output_type": "execute_result"
    },
    {
     "data": {
      "image/png": "[encoded data removed]",
      "text/plain": [
       "<Figure size 576x576 with 1 Axes>"
      ]
     },
     "metadata": {
      "needs_background": "light"
     },
     "output_type": "display_data"
    }
   ],
   "source": [
    "# Criando plot de desvio entre treino/teste para gradiente descendente Stochastic Gradient Boosting\n",
    "fig = plt.figure(figsize= (8, 8))\n",
    "ax = plt.gca()\n",
    "for params, (test_color, train_color) in [({}, ('#d7191c', '#2c7bb6')), ({'learning_rate': 0.1, 'subsample': 0.7}, ('#fdae61', '#abd9e9'))]:\n",
    "    est = GradientBoostingClassifier(n_estimators = 1000, max_depth = 1, learning_rate = 1.0)\n",
    "    est.set_params(**params)\n",
    "    est.fit(X_over, Y_over)\n",
    "    test_dev, ax = deviance_plot(est, \n",
    "                                 X_test, \n",
    "                                 Y_test, \n",
    "                                 ax = ax, \n",
    "                                 label = fmt_params(params), \n",
    "                                 train_color=train_color, \n",
    "                                 test_color=test_color)\n",
    "\n",
    "plt.legend(loc = 'upper right', fontsize='small')"
   ]
  },
  {
   "cell_type": "markdown",
   "metadata": {},
   "source": [
    "#### Notas\n",
    "Mesmo aplicando diferentes técnicas de regularização no modelo, não houve redução na taxa de erros na base de treino. Será feita uma última abordagem com tune de hiperparâmetros (GridSearchCV) e GradientBoostingClassifier, que teve melhor desempenho (entre seus pares) até então."
   ]
  },
  {
   "cell_type": "markdown",
   "metadata": {},
   "source": [
    "#### GradientBoostingClassifier + GridSearchCV"
   ]
  },
  {
   "cell_type": "code",
   "execution_count": null,
   "metadata": {},
   "outputs": [],
   "source": [
    "# Grid de parâmetros\n",
    "param_grid = {'learning_rate': [0.1, 0.01, 0.001],\n",
    "              'max_depth': [4, 5, 6],\n",
    "              'min_samples_leaf': [3, 4, 5],\n",
    "              'subsample': [0.3, 0.5, 0.7],\n",
    "              'n_estimators': [200, 500, 1000, 2000]\n",
    "              }\n",
    "\n",
    "# Regressor\n",
    "est = GradientBoostingClassifier()\n",
    "\n",
    "# Modelo criado com GridSearchCV\n",
    "gs_cv = GridSearchCV(est, param_grid, scoring = 'neg_mean_squared_error', n_jobs = 4).fit(X_over, Y_over)\n",
    "\n",
    "# Imprime os melhors parâmetros\n",
    "print('Melhores Hiperparâmetros: %r' % gs_cv.best_params_)"
   ]
  },
  {
   "cell_type": "code",
   "execution_count": null,
   "metadata": {},
   "outputs": [],
   "source": [
    "# TO DO: Desenvolvimento com SVM"
   ]
  },
  {
   "cell_type": "code",
   "execution_count": null,
   "metadata": {},
   "outputs": [],
   "source": [
    "# TO DO: Processamento com bases com SMOTE"
   ]
  }
 ],
 "metadata": {
  "kernelspec": {
   "display_name": "Python 3",
   "language": "python",
   "name": "python3"
  },
  "language_info": {
   "codemirror_mode": {
    "name": "ipython",
    "version": 3
   },
   "file_extension": ".py",
   "mimetype": "text/x-python",
   "name": "python",
   "nbconvert_exporter": "python",
   "pygments_lexer": "ipython3",
   "version": "3.7.6"
  }
 },
 "nbformat": 4,
 "nbformat_minor": 4
}
