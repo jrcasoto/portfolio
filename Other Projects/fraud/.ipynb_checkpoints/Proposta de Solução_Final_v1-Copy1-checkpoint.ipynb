{
 "cells": [
  {
   "cell_type": "markdown",
   "metadata": {},
   "source": [
    "# Proposta de Solução"
   ]
  },
  {
   "cell_type": "markdown",
   "metadata": {},
   "source": [
    "Olá!\n",
    "\n",
    "Fiz minha proposta de solução e criei um modelo de classificação para prever fraudes de acordo com os dados das subestações.\n",
    "\n",
    "### Etapas desenvolvidas\n",
    "\n",
    "1. **Data Understanding**\n",
    "    - Checar estrutura do dataset e distribuição de valores quantitativos\n",
    "    - Procurar por valores faltantes/NA\n",
    "    - Checar a distribuição dos dados na variável target ('classe_cliente')\n",
    "2. **Data Visualization**\n",
    "    - Quant (boxplots, histogramas e Matriz de Correlação)\n",
    "    - Quali (Countplots, Crosstab Chart)\n",
    "3. **Data Wrangling**\n",
    "    - Remap das variáveis qualitativas [resultado não foi bom, código comentado]\n",
    "    - One Hot Encoding nas variáveis qualitativas\n",
    "4. **Data Modelling & Evaluation**\n",
    "    - Padronizar dados, separar dataset em treino/teste (80/20) e aplicar regra de Cross Validation\n",
    "    - Checar distribuição dos dados com PCA e t-SNE\n",
    "    - Tratar base desbalanceada, com:\n",
    "        1. UnderSampling [desempenho ruim, código comentado]\n",
    "        2. OverSampling ROSE\n",
    "        3. OverSampling SMOTE\n",
    "    - Aplicação de escalas nos dados (Normalização e Padronização)\n",
    "    - Treinamento dos algoritmos:\n",
    "        - KNN\n",
    "        - Regressão Linear\n",
    "        - Random Forest c/ GridSearchCV\n",
    "        - SVM [código comentado]\n",
    "5. **Model Deployment**\n",
    "\n",
    "### Outros possíveis testes a serem explorados\n",
    "1. Inclusão no pipeline de um algoritmo de redes neurais/redes neurais bayesianas (acho que a ponderação nos tipos de erros do modelo ajudariam no desempenho final);\n",
    "2. Realizar mais testes com ajuste de hiperparâmetros no random forest com GradientBoosting;\n",
    "3. Ajuste de hiperparâmetros para novas tentativas com SVM;\n",
    "4. Melhor entendimento do processo afim de tentar incluir novas variáveis (mais explicativas) no dataset."
   ]
  },
  {
   "cell_type": "markdown",
   "metadata": {},
   "source": [
    "# Data Understanding"
   ]
  },
  {
   "cell_type": "code",
   "execution_count": 1,
   "metadata": {},
   "outputs": [],
   "source": [
    "import pandas as pd\n",
    "import numpy as np\n",
    "import seaborn as sns\n",
    "import matplotlib.pyplot as plt\n",
    "import warnings\n",
    "import os\n",
    "pd.set_option('display.float_format', lambda x: '%.2f' % x) # Remover notação científica do DataFrame\n",
    "pd.options.display.max_columns = None # Mostrar todas as colunas\n",
    "warnings.filterwarnings(\"ignore\") # Ignorar warnings"
   ]
  },
  {
   "cell_type": "code",
   "execution_count": 2,
   "metadata": {},
   "outputs": [
    {
     "data": {
      "text/html": [
       "<div>\n",
       "<style scoped>\n",
       "    .dataframe tbody tr th:only-of-type {\n",
       "        vertical-align: middle;\n",
       "    }\n",
       "\n",
       "    .dataframe tbody tr th {\n",
       "        vertical-align: top;\n",
       "    }\n",
       "\n",
       "    .dataframe thead th {\n",
       "        text-align: right;\n",
       "    }\n",
       "</style>\n",
       "<table border=\"1\" class=\"dataframe\">\n",
       "  <thead>\n",
       "    <tr style=\"text-align: right;\">\n",
       "      <th></th>\n",
       "      <th>id_subestacao</th>\n",
       "      <th>local_medidor</th>\n",
       "      <th>tipo_medidor</th>\n",
       "      <th>consumo_medio_mensal</th>\n",
       "      <th>temperatura_maxima</th>\n",
       "      <th>temperatura_minima</th>\n",
       "      <th>numero_fases</th>\n",
       "      <th>classe_cliente</th>\n",
       "    </tr>\n",
       "  </thead>\n",
       "  <tbody>\n",
       "    <tr>\n",
       "      <th>0</th>\n",
       "      <td>14</td>\n",
       "      <td>comercial</td>\n",
       "      <td>digital</td>\n",
       "      <td>293</td>\n",
       "      <td>42</td>\n",
       "      <td>10</td>\n",
       "      <td>monofasica</td>\n",
       "      <td>normal</td>\n",
       "    </tr>\n",
       "    <tr>\n",
       "      <th>1</th>\n",
       "      <td>30</td>\n",
       "      <td>residencial</td>\n",
       "      <td>digital</td>\n",
       "      <td>190</td>\n",
       "      <td>36</td>\n",
       "      <td>13</td>\n",
       "      <td>trifasica</td>\n",
       "      <td>normal</td>\n",
       "    </tr>\n",
       "    <tr>\n",
       "      <th>2</th>\n",
       "      <td>38</td>\n",
       "      <td>residencial</td>\n",
       "      <td>digital</td>\n",
       "      <td>399</td>\n",
       "      <td>31</td>\n",
       "      <td>14</td>\n",
       "      <td>bifasica</td>\n",
       "      <td>normal</td>\n",
       "    </tr>\n",
       "    <tr>\n",
       "      <th>3</th>\n",
       "      <td>40</td>\n",
       "      <td>residencial</td>\n",
       "      <td>analogico</td>\n",
       "      <td>307</td>\n",
       "      <td>45</td>\n",
       "      <td>11</td>\n",
       "      <td>monofasica</td>\n",
       "      <td>normal</td>\n",
       "    </tr>\n",
       "    <tr>\n",
       "      <th>4</th>\n",
       "      <td>15</td>\n",
       "      <td>residencial</td>\n",
       "      <td>digital</td>\n",
       "      <td>407</td>\n",
       "      <td>39</td>\n",
       "      <td>19</td>\n",
       "      <td>trifasica</td>\n",
       "      <td>normal</td>\n",
       "    </tr>\n",
       "  </tbody>\n",
       "</table>\n",
       "</div>"
      ],
      "text/plain": [
       "   id_subestacao local_medidor tipo_medidor  consumo_medio_mensal  \\\n",
       "0             14     comercial      digital                   293   \n",
       "1             30   residencial      digital                   190   \n",
       "2             38   residencial      digital                   399   \n",
       "3             40   residencial    analogico                   307   \n",
       "4             15   residencial      digital                   407   \n",
       "\n",
       "   temperatura_maxima  temperatura_minima numero_fases classe_cliente  \n",
       "0                  42                  10   monofasica         normal  \n",
       "1                  36                  13    trifasica         normal  \n",
       "2                  31                  14     bifasica         normal  \n",
       "3                  45                  11   monofasica         normal  \n",
       "4                  39                  19    trifasica         normal  "
      ]
     },
     "metadata": {},
     "output_type": "display_data"
    }
   ],
   "source": [
    "# Leitura do dataset\n",
    "dataset = pd.read_csv('dados.csv')\n",
    "display(dataset.head())"
   ]
  },
  {
   "cell_type": "code",
   "execution_count": 3,
   "metadata": {},
   "outputs": [
    {
     "name": "stdout",
     "output_type": "stream",
     "text": [
      "<class 'pandas.core.frame.DataFrame'>\n",
      "RangeIndex: 150000 entries, 0 to 149999\n",
      "Data columns (total 8 columns):\n",
      " #   Column                Non-Null Count   Dtype \n",
      "---  ------                --------------   ----- \n",
      " 0   id_subestacao         150000 non-null  int64 \n",
      " 1   local_medidor         150000 non-null  object\n",
      " 2   tipo_medidor          150000 non-null  object\n",
      " 3   consumo_medio_mensal  150000 non-null  int64 \n",
      " 4   temperatura_maxima    150000 non-null  int64 \n",
      " 5   temperatura_minima    150000 non-null  int64 \n",
      " 6   numero_fases          150000 non-null  object\n",
      " 7   classe_cliente        150000 non-null  object\n",
      "dtypes: int64(4), object(4)\n",
      "memory usage: 9.2+ MB\n"
     ]
    },
    {
     "data": {
      "text/plain": [
       "None"
      ]
     },
     "metadata": {},
     "output_type": "display_data"
    },
    {
     "data": {
      "text/html": [
       "<div>\n",
       "<style scoped>\n",
       "    .dataframe tbody tr th:only-of-type {\n",
       "        vertical-align: middle;\n",
       "    }\n",
       "\n",
       "    .dataframe tbody tr th {\n",
       "        vertical-align: top;\n",
       "    }\n",
       "\n",
       "    .dataframe thead th {\n",
       "        text-align: right;\n",
       "    }\n",
       "</style>\n",
       "<table border=\"1\" class=\"dataframe\">\n",
       "  <thead>\n",
       "    <tr style=\"text-align: right;\">\n",
       "      <th></th>\n",
       "      <th>id_subestacao</th>\n",
       "      <th>consumo_medio_mensal</th>\n",
       "      <th>temperatura_maxima</th>\n",
       "      <th>temperatura_minima</th>\n",
       "    </tr>\n",
       "  </thead>\n",
       "  <tbody>\n",
       "    <tr>\n",
       "      <th>count</th>\n",
       "      <td>150000.00</td>\n",
       "      <td>150000.00</td>\n",
       "      <td>150000.00</td>\n",
       "      <td>150000.00</td>\n",
       "    </tr>\n",
       "    <tr>\n",
       "      <th>mean</th>\n",
       "      <td>25.03</td>\n",
       "      <td>277.82</td>\n",
       "      <td>39.49</td>\n",
       "      <td>16.99</td>\n",
       "    </tr>\n",
       "    <tr>\n",
       "      <th>std</th>\n",
       "      <td>14.17</td>\n",
       "      <td>102.49</td>\n",
       "      <td>5.77</td>\n",
       "      <td>4.32</td>\n",
       "    </tr>\n",
       "    <tr>\n",
       "      <th>min</th>\n",
       "      <td>1.00</td>\n",
       "      <td>100.00</td>\n",
       "      <td>30.00</td>\n",
       "      <td>10.00</td>\n",
       "    </tr>\n",
       "    <tr>\n",
       "      <th>25%</th>\n",
       "      <td>13.00</td>\n",
       "      <td>190.00</td>\n",
       "      <td>34.00</td>\n",
       "      <td>13.00</td>\n",
       "    </tr>\n",
       "    <tr>\n",
       "      <th>50%</th>\n",
       "      <td>25.00</td>\n",
       "      <td>278.00</td>\n",
       "      <td>39.00</td>\n",
       "      <td>17.00</td>\n",
       "    </tr>\n",
       "    <tr>\n",
       "      <th>75%</th>\n",
       "      <td>37.00</td>\n",
       "      <td>365.00</td>\n",
       "      <td>44.00</td>\n",
       "      <td>21.00</td>\n",
       "    </tr>\n",
       "    <tr>\n",
       "      <th>max</th>\n",
       "      <td>49.00</td>\n",
       "      <td>549.00</td>\n",
       "      <td>49.00</td>\n",
       "      <td>24.00</td>\n",
       "    </tr>\n",
       "  </tbody>\n",
       "</table>\n",
       "</div>"
      ],
      "text/plain": [
       "       id_subestacao  consumo_medio_mensal  temperatura_maxima  \\\n",
       "count      150000.00             150000.00           150000.00   \n",
       "mean           25.03                277.82               39.49   \n",
       "std            14.17                102.49                5.77   \n",
       "min             1.00                100.00               30.00   \n",
       "25%            13.00                190.00               34.00   \n",
       "50%            25.00                278.00               39.00   \n",
       "75%            37.00                365.00               44.00   \n",
       "max            49.00                549.00               49.00   \n",
       "\n",
       "       temperatura_minima  \n",
       "count           150000.00  \n",
       "mean                16.99  \n",
       "std                  4.32  \n",
       "min                 10.00  \n",
       "25%                 13.00  \n",
       "50%                 17.00  \n",
       "75%                 21.00  \n",
       "max                 24.00  "
      ]
     },
     "metadata": {},
     "output_type": "display_data"
    }
   ],
   "source": [
    "# Checando estrutura do dataset e distribuição de valores quantitativos\n",
    "display(dataset.info())\n",
    "display(dataset.describe())"
   ]
  },
  {
   "cell_type": "code",
   "execution_count": 4,
   "metadata": {},
   "outputs": [
    {
     "data": {
      "text/plain": [
       "id_subestacao           0\n",
       "local_medidor           0\n",
       "tipo_medidor            0\n",
       "consumo_medio_mensal    0\n",
       "temperatura_maxima      0\n",
       "temperatura_minima      0\n",
       "numero_fases            0\n",
       "classe_cliente          0\n",
       "dtype: int64"
      ]
     },
     "execution_count": 4,
     "metadata": {},
     "output_type": "execute_result"
    }
   ],
   "source": [
    "# Procurando por valores faltantes/NA\n",
    "dataset.isna().sum()"
   ]
  },
  {
   "cell_type": "code",
   "execution_count": 5,
   "metadata": {},
   "outputs": [
    {
     "data": {
      "text/plain": [
       "industrial     62718\n",
       "comercial      49695\n",
       "residencial    37587\n",
       "Name: local_medidor, dtype: int64"
      ]
     },
     "metadata": {},
     "output_type": "display_data"
    },
    {
     "data": {
      "text/plain": [
       "digital      75669\n",
       "analogico    74331\n",
       "Name: tipo_medidor, dtype: int64"
      ]
     },
     "metadata": {},
     "output_type": "display_data"
    },
    {
     "data": {
      "text/plain": [
       "monofasica    50582\n",
       "trifasica     50146\n",
       "bifasica      49272\n",
       "Name: numero_fases, dtype: int64"
      ]
     },
     "metadata": {},
     "output_type": "display_data"
    },
    {
     "data": {
      "text/plain": [
       "normal       145483\n",
       "fraudador      4517\n",
       "Name: classe_cliente, dtype: int64"
      ]
     },
     "metadata": {},
     "output_type": "display_data"
    }
   ],
   "source": [
    "# Verificando as colunas qualitativas se não há preenchimentos indevidos (blanks, descrições fora do padrão, etc.)\n",
    "for col in dataset.loc[:, dataset.dtypes == np.object]:\n",
    "    display(dataset[col].value_counts())"
   ]
  },
  {
   "cell_type": "code",
   "execution_count": 6,
   "metadata": {},
   "outputs": [
    {
     "data": {
      "text/plain": [
       "normal      0.97\n",
       "fraudador   0.03\n",
       "Name: classe_cliente, dtype: float64"
      ]
     },
     "execution_count": 6,
     "metadata": {},
     "output_type": "execute_result"
    }
   ],
   "source": [
    "# Checando a distribuição dos dados na variável 'classe_cliente'\n",
    "dataset['classe_cliente'].value_counts(normalize = True)"
   ]
  },
  {
   "cell_type": "markdown",
   "metadata": {},
   "source": [
    "### Notas\n",
    "1. Dados distribuídos em 150 mil registros e oito variáveis (incluindo variável target 'classe_cliente');\n",
    "2. Contém variáveis numéricas e categóricas; separarei o dataset para gerar visualizações pontuais;\n",
    "3. Nas variáveis quantitativas, o consumo médio mensal e as temperaturas representam informações diferentes, portanto, escalas diferentes (valores Min/Max). Dependendo do modelo a ser treinado, será necessário normalizar a base e remover a ocluna 'id_subestacao';\n",
    "4. Procurei por valores missing ou indevidos tanto nas variáveis quantitativas (contagem simples) quanto qualitativas (via tabelas de contingência) mas nada foi encontrado, logo nenhuma ação será necessária;\n",
    "5. Avaliando a distribuição da variável 'classe_cliente', vemos que os dados estão altamente desbalanceados (razão 97/3), por isso será necessário aplicarmos alguma técnica de normalização na base (ex.: ROSE, SMOTE, etc.)."
   ]
  },
  {
   "cell_type": "markdown",
   "metadata": {},
   "source": [
    "# Data Visualization"
   ]
  },
  {
   "cell_type": "markdown",
   "metadata": {},
   "source": [
    "## Quantitativas"
   ]
  },
  {
   "cell_type": "code",
   "execution_count": 7,
   "metadata": {},
   "outputs": [
    {
     "name": "stdout",
     "output_type": "stream",
     "text": [
      "Categóricas:  ['local_medidor', 'tipo_medidor', 'numero_fases', 'classe_cliente'] \n",
      "Numéricas:  ['id_subestacao', 'consumo_medio_mensal', 'temperatura_maxima', 'temperatura_minima']\n"
     ]
    }
   ],
   "source": [
    "# Separar colunas categóricas das numéricas para visualizar estrutura dos dados\n",
    "categorical = dataset.loc[:, dataset.dtypes == np.object]\n",
    "numerical = dataset.loc[:, dataset.dtypes == np.int64]\n",
    "print('Categóricas: ', categorical.columns.tolist(), '\\nNuméricas: ', numerical.columns.tolist())"
   ]
  },
  {
   "cell_type": "code",
   "execution_count": 8,
   "metadata": {},
   "outputs": [
    {
     "data": {
      "text/plain": [
       "id_subestacao              AxesSubplot(0.125,0.536818;0.352273x0.343182)\n",
       "consumo_medio_mensal    AxesSubplot(0.547727,0.536818;0.352273x0.343182)\n",
       "temperatura_maxima            AxesSubplot(0.125,0.125;0.352273x0.343182)\n",
       "temperatura_minima         AxesSubplot(0.547727,0.125;0.352273x0.343182)\n",
       "dtype: object"
      ]
     },
     "execution_count": 8,
     "metadata": {},
     "output_type": "execute_result"
    },
    {
     "data": {
      "image/png": "[encoded data removed]",
      "text/plain": [
       "<Figure size 864x864 with 4 Axes>"
      ]
     },
     "metadata": {
      "needs_background": "light"
     },
     "output_type": "display_data"
    }
   ],
   "source": [
    "# Boxplot com distribuições das variáveis numéricas\n",
    "numerical.plot(kind = 'box', subplots = True, layout = (2,2), sharex = False, sharey = False, figsize=(12, 12))"
   ]
  },
  {
   "cell_type": "code",
   "execution_count": 9,
   "metadata": {},
   "outputs": [
    {
     "data": {
      "image/png": "[encoded data removed]",
      "text/plain": [
       "<Figure size 864x864 with 4 Axes>"
      ]
     },
     "metadata": {
      "needs_background": "light"
     },
     "output_type": "display_data"
    }
   ],
   "source": [
    "# Histogramas de distribuição\n",
    "numerical.hist(figsize=(12, 12))\n",
    "plt.show()"
   ]
  },
  {
   "cell_type": "markdown",
   "metadata": {},
   "source": [
    "### Notas\n",
    "1. As variáveis categóricas estão bem distribuídas (histograma) e sem outliers na distribuição (boxplots), por mais que tenhamos alguns registros de consumo médio mensal mais altos do que a média;\n",
    "2. Todos os dados serão mantidos a priori."
   ]
  },
  {
   "cell_type": "markdown",
   "metadata": {},
   "source": [
    "## Qualitativas"
   ]
  },
  {
   "cell_type": "code",
   "execution_count": 10,
   "metadata": {},
   "outputs": [
    {
     "data": {
      "image/png": "[encoded data removed]",
      "text/plain": [
       "<Figure size 432x288 with 1 Axes>"
      ]
     },
     "metadata": {
      "needs_background": "light"
     },
     "output_type": "display_data"
    }
   ],
   "source": [
    "# Plot de contagem por tipo de transação (normal/fraudulenta)\n",
    "sns.countplot(categorical['classe_cliente'], palette = \"OrRd\")\n",
    "plt.box(False)\n",
    "plt.xlabel('Categoria', fontsize = 11)\n",
    "plt.ylabel('Contagem', fontsize = 11)\n",
    "plt.title('Distribuição de Transações por Classe de Clientes\\n')\n",
    "plt.show()"
   ]
  },
  {
   "cell_type": "code",
   "execution_count": 11,
   "metadata": {},
   "outputs": [
    {
     "data": {
      "image/png": "[encoded data removed]",
      "text/plain": [
       "<Figure size 432x288 with 1 Axes>"
      ]
     },
     "metadata": {
      "needs_background": "light"
     },
     "output_type": "display_data"
    }
   ],
   "source": [
    "# Plot de contagem por tipo de transação (norma/fraudulenta)\n",
    "sns.countplot(categorical['local_medidor'], palette = \"OrRd\")\n",
    "plt.box(False)\n",
    "plt.xlabel('Categoria', fontsize = 11)\n",
    "plt.ylabel('Contagem', fontsize = 11)\n",
    "plt.title('Distribuição de Transações por Classe de Clientes\\n')\n",
    "plt.show()"
   ]
  },
  {
   "cell_type": "code",
   "execution_count": 12,
   "metadata": {},
   "outputs": [
    {
     "data": {
      "image/png": "[encoded data removed]",
      "text/plain": [
       "<Figure size 1080x360 with 1 Axes>"
      ]
     },
     "metadata": {
      "needs_background": "light"
     },
     "output_type": "display_data"
    }
   ],
   "source": [
    "# Stacked Bar Subestação x Classe do cliente\n",
    "pd.crosstab(dataset['id_subestacao'], dataset['classe_cliente']).plot(kind = 'bar', \n",
    "                                                   stacked = True, \n",
    "                                                   figsize = (15, 5), \n",
    "                                                   color = ['red', 'green'])\n",
    "plt.xlabel('Subestação', fontsize = 11)\n",
    "plt.ylabel('Contagem', fontsize = 11)\n",
    "plt.title('Distribuição de Transações por Subestação\\n')\n",
    "plt.show()"
   ]
  },
  {
   "cell_type": "markdown",
   "metadata": {},
   "source": [
    "### Nota\n",
    "Há um forte desbalanceamento na classe dos clientes, por isso será utilizado técnicas para balancear os dados no dataset (ROSE, UnderSampling e replicação das transações fraudulentas nas subestações afim de balancear o dataset)."
   ]
  },
  {
   "cell_type": "markdown",
   "metadata": {},
   "source": [
    "## Data Wrangling"
   ]
  },
  {
   "cell_type": "code",
   "execution_count": 13,
   "metadata": {},
   "outputs": [],
   "source": [
    "# Criar cópias do dataset original\n",
    "\n",
    "# dataset_modified = dataset.copy()\n",
    "dataset_modified2 = dataset.copy()"
   ]
  },
  {
   "cell_type": "code",
   "execution_count": 14,
   "metadata": {},
   "outputs": [
    {
     "data": {
      "text/html": [
       "<div>\n",
       "<style scoped>\n",
       "    .dataframe tbody tr th:only-of-type {\n",
       "        vertical-align: middle;\n",
       "    }\n",
       "\n",
       "    .dataframe tbody tr th {\n",
       "        vertical-align: top;\n",
       "    }\n",
       "\n",
       "    .dataframe thead th {\n",
       "        text-align: right;\n",
       "    }\n",
       "</style>\n",
       "<table border=\"1\" class=\"dataframe\">\n",
       "  <thead>\n",
       "    <tr style=\"text-align: right;\">\n",
       "      <th></th>\n",
       "      <th>id_subestacao</th>\n",
       "      <th>local_medidor</th>\n",
       "      <th>tipo_medidor</th>\n",
       "      <th>consumo_medio_mensal</th>\n",
       "      <th>temperatura_maxima</th>\n",
       "      <th>temperatura_minima</th>\n",
       "      <th>numero_fases</th>\n",
       "      <th>classe_cliente</th>\n",
       "    </tr>\n",
       "  </thead>\n",
       "  <tbody>\n",
       "    <tr>\n",
       "      <th>0</th>\n",
       "      <td>14</td>\n",
       "      <td>0</td>\n",
       "      <td>1</td>\n",
       "      <td>293</td>\n",
       "      <td>42</td>\n",
       "      <td>10</td>\n",
       "      <td>1</td>\n",
       "      <td>1</td>\n",
       "    </tr>\n",
       "    <tr>\n",
       "      <th>1</th>\n",
       "      <td>30</td>\n",
       "      <td>2</td>\n",
       "      <td>1</td>\n",
       "      <td>190</td>\n",
       "      <td>36</td>\n",
       "      <td>13</td>\n",
       "      <td>2</td>\n",
       "      <td>1</td>\n",
       "    </tr>\n",
       "    <tr>\n",
       "      <th>2</th>\n",
       "      <td>38</td>\n",
       "      <td>2</td>\n",
       "      <td>1</td>\n",
       "      <td>399</td>\n",
       "      <td>31</td>\n",
       "      <td>14</td>\n",
       "      <td>0</td>\n",
       "      <td>1</td>\n",
       "    </tr>\n",
       "    <tr>\n",
       "      <th>3</th>\n",
       "      <td>40</td>\n",
       "      <td>2</td>\n",
       "      <td>0</td>\n",
       "      <td>307</td>\n",
       "      <td>45</td>\n",
       "      <td>11</td>\n",
       "      <td>1</td>\n",
       "      <td>1</td>\n",
       "    </tr>\n",
       "    <tr>\n",
       "      <th>4</th>\n",
       "      <td>15</td>\n",
       "      <td>2</td>\n",
       "      <td>1</td>\n",
       "      <td>407</td>\n",
       "      <td>39</td>\n",
       "      <td>19</td>\n",
       "      <td>2</td>\n",
       "      <td>1</td>\n",
       "    </tr>\n",
       "  </tbody>\n",
       "</table>\n",
       "</div>"
      ],
      "text/plain": [
       "   id_subestacao  local_medidor  tipo_medidor  consumo_medio_mensal  \\\n",
       "0             14              0             1                   293   \n",
       "1             30              2             1                   190   \n",
       "2             38              2             1                   399   \n",
       "3             40              2             0                   307   \n",
       "4             15              2             1                   407   \n",
       "\n",
       "   temperatura_maxima  temperatura_minima  numero_fases  classe_cliente  \n",
       "0                  42                  10             1               1  \n",
       "1                  36                  13             2               1  \n",
       "2                  31                  14             0               1  \n",
       "3                  45                  11             1               1  \n",
       "4                  39                  19             2               1  "
      ]
     },
     "execution_count": 14,
     "metadata": {},
     "output_type": "execute_result"
    }
   ],
   "source": [
    "# Converte colunas categóricas para 'Categorical' e mapeia em formato de números - [APENAS PARA REGISTRO]\n",
    "\n",
    "# for col in categorical.columns.tolist():\n",
    "#     dataset_modified[col] = pd.Categorical(dataset_modified[col]) # Converte para categórico\n",
    "#     cats = dict(enumerate(dataset_modified[col].cat.categories)) # Mapeia categorias em dict\n",
    "#     cats = {v: k for k, v in cats.items()} # Inverte par chave/valor do dict\n",
    "#     dataset_modified[col] = dataset_modified[col].map(cats) # Remapeia base\n",
    "    \n",
    "# # Converte colunas para int64\n",
    "# for col in categorical.columns.tolist():\n",
    "#     dataset_modified[col] = pd.to_numeric(dataset_modified[col]) # Converte para categórico\n",
    "# dataset_modified.head()"
   ]
  },
  {
   "cell_type": "code",
   "execution_count": 15,
   "metadata": {
    "scrolled": true
   },
   "outputs": [
    {
     "data": {
      "text/plain": [
       "['local_medidor', 'tipo_medidor', 'numero_fases']"
      ]
     },
     "metadata": {},
     "output_type": "display_data"
    },
    {
     "name": "stdout",
     "output_type": "stream",
     "text": [
      "['local_medidor_comercial', 'local_medidor_industrial', 'local_medidor_residencial']\n",
      "['tipo_medidor_analogico', 'tipo_medidor_digital']\n",
      "['numero_fases_bifasica', 'numero_fases_monofasica', 'numero_fases_trifasica']\n"
     ]
    },
    {
     "data": {
      "text/html": [
       "<div>\n",
       "<style scoped>\n",
       "    .dataframe tbody tr th:only-of-type {\n",
       "        vertical-align: middle;\n",
       "    }\n",
       "\n",
       "    .dataframe tbody tr th {\n",
       "        vertical-align: top;\n",
       "    }\n",
       "\n",
       "    .dataframe thead th {\n",
       "        text-align: right;\n",
       "    }\n",
       "</style>\n",
       "<table border=\"1\" class=\"dataframe\">\n",
       "  <thead>\n",
       "    <tr style=\"text-align: right;\">\n",
       "      <th></th>\n",
       "      <th>id_subestacao</th>\n",
       "      <th>consumo_medio_mensal</th>\n",
       "      <th>temperatura_maxima</th>\n",
       "      <th>temperatura_minima</th>\n",
       "      <th>classe_cliente</th>\n",
       "      <th>local_medidor_comercial</th>\n",
       "      <th>local_medidor_industrial</th>\n",
       "      <th>local_medidor_residencial</th>\n",
       "      <th>tipo_medidor_analogico</th>\n",
       "      <th>tipo_medidor_digital</th>\n",
       "      <th>numero_fases_bifasica</th>\n",
       "      <th>numero_fases_monofasica</th>\n",
       "      <th>numero_fases_trifasica</th>\n",
       "    </tr>\n",
       "  </thead>\n",
       "  <tbody>\n",
       "    <tr>\n",
       "      <th>0</th>\n",
       "      <td>14</td>\n",
       "      <td>293</td>\n",
       "      <td>42</td>\n",
       "      <td>10</td>\n",
       "      <td>0</td>\n",
       "      <td>1.00</td>\n",
       "      <td>0.00</td>\n",
       "      <td>0.00</td>\n",
       "      <td>0.00</td>\n",
       "      <td>1.00</td>\n",
       "      <td>0.00</td>\n",
       "      <td>1.00</td>\n",
       "      <td>0.00</td>\n",
       "    </tr>\n",
       "    <tr>\n",
       "      <th>1</th>\n",
       "      <td>30</td>\n",
       "      <td>190</td>\n",
       "      <td>36</td>\n",
       "      <td>13</td>\n",
       "      <td>0</td>\n",
       "      <td>0.00</td>\n",
       "      <td>0.00</td>\n",
       "      <td>1.00</td>\n",
       "      <td>0.00</td>\n",
       "      <td>1.00</td>\n",
       "      <td>0.00</td>\n",
       "      <td>0.00</td>\n",
       "      <td>1.00</td>\n",
       "    </tr>\n",
       "    <tr>\n",
       "      <th>2</th>\n",
       "      <td>38</td>\n",
       "      <td>399</td>\n",
       "      <td>31</td>\n",
       "      <td>14</td>\n",
       "      <td>0</td>\n",
       "      <td>0.00</td>\n",
       "      <td>0.00</td>\n",
       "      <td>1.00</td>\n",
       "      <td>0.00</td>\n",
       "      <td>1.00</td>\n",
       "      <td>1.00</td>\n",
       "      <td>0.00</td>\n",
       "      <td>0.00</td>\n",
       "    </tr>\n",
       "    <tr>\n",
       "      <th>3</th>\n",
       "      <td>40</td>\n",
       "      <td>307</td>\n",
       "      <td>45</td>\n",
       "      <td>11</td>\n",
       "      <td>0</td>\n",
       "      <td>0.00</td>\n",
       "      <td>0.00</td>\n",
       "      <td>1.00</td>\n",
       "      <td>1.00</td>\n",
       "      <td>0.00</td>\n",
       "      <td>0.00</td>\n",
       "      <td>1.00</td>\n",
       "      <td>0.00</td>\n",
       "    </tr>\n",
       "    <tr>\n",
       "      <th>4</th>\n",
       "      <td>15</td>\n",
       "      <td>407</td>\n",
       "      <td>39</td>\n",
       "      <td>19</td>\n",
       "      <td>0</td>\n",
       "      <td>0.00</td>\n",
       "      <td>0.00</td>\n",
       "      <td>1.00</td>\n",
       "      <td>0.00</td>\n",
       "      <td>1.00</td>\n",
       "      <td>0.00</td>\n",
       "      <td>0.00</td>\n",
       "      <td>1.00</td>\n",
       "    </tr>\n",
       "  </tbody>\n",
       "</table>\n",
       "</div>"
      ],
      "text/plain": [
       "   id_subestacao  consumo_medio_mensal  temperatura_maxima  \\\n",
       "0             14                   293                  42   \n",
       "1             30                   190                  36   \n",
       "2             38                   399                  31   \n",
       "3             40                   307                  45   \n",
       "4             15                   407                  39   \n",
       "\n",
       "   temperatura_minima  classe_cliente  local_medidor_comercial  \\\n",
       "0                  10               0                     1.00   \n",
       "1                  13               0                     0.00   \n",
       "2                  14               0                     0.00   \n",
       "3                  11               0                     0.00   \n",
       "4                  19               0                     0.00   \n",
       "\n",
       "   local_medidor_industrial  local_medidor_residencial  \\\n",
       "0                      0.00                       0.00   \n",
       "1                      0.00                       1.00   \n",
       "2                      0.00                       1.00   \n",
       "3                      0.00                       1.00   \n",
       "4                      0.00                       1.00   \n",
       "\n",
       "   tipo_medidor_analogico  tipo_medidor_digital  numero_fases_bifasica  \\\n",
       "0                    0.00                  1.00                   0.00   \n",
       "1                    0.00                  1.00                   0.00   \n",
       "2                    0.00                  1.00                   1.00   \n",
       "3                    1.00                  0.00                   0.00   \n",
       "4                    0.00                  1.00                   0.00   \n",
       "\n",
       "   numero_fases_monofasica  numero_fases_trifasica  \n",
       "0                     1.00                    0.00  \n",
       "1                     0.00                    1.00  \n",
       "2                     0.00                    0.00  \n",
       "3                     1.00                    0.00  \n",
       "4                     0.00                    1.00  "
      ]
     },
     "execution_count": 15,
     "metadata": {},
     "output_type": "execute_result"
    }
   ],
   "source": [
    "# One Hot Encoding nas variáveis categóricas (conversão do DataFrame para formato wide)\n",
    "\n",
    "from sklearn.preprocessing import OneHotEncoder\n",
    "\n",
    "cols = categorical.columns.tolist()\n",
    "cols.remove('classe_cliente')\n",
    "display(cols)\n",
    "\n",
    "# Converte colunas para int64\n",
    "for col in categorical.columns.tolist():\n",
    "    dataset[col] = dataset[col].astype(str) # Converte para categórico\n",
    "\n",
    "dataset_modified2 = dataset.copy()\n",
    "    \n",
    "for col in cols:\n",
    "    ohe = OneHotEncoder().fit(dataset_modified2[col].values.reshape(-1,1))\n",
    "    ohe_cols = list(map(lambda val: col + '_' + str(val), ohe.categories_[0]))\n",
    "    print(ohe_cols)\n",
    "    ohe_frame = pd.DataFrame(ohe.transform(dataset_modified2[col].values.reshape(-1,1)).toarray(), columns = ohe_cols)\n",
    "    dataset_modified2 = pd.concat([dataset_modified2, ohe_frame], join = 'inner', axis = 1)\n",
    "    dataset_modified2.drop(columns = {col}, inplace = True)\n",
    "# Mapear classe target para binário\n",
    "dataset_modified2['classe_cliente'] = dataset_modified2['classe_cliente'].map(lambda x: 1 if x == 'fraudador' else 0)\n",
    "dataset_modified2.head()"
   ]
  },
  {
   "cell_type": "code",
   "execution_count": 16,
   "metadata": {
    "scrolled": true
   },
   "outputs": [
    {
     "data": {
      "text/html": [
       "<style  type=\"text/css\" >\n",
       "    #T_686b690a_8c3e_11ec_91dd_3c9c0f4c0d9brow0_col0 {\n",
       "            background-color:  #b40426;\n",
       "            color:  #f1f1f1;\n",
       "        }    #T_686b690a_8c3e_11ec_91dd_3c9c0f4c0d9brow0_col1 {\n",
       "            background-color:  #3d50c3;\n",
       "            color:  #f1f1f1;\n",
       "        }    #T_686b690a_8c3e_11ec_91dd_3c9c0f4c0d9brow0_col2 {\n",
       "            background-color:  #3b4cc0;\n",
       "            color:  #f1f1f1;\n",
       "        }    #T_686b690a_8c3e_11ec_91dd_3c9c0f4c0d9brow0_col3 {\n",
       "            background-color:  #8badfd;\n",
       "            color:  #000000;\n",
       "        }    #T_686b690a_8c3e_11ec_91dd_3c9c0f4c0d9brow0_col4 {\n",
       "            background-color:  #b7cff9;\n",
       "            color:  #000000;\n",
       "        }    #T_686b690a_8c3e_11ec_91dd_3c9c0f4c0d9brow0_col5 {\n",
       "            background-color:  #b3cdfb;\n",
       "            color:  #000000;\n",
       "        }    #T_686b690a_8c3e_11ec_91dd_3c9c0f4c0d9brow0_col6 {\n",
       "            background-color:  #aec9fc;\n",
       "            color:  #000000;\n",
       "        }    #T_686b690a_8c3e_11ec_91dd_3c9c0f4c0d9brow0_col7 {\n",
       "            background-color:  #dedcdb;\n",
       "            color:  #000000;\n",
       "        }    #T_686b690a_8c3e_11ec_91dd_3c9c0f4c0d9brow0_col8 {\n",
       "            background-color:  #dbdcde;\n",
       "            color:  #000000;\n",
       "        }    #T_686b690a_8c3e_11ec_91dd_3c9c0f4c0d9brow0_col9 {\n",
       "            background-color:  #a9c6fd;\n",
       "            color:  #000000;\n",
       "        }    #T_686b690a_8c3e_11ec_91dd_3c9c0f4c0d9brow0_col10 {\n",
       "            background-color:  #aec9fc;\n",
       "            color:  #000000;\n",
       "        }    #T_686b690a_8c3e_11ec_91dd_3c9c0f4c0d9brow0_col11 {\n",
       "            background-color:  #a9c6fd;\n",
       "            color:  #000000;\n",
       "        }    #T_686b690a_8c3e_11ec_91dd_3c9c0f4c0d9brow1_col0 {\n",
       "            background-color:  #4055c8;\n",
       "            color:  #f1f1f1;\n",
       "        }    #T_686b690a_8c3e_11ec_91dd_3c9c0f4c0d9brow1_col1 {\n",
       "            background-color:  #b40426;\n",
       "            color:  #f1f1f1;\n",
       "        }    #T_686b690a_8c3e_11ec_91dd_3c9c0f4c0d9brow1_col2 {\n",
       "            background-color:  #3c4ec2;\n",
       "            color:  #f1f1f1;\n",
       "        }    #T_686b690a_8c3e_11ec_91dd_3c9c0f4c0d9brow1_col3 {\n",
       "            background-color:  #5875e1;\n",
       "            color:  #000000;\n",
       "        }    #T_686b690a_8c3e_11ec_91dd_3c9c0f4c0d9brow1_col4 {\n",
       "            background-color:  #b9d0f9;\n",
       "            color:  #000000;\n",
       "        }    #T_686b690a_8c3e_11ec_91dd_3c9c0f4c0d9brow1_col5 {\n",
       "            background-color:  #b7cff9;\n",
       "            color:  #000000;\n",
       "        }    #T_686b690a_8c3e_11ec_91dd_3c9c0f4c0d9brow1_col6 {\n",
       "            background-color:  #a9c6fd;\n",
       "            color:  #000000;\n",
       "        }    #T_686b690a_8c3e_11ec_91dd_3c9c0f4c0d9brow1_col7 {\n",
       "            background-color:  #dddcdc;\n",
       "            color:  #000000;\n",
       "        }    #T_686b690a_8c3e_11ec_91dd_3c9c0f4c0d9brow1_col8 {\n",
       "            background-color:  #dcdddd;\n",
       "            color:  #000000;\n",
       "        }    #T_686b690a_8c3e_11ec_91dd_3c9c0f4c0d9brow1_col9 {\n",
       "            background-color:  #a9c6fd;\n",
       "            color:  #000000;\n",
       "        }    #T_686b690a_8c3e_11ec_91dd_3c9c0f4c0d9brow1_col10 {\n",
       "            background-color:  #abc8fd;\n",
       "            color:  #000000;\n",
       "        }    #T_686b690a_8c3e_11ec_91dd_3c9c0f4c0d9brow1_col11 {\n",
       "            background-color:  #aac7fd;\n",
       "            color:  #000000;\n",
       "        }    #T_686b690a_8c3e_11ec_91dd_3c9c0f4c0d9brow2_col0 {\n",
       "            background-color:  #4055c8;\n",
       "            color:  #f1f1f1;\n",
       "        }    #T_686b690a_8c3e_11ec_91dd_3c9c0f4c0d9brow2_col1 {\n",
       "            background-color:  #3d50c3;\n",
       "            color:  #f1f1f1;\n",
       "        }    #T_686b690a_8c3e_11ec_91dd_3c9c0f4c0d9brow2_col2 {\n",
       "            background-color:  #b40426;\n",
       "            color:  #f1f1f1;\n",
       "        }    #T_686b690a_8c3e_11ec_91dd_3c9c0f4c0d9brow2_col3 {\n",
       "            background-color:  #5875e1;\n",
       "            color:  #000000;\n",
       "        }    #T_686b690a_8c3e_11ec_91dd_3c9c0f4c0d9brow2_col4 {\n",
       "            background-color:  #b7cff9;\n",
       "            color:  #000000;\n",
       "        }    #T_686b690a_8c3e_11ec_91dd_3c9c0f4c0d9brow2_col5 {\n",
       "            background-color:  #b7cff9;\n",
       "            color:  #000000;\n",
       "        }    #T_686b690a_8c3e_11ec_91dd_3c9c0f4c0d9brow2_col6 {\n",
       "            background-color:  #a9c6fd;\n",
       "            color:  #000000;\n",
       "        }    #T_686b690a_8c3e_11ec_91dd_3c9c0f4c0d9brow2_col7 {\n",
       "            background-color:  #dddcdc;\n",
       "            color:  #000000;\n",
       "        }    #T_686b690a_8c3e_11ec_91dd_3c9c0f4c0d9brow2_col8 {\n",
       "            background-color:  #dcdddd;\n",
       "            color:  #000000;\n",
       "        }    #T_686b690a_8c3e_11ec_91dd_3c9c0f4c0d9brow2_col9 {\n",
       "            background-color:  #aac7fd;\n",
       "            color:  #000000;\n",
       "        }    #T_686b690a_8c3e_11ec_91dd_3c9c0f4c0d9brow2_col10 {\n",
       "            background-color:  #aac7fd;\n",
       "            color:  #000000;\n",
       "        }    #T_686b690a_8c3e_11ec_91dd_3c9c0f4c0d9brow2_col11 {\n",
       "            background-color:  #aac7fd;\n",
       "            color:  #000000;\n",
       "        }    #T_686b690a_8c3e_11ec_91dd_3c9c0f4c0d9brow3_col0 {\n",
       "            background-color:  #7597f6;\n",
       "            color:  #000000;\n",
       "        }    #T_686b690a_8c3e_11ec_91dd_3c9c0f4c0d9brow3_col1 {\n",
       "            background-color:  #3c4ec2;\n",
       "            color:  #f1f1f1;\n",
       "        }    #T_686b690a_8c3e_11ec_91dd_3c9c0f4c0d9brow3_col2 {\n",
       "            background-color:  #3c4ec2;\n",
       "            color:  #f1f1f1;\n",
       "        }    #T_686b690a_8c3e_11ec_91dd_3c9c0f4c0d9brow3_col3 {\n",
       "            background-color:  #b40426;\n",
       "            color:  #f1f1f1;\n",
       "        }    #T_686b690a_8c3e_11ec_91dd_3c9c0f4c0d9brow3_col4 {\n",
       "            background-color:  #b5cdfa;\n",
       "            color:  #000000;\n",
       "        }    #T_686b690a_8c3e_11ec_91dd_3c9c0f4c0d9brow3_col5 {\n",
       "            background-color:  #a2c1ff;\n",
       "            color:  #000000;\n",
       "        }    #T_686b690a_8c3e_11ec_91dd_3c9c0f4c0d9brow3_col6 {\n",
       "            background-color:  #c5d6f2;\n",
       "            color:  #000000;\n",
       "        }    #T_686b690a_8c3e_11ec_91dd_3c9c0f4c0d9brow3_col7 {\n",
       "            background-color:  #e6d7cf;\n",
       "            color:  #000000;\n",
       "        }    #T_686b690a_8c3e_11ec_91dd_3c9c0f4c0d9brow3_col8 {\n",
       "            background-color:  #d3dbe7;\n",
       "            color:  #000000;\n",
       "        }    #T_686b690a_8c3e_11ec_91dd_3c9c0f4c0d9brow3_col9 {\n",
       "            background-color:  #a5c3fe;\n",
       "            color:  #000000;\n",
       "        }    #T_686b690a_8c3e_11ec_91dd_3c9c0f4c0d9brow3_col10 {\n",
       "            background-color:  #bed2f6;\n",
       "            color:  #000000;\n",
       "        }    #T_686b690a_8c3e_11ec_91dd_3c9c0f4c0d9brow3_col11 {\n",
       "            background-color:  #9dbdff;\n",
       "            color:  #000000;\n",
       "        }    #T_686b690a_8c3e_11ec_91dd_3c9c0f4c0d9brow4_col0 {\n",
       "            background-color:  #3f53c6;\n",
       "            color:  #f1f1f1;\n",
       "        }    #T_686b690a_8c3e_11ec_91dd_3c9c0f4c0d9brow4_col1 {\n",
       "            background-color:  #3c4ec2;\n",
       "            color:  #f1f1f1;\n",
       "        }    #T_686b690a_8c3e_11ec_91dd_3c9c0f4c0d9brow4_col2 {\n",
       "            background-color:  #3b4cc0;\n",
       "            color:  #f1f1f1;\n",
       "        }    #T_686b690a_8c3e_11ec_91dd_3c9c0f4c0d9brow4_col3 {\n",
       "            background-color:  #5470de;\n",
       "            color:  #000000;\n",
       "        }    #T_686b690a_8c3e_11ec_91dd_3c9c0f4c0d9brow4_col4 {\n",
       "            background-color:  #b40426;\n",
       "            color:  #f1f1f1;\n",
       "        }    #T_686b690a_8c3e_11ec_91dd_3c9c0f4c0d9brow4_col5 {\n",
       "            background-color:  #3b4cc0;\n",
       "            color:  #f1f1f1;\n",
       "        }    #T_686b690a_8c3e_11ec_91dd_3c9c0f4c0d9brow4_col6 {\n",
       "            background-color:  #4b64d5;\n",
       "            color:  #f1f1f1;\n",
       "        }    #T_686b690a_8c3e_11ec_91dd_3c9c0f4c0d9brow4_col7 {\n",
       "            background-color:  #dfdbd9;\n",
       "            color:  #000000;\n",
       "        }    #T_686b690a_8c3e_11ec_91dd_3c9c0f4c0d9brow4_col8 {\n",
       "            background-color:  #dadce0;\n",
       "            color:  #000000;\n",
       "        }    #T_686b690a_8c3e_11ec_91dd_3c9c0f4c0d9brow4_col9 {\n",
       "            background-color:  #aac7fd;\n",
       "            color:  #000000;\n",
       "        }    #T_686b690a_8c3e_11ec_91dd_3c9c0f4c0d9brow4_col10 {\n",
       "            background-color:  #aac7fd;\n",
       "            color:  #000000;\n",
       "        }    #T_686b690a_8c3e_11ec_91dd_3c9c0f4c0d9brow4_col11 {\n",
       "            background-color:  #abc8fd;\n",
       "            color:  #000000;\n",
       "        }    #T_686b690a_8c3e_11ec_91dd_3c9c0f4c0d9brow5_col0 {\n",
       "            background-color:  #3b4cc0;\n",
       "            color:  #f1f1f1;\n",
       "        }    #T_686b690a_8c3e_11ec_91dd_3c9c0f4c0d9brow5_col1 {\n",
       "            background-color:  #3b4cc0;\n",
       "            color:  #f1f1f1;\n",
       "        }    #T_686b690a_8c3e_11ec_91dd_3c9c0f4c0d9brow5_col2 {\n",
       "            background-color:  #3b4cc0;\n",
       "            color:  #f1f1f1;\n",
       "        }    #T_686b690a_8c3e_11ec_91dd_3c9c0f4c0d9brow5_col3 {\n",
       "            background-color:  #3b4cc0;\n",
       "            color:  #f1f1f1;\n",
       "        }    #T_686b690a_8c3e_11ec_91dd_3c9c0f4c0d9brow5_col4 {\n",
       "            background-color:  #3b4cc0;\n",
       "            color:  #f1f1f1;\n",
       "        }    #T_686b690a_8c3e_11ec_91dd_3c9c0f4c0d9brow5_col5 {\n",
       "            background-color:  #b40426;\n",
       "            color:  #f1f1f1;\n",
       "        }    #T_686b690a_8c3e_11ec_91dd_3c9c0f4c0d9brow5_col6 {\n",
       "            background-color:  #3b4cc0;\n",
       "            color:  #f1f1f1;\n",
       "        }    #T_686b690a_8c3e_11ec_91dd_3c9c0f4c0d9brow5_col7 {\n",
       "            background-color:  #d8dce2;\n",
       "            color:  #000000;\n",
       "        }    #T_686b690a_8c3e_11ec_91dd_3c9c0f4c0d9brow5_col8 {\n",
       "            background-color:  #e1dad6;\n",
       "            color:  #000000;\n",
       "        }    #T_686b690a_8c3e_11ec_91dd_3c9c0f4c0d9brow5_col9 {\n",
       "            background-color:  #aac7fd;\n",
       "            color:  #000000;\n",
       "        }    #T_686b690a_8c3e_11ec_91dd_3c9c0f4c0d9brow5_col10 {\n",
       "            background-color:  #a9c6fd;\n",
       "            color:  #000000;\n",
       "        }    #T_686b690a_8c3e_11ec_91dd_3c9c0f4c0d9brow5_col11 {\n",
       "            background-color:  #abc8fd;\n",
       "            color:  #000000;\n",
       "        }    #T_686b690a_8c3e_11ec_91dd_3c9c0f4c0d9brow6_col0 {\n",
       "            background-color:  #465ecf;\n",
       "            color:  #f1f1f1;\n",
       "        }    #T_686b690a_8c3e_11ec_91dd_3c9c0f4c0d9brow6_col1 {\n",
       "            background-color:  #3c4ec2;\n",
       "            color:  #f1f1f1;\n",
       "        }    #T_686b690a_8c3e_11ec_91dd_3c9c0f4c0d9brow6_col2 {\n",
       "            background-color:  #3b4cc0;\n",
       "            color:  #f1f1f1;\n",
       "        }    #T_686b690a_8c3e_11ec_91dd_3c9c0f4c0d9brow6_col3 {\n",
       "            background-color:  #80a3fa;\n",
       "            color:  #000000;\n",
       "        }    #T_686b690a_8c3e_11ec_91dd_3c9c0f4c0d9brow6_col4 {\n",
       "            background-color:  #5f7fe8;\n",
       "            color:  #000000;\n",
       "        }    #T_686b690a_8c3e_11ec_91dd_3c9c0f4c0d9brow6_col5 {\n",
       "            background-color:  #4f69d9;\n",
       "            color:  #000000;\n",
       "        }    #T_686b690a_8c3e_11ec_91dd_3c9c0f4c0d9brow6_col6 {\n",
       "            background-color:  #b40426;\n",
       "            color:  #f1f1f1;\n",
       "        }    #T_686b690a_8c3e_11ec_91dd_3c9c0f4c0d9brow6_col7 {\n",
       "            background-color:  #e0dbd8;\n",
       "            color:  #000000;\n",
       "        }    #T_686b690a_8c3e_11ec_91dd_3c9c0f4c0d9brow6_col8 {\n",
       "            background-color:  #d9dce1;\n",
       "            color:  #000000;\n",
       "        }    #T_686b690a_8c3e_11ec_91dd_3c9c0f4c0d9brow6_col9 {\n",
       "            background-color:  #a9c6fd;\n",
       "            color:  #000000;\n",
       "        }    #T_686b690a_8c3e_11ec_91dd_3c9c0f4c0d9brow6_col10 {\n",
       "            background-color:  #adc9fd;\n",
       "            color:  #000000;\n",
       "        }    #T_686b690a_8c3e_11ec_91dd_3c9c0f4c0d9brow6_col11 {\n",
       "            background-color:  #a9c6fd;\n",
       "            color:  #000000;\n",
       "        }    #T_686b690a_8c3e_11ec_91dd_3c9c0f4c0d9brow7_col0 {\n",
       "            background-color:  #445acc;\n",
       "            color:  #f1f1f1;\n",
       "        }    #T_686b690a_8c3e_11ec_91dd_3c9c0f4c0d9brow7_col1 {\n",
       "            background-color:  #3d50c3;\n",
       "            color:  #f1f1f1;\n",
       "        }    #T_686b690a_8c3e_11ec_91dd_3c9c0f4c0d9brow7_col2 {\n",
       "            background-color:  #3b4cc0;\n",
       "            color:  #f1f1f1;\n",
       "        }    #T_686b690a_8c3e_11ec_91dd_3c9c0f4c0d9brow7_col3 {\n",
       "            background-color:  #6c8ff1;\n",
       "            color:  #000000;\n",
       "        }    #T_686b690a_8c3e_11ec_91dd_3c9c0f4c0d9brow7_col4 {\n",
       "            background-color:  #bbd1f8;\n",
       "            color:  #000000;\n",
       "        }    #T_686b690a_8c3e_11ec_91dd_3c9c0f4c0d9brow7_col5 {\n",
       "            background-color:  #afcafc;\n",
       "            color:  #000000;\n",
       "        }    #T_686b690a_8c3e_11ec_91dd_3c9c0f4c0d9brow7_col6 {\n",
       "            background-color:  #aec9fc;\n",
       "            color:  #000000;\n",
       "        }    #T_686b690a_8c3e_11ec_91dd_3c9c0f4c0d9brow7_col7 {\n",
       "            background-color:  #b40426;\n",
       "            color:  #f1f1f1;\n",
       "        }    #T_686b690a_8c3e_11ec_91dd_3c9c0f4c0d9brow7_col8 {\n",
       "            background-color:  #3b4cc0;\n",
       "            color:  #f1f1f1;\n",
       "        }    #T_686b690a_8c3e_11ec_91dd_3c9c0f4c0d9brow7_col9 {\n",
       "            background-color:  #a9c6fd;\n",
       "            color:  #000000;\n",
       "        }    #T_686b690a_8c3e_11ec_91dd_3c9c0f4c0d9brow7_col10 {\n",
       "            background-color:  #adc9fd;\n",
       "            color:  #000000;\n",
       "        }    #T_686b690a_8c3e_11ec_91dd_3c9c0f4c0d9brow7_col11 {\n",
       "            background-color:  #aac7fd;\n",
       "            color:  #000000;\n",
       "        }    #T_686b690a_8c3e_11ec_91dd_3c9c0f4c0d9brow8_col0 {\n",
       "            background-color:  #3c4ec2;\n",
       "            color:  #f1f1f1;\n",
       "        }    #T_686b690a_8c3e_11ec_91dd_3c9c0f4c0d9brow8_col1 {\n",
       "            background-color:  #3b4cc0;\n",
       "            color:  #f1f1f1;\n",
       "        }    #T_686b690a_8c3e_11ec_91dd_3c9c0f4c0d9brow8_col2 {\n",
       "            background-color:  #3b4cc0;\n",
       "            color:  #f1f1f1;\n",
       "        }    #T_686b690a_8c3e_11ec_91dd_3c9c0f4c0d9brow8_col3 {\n",
       "            background-color:  #4358cb;\n",
       "            color:  #f1f1f1;\n",
       "        }    #T_686b690a_8c3e_11ec_91dd_3c9c0f4c0d9brow8_col4 {\n",
       "            background-color:  #b5cdfa;\n",
       "            color:  #000000;\n",
       "        }    #T_686b690a_8c3e_11ec_91dd_3c9c0f4c0d9brow8_col5 {\n",
       "            background-color:  #bfd3f6;\n",
       "            color:  #000000;\n",
       "        }    #T_686b690a_8c3e_11ec_91dd_3c9c0f4c0d9brow8_col6 {\n",
       "            background-color:  #a3c2fe;\n",
       "            color:  #000000;\n",
       "        }    #T_686b690a_8c3e_11ec_91dd_3c9c0f4c0d9brow8_col7 {\n",
       "            background-color:  #3b4cc0;\n",
       "            color:  #f1f1f1;\n",
       "        }    #T_686b690a_8c3e_11ec_91dd_3c9c0f4c0d9brow8_col8 {\n",
       "            background-color:  #b40426;\n",
       "            color:  #f1f1f1;\n",
       "        }    #T_686b690a_8c3e_11ec_91dd_3c9c0f4c0d9brow8_col9 {\n",
       "            background-color:  #abc8fd;\n",
       "            color:  #000000;\n",
       "        }    #T_686b690a_8c3e_11ec_91dd_3c9c0f4c0d9brow8_col10 {\n",
       "            background-color:  #a9c6fd;\n",
       "            color:  #000000;\n",
       "        }    #T_686b690a_8c3e_11ec_91dd_3c9c0f4c0d9brow8_col11 {\n",
       "            background-color:  #abc8fd;\n",
       "            color:  #000000;\n",
       "        }    #T_686b690a_8c3e_11ec_91dd_3c9c0f4c0d9brow9_col0 {\n",
       "            background-color:  #3e51c5;\n",
       "            color:  #f1f1f1;\n",
       "        }    #T_686b690a_8c3e_11ec_91dd_3c9c0f4c0d9brow9_col1 {\n",
       "            background-color:  #3b4cc0;\n",
       "            color:  #f1f1f1;\n",
       "        }    #T_686b690a_8c3e_11ec_91dd_3c9c0f4c0d9brow9_col2 {\n",
       "            background-color:  #3c4ec2;\n",
       "            color:  #f1f1f1;\n",
       "        }    #T_686b690a_8c3e_11ec_91dd_3c9c0f4c0d9brow9_col3 {\n",
       "            background-color:  #516ddb;\n",
       "            color:  #000000;\n",
       "        }    #T_686b690a_8c3e_11ec_91dd_3c9c0f4c0d9brow9_col4 {\n",
       "            background-color:  #b7cff9;\n",
       "            color:  #000000;\n",
       "        }    #T_686b690a_8c3e_11ec_91dd_3c9c0f4c0d9brow9_col5 {\n",
       "            background-color:  #b9d0f9;\n",
       "            color:  #000000;\n",
       "        }    #T_686b690a_8c3e_11ec_91dd_3c9c0f4c0d9brow9_col6 {\n",
       "            background-color:  #a7c5fe;\n",
       "            color:  #000000;\n",
       "        }    #T_686b690a_8c3e_11ec_91dd_3c9c0f4c0d9brow9_col7 {\n",
       "            background-color:  #dcdddd;\n",
       "            color:  #000000;\n",
       "        }    #T_686b690a_8c3e_11ec_91dd_3c9c0f4c0d9brow9_col8 {\n",
       "            background-color:  #dddcdc;\n",
       "            color:  #000000;\n",
       "        }    #T_686b690a_8c3e_11ec_91dd_3c9c0f4c0d9brow9_col9 {\n",
       "            background-color:  #b40426;\n",
       "            color:  #f1f1f1;\n",
       "        }    #T_686b690a_8c3e_11ec_91dd_3c9c0f4c0d9brow9_col10 {\n",
       "            background-color:  #3c4ec2;\n",
       "            color:  #f1f1f1;\n",
       "        }    #T_686b690a_8c3e_11ec_91dd_3c9c0f4c0d9brow9_col11 {\n",
       "            background-color:  #3c4ec2;\n",
       "            color:  #f1f1f1;\n",
       "        }    #T_686b690a_8c3e_11ec_91dd_3c9c0f4c0d9brow10_col0 {\n",
       "            background-color:  #445acc;\n",
       "            color:  #f1f1f1;\n",
       "        }    #T_686b690a_8c3e_11ec_91dd_3c9c0f4c0d9brow10_col1 {\n",
       "            background-color:  #3d50c3;\n",
       "            color:  #f1f1f1;\n",
       "        }    #T_686b690a_8c3e_11ec_91dd_3c9c0f4c0d9brow10_col2 {\n",
       "            background-color:  #3b4cc0;\n",
       "            color:  #f1f1f1;\n",
       "        }    #T_686b690a_8c3e_11ec_91dd_3c9c0f4c0d9brow10_col3 {\n",
       "            background-color:  #7093f3;\n",
       "            color:  #000000;\n",
       "        }    #T_686b690a_8c3e_11ec_91dd_3c9c0f4c0d9brow10_col4 {\n",
       "            background-color:  #b7cff9;\n",
       "            color:  #000000;\n",
       "        }    #T_686b690a_8c3e_11ec_91dd_3c9c0f4c0d9brow10_col5 {\n",
       "            background-color:  #b6cefa;\n",
       "            color:  #000000;\n",
       "        }    #T_686b690a_8c3e_11ec_91dd_3c9c0f4c0d9brow10_col6 {\n",
       "            background-color:  #abc8fd;\n",
       "            color:  #000000;\n",
       "        }    #T_686b690a_8c3e_11ec_91dd_3c9c0f4c0d9brow10_col7 {\n",
       "            background-color:  #dedcdb;\n",
       "            color:  #000000;\n",
       "        }    #T_686b690a_8c3e_11ec_91dd_3c9c0f4c0d9brow10_col8 {\n",
       "            background-color:  #dbdcde;\n",
       "            color:  #000000;\n",
       "        }    #T_686b690a_8c3e_11ec_91dd_3c9c0f4c0d9brow10_col9 {\n",
       "            background-color:  #3b4cc0;\n",
       "            color:  #f1f1f1;\n",
       "        }    #T_686b690a_8c3e_11ec_91dd_3c9c0f4c0d9brow10_col10 {\n",
       "            background-color:  #b40426;\n",
       "            color:  #f1f1f1;\n",
       "        }    #T_686b690a_8c3e_11ec_91dd_3c9c0f4c0d9brow10_col11 {\n",
       "            background-color:  #3b4cc0;\n",
       "            color:  #f1f1f1;\n",
       "        }    #T_686b690a_8c3e_11ec_91dd_3c9c0f4c0d9brow11_col0 {\n",
       "            background-color:  #3d50c3;\n",
       "            color:  #f1f1f1;\n",
       "        }    #T_686b690a_8c3e_11ec_91dd_3c9c0f4c0d9brow11_col1 {\n",
       "            background-color:  #3b4cc0;\n",
       "            color:  #f1f1f1;\n",
       "        }    #T_686b690a_8c3e_11ec_91dd_3c9c0f4c0d9brow11_col2 {\n",
       "            background-color:  #3b4cc0;\n",
       "            color:  #f1f1f1;\n",
       "        }    #T_686b690a_8c3e_11ec_91dd_3c9c0f4c0d9brow11_col3 {\n",
       "            background-color:  #455cce;\n",
       "            color:  #f1f1f1;\n",
       "        }    #T_686b690a_8c3e_11ec_91dd_3c9c0f4c0d9brow11_col4 {\n",
       "            background-color:  #b9d0f9;\n",
       "            color:  #000000;\n",
       "        }    #T_686b690a_8c3e_11ec_91dd_3c9c0f4c0d9brow11_col5 {\n",
       "            background-color:  #b9d0f9;\n",
       "            color:  #000000;\n",
       "        }    #T_686b690a_8c3e_11ec_91dd_3c9c0f4c0d9brow11_col6 {\n",
       "            background-color:  #a6c4fe;\n",
       "            color:  #000000;\n",
       "        }    #T_686b690a_8c3e_11ec_91dd_3c9c0f4c0d9brow11_col7 {\n",
       "            background-color:  #dcdddd;\n",
       "            color:  #000000;\n",
       "        }    #T_686b690a_8c3e_11ec_91dd_3c9c0f4c0d9brow11_col8 {\n",
       "            background-color:  #dddcdc;\n",
       "            color:  #000000;\n",
       "        }    #T_686b690a_8c3e_11ec_91dd_3c9c0f4c0d9brow11_col9 {\n",
       "            background-color:  #3b4cc0;\n",
       "            color:  #f1f1f1;\n",
       "        }    #T_686b690a_8c3e_11ec_91dd_3c9c0f4c0d9brow11_col10 {\n",
       "            background-color:  #3b4cc0;\n",
       "            color:  #f1f1f1;\n",
       "        }    #T_686b690a_8c3e_11ec_91dd_3c9c0f4c0d9brow11_col11 {\n",
       "            background-color:  #b40426;\n",
       "            color:  #f1f1f1;\n",
       "        }</style><table id=\"T_686b690a_8c3e_11ec_91dd_3c9c0f4c0d9b\" ><thead>    <tr>        <th class=\"blank level0\" ></th>        <th class=\"col_heading level0 col0\" >consumo_medio_mensal</th>        <th class=\"col_heading level0 col1\" >temperatura_maxima</th>        <th class=\"col_heading level0 col2\" >temperatura_minima</th>        <th class=\"col_heading level0 col3\" >classe_cliente</th>        <th class=\"col_heading level0 col4\" >local_medidor_comercial</th>        <th class=\"col_heading level0 col5\" >local_medidor_industrial</th>        <th class=\"col_heading level0 col6\" >local_medidor_residencial</th>        <th class=\"col_heading level0 col7\" >tipo_medidor_analogico</th>        <th class=\"col_heading level0 col8\" >tipo_medidor_digital</th>        <th class=\"col_heading level0 col9\" >numero_fases_bifasica</th>        <th class=\"col_heading level0 col10\" >numero_fases_monofasica</th>        <th class=\"col_heading level0 col11\" >numero_fases_trifasica</th>    </tr></thead><tbody>\n",
       "                <tr>\n",
       "                        <th id=\"T_686b690a_8c3e_11ec_91dd_3c9c0f4c0d9blevel0_row0\" class=\"row_heading level0 row0\" >consumo_medio_mensal</th>\n",
       "                        <td id=\"T_686b690a_8c3e_11ec_91dd_3c9c0f4c0d9brow0_col0\" class=\"data row0 col0\" >1.00</td>\n",
       "                        <td id=\"T_686b690a_8c3e_11ec_91dd_3c9c0f4c0d9brow0_col1\" class=\"data row0 col1\" >0.00</td>\n",
       "                        <td id=\"T_686b690a_8c3e_11ec_91dd_3c9c0f4c0d9brow0_col2\" class=\"data row0 col2\" >0.00</td>\n",
       "                        <td id=\"T_686b690a_8c3e_11ec_91dd_3c9c0f4c0d9brow0_col3\" class=\"data row0 col3\" >0.17</td>\n",
       "                        <td id=\"T_686b690a_8c3e_11ec_91dd_3c9c0f4c0d9brow0_col4\" class=\"data row0 col4\" >-0.00</td>\n",
       "                        <td id=\"T_686b690a_8c3e_11ec_91dd_3c9c0f4c0d9brow0_col5\" class=\"data row0 col5\" >-0.02</td>\n",
       "                        <td id=\"T_686b690a_8c3e_11ec_91dd_3c9c0f4c0d9brow0_col6\" class=\"data row0 col6\" >0.02</td>\n",
       "                        <td id=\"T_686b690a_8c3e_11ec_91dd_3c9c0f4c0d9brow0_col7\" class=\"data row0 col7\" >0.01</td>\n",
       "                        <td id=\"T_686b690a_8c3e_11ec_91dd_3c9c0f4c0d9brow0_col8\" class=\"data row0 col8\" >-0.01</td>\n",
       "                        <td id=\"T_686b690a_8c3e_11ec_91dd_3c9c0f4c0d9brow0_col9\" class=\"data row0 col9\" >-0.01</td>\n",
       "                        <td id=\"T_686b690a_8c3e_11ec_91dd_3c9c0f4c0d9brow0_col10\" class=\"data row0 col10\" >0.01</td>\n",
       "                        <td id=\"T_686b690a_8c3e_11ec_91dd_3c9c0f4c0d9brow0_col11\" class=\"data row0 col11\" >-0.01</td>\n",
       "            </tr>\n",
       "            <tr>\n",
       "                        <th id=\"T_686b690a_8c3e_11ec_91dd_3c9c0f4c0d9blevel0_row1\" class=\"row_heading level0 row1\" >temperatura_maxima</th>\n",
       "                        <td id=\"T_686b690a_8c3e_11ec_91dd_3c9c0f4c0d9brow1_col0\" class=\"data row1 col0\" >0.00</td>\n",
       "                        <td id=\"T_686b690a_8c3e_11ec_91dd_3c9c0f4c0d9brow1_col1\" class=\"data row1 col1\" >1.00</td>\n",
       "                        <td id=\"T_686b690a_8c3e_11ec_91dd_3c9c0f4c0d9brow1_col2\" class=\"data row1 col2\" >0.00</td>\n",
       "                        <td id=\"T_686b690a_8c3e_11ec_91dd_3c9c0f4c0d9brow1_col3\" class=\"data row1 col3\" >0.00</td>\n",
       "                        <td id=\"T_686b690a_8c3e_11ec_91dd_3c9c0f4c0d9brow1_col4\" class=\"data row1 col4\" >0.00</td>\n",
       "                        <td id=\"T_686b690a_8c3e_11ec_91dd_3c9c0f4c0d9brow1_col5\" class=\"data row1 col5\" >-0.00</td>\n",
       "                        <td id=\"T_686b690a_8c3e_11ec_91dd_3c9c0f4c0d9brow1_col6\" class=\"data row1 col6\" >0.00</td>\n",
       "                        <td id=\"T_686b690a_8c3e_11ec_91dd_3c9c0f4c0d9brow1_col7\" class=\"data row1 col7\" >0.00</td>\n",
       "                        <td id=\"T_686b690a_8c3e_11ec_91dd_3c9c0f4c0d9brow1_col8\" class=\"data row1 col8\" >-0.00</td>\n",
       "                        <td id=\"T_686b690a_8c3e_11ec_91dd_3c9c0f4c0d9brow1_col9\" class=\"data row1 col9\" >-0.00</td>\n",
       "                        <td id=\"T_686b690a_8c3e_11ec_91dd_3c9c0f4c0d9brow1_col10\" class=\"data row1 col10\" >0.01</td>\n",
       "                        <td id=\"T_686b690a_8c3e_11ec_91dd_3c9c0f4c0d9brow1_col11\" class=\"data row1 col11\" >-0.00</td>\n",
       "            </tr>\n",
       "            <tr>\n",
       "                        <th id=\"T_686b690a_8c3e_11ec_91dd_3c9c0f4c0d9blevel0_row2\" class=\"row_heading level0 row2\" >temperatura_minima</th>\n",
       "                        <td id=\"T_686b690a_8c3e_11ec_91dd_3c9c0f4c0d9brow2_col0\" class=\"data row2 col0\" >0.00</td>\n",
       "                        <td id=\"T_686b690a_8c3e_11ec_91dd_3c9c0f4c0d9brow2_col1\" class=\"data row2 col1\" >0.00</td>\n",
       "                        <td id=\"T_686b690a_8c3e_11ec_91dd_3c9c0f4c0d9brow2_col2\" class=\"data row2 col2\" >1.00</td>\n",
       "                        <td id=\"T_686b690a_8c3e_11ec_91dd_3c9c0f4c0d9brow2_col3\" class=\"data row2 col3\" >0.00</td>\n",
       "                        <td id=\"T_686b690a_8c3e_11ec_91dd_3c9c0f4c0d9brow2_col4\" class=\"data row2 col4\" >0.00</td>\n",
       "                        <td id=\"T_686b690a_8c3e_11ec_91dd_3c9c0f4c0d9brow2_col5\" class=\"data row2 col5\" >-0.00</td>\n",
       "                        <td id=\"T_686b690a_8c3e_11ec_91dd_3c9c0f4c0d9brow2_col6\" class=\"data row2 col6\" >-0.00</td>\n",
       "                        <td id=\"T_686b690a_8c3e_11ec_91dd_3c9c0f4c0d9brow2_col7\" class=\"data row2 col7\" >0.00</td>\n",
       "                        <td id=\"T_686b690a_8c3e_11ec_91dd_3c9c0f4c0d9brow2_col8\" class=\"data row2 col8\" >-0.00</td>\n",
       "                        <td id=\"T_686b690a_8c3e_11ec_91dd_3c9c0f4c0d9brow2_col9\" class=\"data row2 col9\" >0.00</td>\n",
       "                        <td id=\"T_686b690a_8c3e_11ec_91dd_3c9c0f4c0d9brow2_col10\" class=\"data row2 col10\" >-0.00</td>\n",
       "                        <td id=\"T_686b690a_8c3e_11ec_91dd_3c9c0f4c0d9brow2_col11\" class=\"data row2 col11\" >-0.00</td>\n",
       "            </tr>\n",
       "            <tr>\n",
       "                        <th id=\"T_686b690a_8c3e_11ec_91dd_3c9c0f4c0d9blevel0_row3\" class=\"row_heading level0 row3\" >classe_cliente</th>\n",
       "                        <td id=\"T_686b690a_8c3e_11ec_91dd_3c9c0f4c0d9brow3_col0\" class=\"data row3 col0\" >0.17</td>\n",
       "                        <td id=\"T_686b690a_8c3e_11ec_91dd_3c9c0f4c0d9brow3_col1\" class=\"data row3 col1\" >0.00</td>\n",
       "                        <td id=\"T_686b690a_8c3e_11ec_91dd_3c9c0f4c0d9brow3_col2\" class=\"data row3 col2\" >0.00</td>\n",
       "                        <td id=\"T_686b690a_8c3e_11ec_91dd_3c9c0f4c0d9brow3_col3\" class=\"data row3 col3\" >1.00</td>\n",
       "                        <td id=\"T_686b690a_8c3e_11ec_91dd_3c9c0f4c0d9brow3_col4\" class=\"data row3 col4\" >-0.01</td>\n",
       "                        <td id=\"T_686b690a_8c3e_11ec_91dd_3c9c0f4c0d9brow3_col5\" class=\"data row3 col5\" >-0.10</td>\n",
       "                        <td id=\"T_686b690a_8c3e_11ec_91dd_3c9c0f4c0d9brow3_col6\" class=\"data row3 col6\" >0.13</td>\n",
       "                        <td id=\"T_686b690a_8c3e_11ec_91dd_3c9c0f4c0d9brow3_col7\" class=\"data row3 col7\" >0.07</td>\n",
       "                        <td id=\"T_686b690a_8c3e_11ec_91dd_3c9c0f4c0d9brow3_col8\" class=\"data row3 col8\" >-0.07</td>\n",
       "                        <td id=\"T_686b690a_8c3e_11ec_91dd_3c9c0f4c0d9brow3_col9\" class=\"data row3 col9\" >-0.02</td>\n",
       "                        <td id=\"T_686b690a_8c3e_11ec_91dd_3c9c0f4c0d9brow3_col10\" class=\"data row3 col10\" >0.08</td>\n",
       "                        <td id=\"T_686b690a_8c3e_11ec_91dd_3c9c0f4c0d9brow3_col11\" class=\"data row3 col11\" >-0.06</td>\n",
       "            </tr>\n",
       "            <tr>\n",
       "                        <th id=\"T_686b690a_8c3e_11ec_91dd_3c9c0f4c0d9blevel0_row4\" class=\"row_heading level0 row4\" >local_medidor_comercial</th>\n",
       "                        <td id=\"T_686b690a_8c3e_11ec_91dd_3c9c0f4c0d9brow4_col0\" class=\"data row4 col0\" >-0.00</td>\n",
       "                        <td id=\"T_686b690a_8c3e_11ec_91dd_3c9c0f4c0d9brow4_col1\" class=\"data row4 col1\" >0.00</td>\n",
       "                        <td id=\"T_686b690a_8c3e_11ec_91dd_3c9c0f4c0d9brow4_col2\" class=\"data row4 col2\" >0.00</td>\n",
       "                        <td id=\"T_686b690a_8c3e_11ec_91dd_3c9c0f4c0d9brow4_col3\" class=\"data row4 col3\" >-0.01</td>\n",
       "                        <td id=\"T_686b690a_8c3e_11ec_91dd_3c9c0f4c0d9brow4_col4\" class=\"data row4 col4\" >1.00</td>\n",
       "                        <td id=\"T_686b690a_8c3e_11ec_91dd_3c9c0f4c0d9brow4_col5\" class=\"data row4 col5\" >-0.60</td>\n",
       "                        <td id=\"T_686b690a_8c3e_11ec_91dd_3c9c0f4c0d9brow4_col6\" class=\"data row4 col6\" >-0.41</td>\n",
       "                        <td id=\"T_686b690a_8c3e_11ec_91dd_3c9c0f4c0d9brow4_col7\" class=\"data row4 col7\" >0.02</td>\n",
       "                        <td id=\"T_686b690a_8c3e_11ec_91dd_3c9c0f4c0d9brow4_col8\" class=\"data row4 col8\" >-0.02</td>\n",
       "                        <td id=\"T_686b690a_8c3e_11ec_91dd_3c9c0f4c0d9brow4_col9\" class=\"data row4 col9\" >0.00</td>\n",
       "                        <td id=\"T_686b690a_8c3e_11ec_91dd_3c9c0f4c0d9brow4_col10\" class=\"data row4 col10\" >-0.00</td>\n",
       "                        <td id=\"T_686b690a_8c3e_11ec_91dd_3c9c0f4c0d9brow4_col11\" class=\"data row4 col11\" >0.00</td>\n",
       "            </tr>\n",
       "            <tr>\n",
       "                        <th id=\"T_686b690a_8c3e_11ec_91dd_3c9c0f4c0d9blevel0_row5\" class=\"row_heading level0 row5\" >local_medidor_industrial</th>\n",
       "                        <td id=\"T_686b690a_8c3e_11ec_91dd_3c9c0f4c0d9brow5_col0\" class=\"data row5 col0\" >-0.02</td>\n",
       "                        <td id=\"T_686b690a_8c3e_11ec_91dd_3c9c0f4c0d9brow5_col1\" class=\"data row5 col1\" >-0.00</td>\n",
       "                        <td id=\"T_686b690a_8c3e_11ec_91dd_3c9c0f4c0d9brow5_col2\" class=\"data row5 col2\" >-0.00</td>\n",
       "                        <td id=\"T_686b690a_8c3e_11ec_91dd_3c9c0f4c0d9brow5_col3\" class=\"data row5 col3\" >-0.10</td>\n",
       "                        <td id=\"T_686b690a_8c3e_11ec_91dd_3c9c0f4c0d9brow5_col4\" class=\"data row5 col4\" >-0.60</td>\n",
       "                        <td id=\"T_686b690a_8c3e_11ec_91dd_3c9c0f4c0d9brow5_col5\" class=\"data row5 col5\" >1.00</td>\n",
       "                        <td id=\"T_686b690a_8c3e_11ec_91dd_3c9c0f4c0d9brow5_col6\" class=\"data row5 col6\" >-0.49</td>\n",
       "                        <td id=\"T_686b690a_8c3e_11ec_91dd_3c9c0f4c0d9brow5_col7\" class=\"data row5 col7\" >-0.04</td>\n",
       "                        <td id=\"T_686b690a_8c3e_11ec_91dd_3c9c0f4c0d9brow5_col8\" class=\"data row5 col8\" >0.04</td>\n",
       "                        <td id=\"T_686b690a_8c3e_11ec_91dd_3c9c0f4c0d9brow5_col9\" class=\"data row5 col9\" >0.00</td>\n",
       "                        <td id=\"T_686b690a_8c3e_11ec_91dd_3c9c0f4c0d9brow5_col10\" class=\"data row5 col10\" >-0.01</td>\n",
       "                        <td id=\"T_686b690a_8c3e_11ec_91dd_3c9c0f4c0d9brow5_col11\" class=\"data row5 col11\" >0.00</td>\n",
       "            </tr>\n",
       "            <tr>\n",
       "                        <th id=\"T_686b690a_8c3e_11ec_91dd_3c9c0f4c0d9blevel0_row6\" class=\"row_heading level0 row6\" >local_medidor_residencial</th>\n",
       "                        <td id=\"T_686b690a_8c3e_11ec_91dd_3c9c0f4c0d9brow6_col0\" class=\"data row6 col0\" >0.02</td>\n",
       "                        <td id=\"T_686b690a_8c3e_11ec_91dd_3c9c0f4c0d9brow6_col1\" class=\"data row6 col1\" >0.00</td>\n",
       "                        <td id=\"T_686b690a_8c3e_11ec_91dd_3c9c0f4c0d9brow6_col2\" class=\"data row6 col2\" >-0.00</td>\n",
       "                        <td id=\"T_686b690a_8c3e_11ec_91dd_3c9c0f4c0d9brow6_col3\" class=\"data row6 col3\" >0.13</td>\n",
       "                        <td id=\"T_686b690a_8c3e_11ec_91dd_3c9c0f4c0d9brow6_col4\" class=\"data row6 col4\" >-0.41</td>\n",
       "                        <td id=\"T_686b690a_8c3e_11ec_91dd_3c9c0f4c0d9brow6_col5\" class=\"data row6 col5\" >-0.49</td>\n",
       "                        <td id=\"T_686b690a_8c3e_11ec_91dd_3c9c0f4c0d9brow6_col6\" class=\"data row6 col6\" >1.00</td>\n",
       "                        <td id=\"T_686b690a_8c3e_11ec_91dd_3c9c0f4c0d9brow6_col7\" class=\"data row6 col7\" >0.02</td>\n",
       "                        <td id=\"T_686b690a_8c3e_11ec_91dd_3c9c0f4c0d9brow6_col8\" class=\"data row6 col8\" >-0.02</td>\n",
       "                        <td id=\"T_686b690a_8c3e_11ec_91dd_3c9c0f4c0d9brow6_col9\" class=\"data row6 col9\" >-0.00</td>\n",
       "                        <td id=\"T_686b690a_8c3e_11ec_91dd_3c9c0f4c0d9brow6_col10\" class=\"data row6 col10\" >0.01</td>\n",
       "                        <td id=\"T_686b690a_8c3e_11ec_91dd_3c9c0f4c0d9brow6_col11\" class=\"data row6 col11\" >-0.01</td>\n",
       "            </tr>\n",
       "            <tr>\n",
       "                        <th id=\"T_686b690a_8c3e_11ec_91dd_3c9c0f4c0d9blevel0_row7\" class=\"row_heading level0 row7\" >tipo_medidor_analogico</th>\n",
       "                        <td id=\"T_686b690a_8c3e_11ec_91dd_3c9c0f4c0d9brow7_col0\" class=\"data row7 col0\" >0.01</td>\n",
       "                        <td id=\"T_686b690a_8c3e_11ec_91dd_3c9c0f4c0d9brow7_col1\" class=\"data row7 col1\" >0.00</td>\n",
       "                        <td id=\"T_686b690a_8c3e_11ec_91dd_3c9c0f4c0d9brow7_col2\" class=\"data row7 col2\" >0.00</td>\n",
       "                        <td id=\"T_686b690a_8c3e_11ec_91dd_3c9c0f4c0d9brow7_col3\" class=\"data row7 col3\" >0.07</td>\n",
       "                        <td id=\"T_686b690a_8c3e_11ec_91dd_3c9c0f4c0d9brow7_col4\" class=\"data row7 col4\" >0.02</td>\n",
       "                        <td id=\"T_686b690a_8c3e_11ec_91dd_3c9c0f4c0d9brow7_col5\" class=\"data row7 col5\" >-0.04</td>\n",
       "                        <td id=\"T_686b690a_8c3e_11ec_91dd_3c9c0f4c0d9brow7_col6\" class=\"data row7 col6\" >0.02</td>\n",
       "                        <td id=\"T_686b690a_8c3e_11ec_91dd_3c9c0f4c0d9brow7_col7\" class=\"data row7 col7\" >1.00</td>\n",
       "                        <td id=\"T_686b690a_8c3e_11ec_91dd_3c9c0f4c0d9brow7_col8\" class=\"data row7 col8\" >-1.00</td>\n",
       "                        <td id=\"T_686b690a_8c3e_11ec_91dd_3c9c0f4c0d9brow7_col9\" class=\"data row7 col9\" >-0.01</td>\n",
       "                        <td id=\"T_686b690a_8c3e_11ec_91dd_3c9c0f4c0d9brow7_col10\" class=\"data row7 col10\" >0.01</td>\n",
       "                        <td id=\"T_686b690a_8c3e_11ec_91dd_3c9c0f4c0d9brow7_col11\" class=\"data row7 col11\" >-0.00</td>\n",
       "            </tr>\n",
       "            <tr>\n",
       "                        <th id=\"T_686b690a_8c3e_11ec_91dd_3c9c0f4c0d9blevel0_row8\" class=\"row_heading level0 row8\" >tipo_medidor_digital</th>\n",
       "                        <td id=\"T_686b690a_8c3e_11ec_91dd_3c9c0f4c0d9brow8_col0\" class=\"data row8 col0\" >-0.01</td>\n",
       "                        <td id=\"T_686b690a_8c3e_11ec_91dd_3c9c0f4c0d9brow8_col1\" class=\"data row8 col1\" >-0.00</td>\n",
       "                        <td id=\"T_686b690a_8c3e_11ec_91dd_3c9c0f4c0d9brow8_col2\" class=\"data row8 col2\" >-0.00</td>\n",
       "                        <td id=\"T_686b690a_8c3e_11ec_91dd_3c9c0f4c0d9brow8_col3\" class=\"data row8 col3\" >-0.07</td>\n",
       "                        <td id=\"T_686b690a_8c3e_11ec_91dd_3c9c0f4c0d9brow8_col4\" class=\"data row8 col4\" >-0.02</td>\n",
       "                        <td id=\"T_686b690a_8c3e_11ec_91dd_3c9c0f4c0d9brow8_col5\" class=\"data row8 col5\" >0.04</td>\n",
       "                        <td id=\"T_686b690a_8c3e_11ec_91dd_3c9c0f4c0d9brow8_col6\" class=\"data row8 col6\" >-0.02</td>\n",
       "                        <td id=\"T_686b690a_8c3e_11ec_91dd_3c9c0f4c0d9brow8_col7\" class=\"data row8 col7\" >-1.00</td>\n",
       "                        <td id=\"T_686b690a_8c3e_11ec_91dd_3c9c0f4c0d9brow8_col8\" class=\"data row8 col8\" >1.00</td>\n",
       "                        <td id=\"T_686b690a_8c3e_11ec_91dd_3c9c0f4c0d9brow8_col9\" class=\"data row8 col9\" >0.01</td>\n",
       "                        <td id=\"T_686b690a_8c3e_11ec_91dd_3c9c0f4c0d9brow8_col10\" class=\"data row8 col10\" >-0.01</td>\n",
       "                        <td id=\"T_686b690a_8c3e_11ec_91dd_3c9c0f4c0d9brow8_col11\" class=\"data row8 col11\" >0.00</td>\n",
       "            </tr>\n",
       "            <tr>\n",
       "                        <th id=\"T_686b690a_8c3e_11ec_91dd_3c9c0f4c0d9blevel0_row9\" class=\"row_heading level0 row9\" >numero_fases_bifasica</th>\n",
       "                        <td id=\"T_686b690a_8c3e_11ec_91dd_3c9c0f4c0d9brow9_col0\" class=\"data row9 col0\" >-0.01</td>\n",
       "                        <td id=\"T_686b690a_8c3e_11ec_91dd_3c9c0f4c0d9brow9_col1\" class=\"data row9 col1\" >-0.00</td>\n",
       "                        <td id=\"T_686b690a_8c3e_11ec_91dd_3c9c0f4c0d9brow9_col2\" class=\"data row9 col2\" >0.00</td>\n",
       "                        <td id=\"T_686b690a_8c3e_11ec_91dd_3c9c0f4c0d9brow9_col3\" class=\"data row9 col3\" >-0.02</td>\n",
       "                        <td id=\"T_686b690a_8c3e_11ec_91dd_3c9c0f4c0d9brow9_col4\" class=\"data row9 col4\" >0.00</td>\n",
       "                        <td id=\"T_686b690a_8c3e_11ec_91dd_3c9c0f4c0d9brow9_col5\" class=\"data row9 col5\" >0.00</td>\n",
       "                        <td id=\"T_686b690a_8c3e_11ec_91dd_3c9c0f4c0d9brow9_col6\" class=\"data row9 col6\" >-0.00</td>\n",
       "                        <td id=\"T_686b690a_8c3e_11ec_91dd_3c9c0f4c0d9brow9_col7\" class=\"data row9 col7\" >-0.01</td>\n",
       "                        <td id=\"T_686b690a_8c3e_11ec_91dd_3c9c0f4c0d9brow9_col8\" class=\"data row9 col8\" >0.01</td>\n",
       "                        <td id=\"T_686b690a_8c3e_11ec_91dd_3c9c0f4c0d9brow9_col9\" class=\"data row9 col9\" >1.00</td>\n",
       "                        <td id=\"T_686b690a_8c3e_11ec_91dd_3c9c0f4c0d9brow9_col10\" class=\"data row9 col10\" >-0.50</td>\n",
       "                        <td id=\"T_686b690a_8c3e_11ec_91dd_3c9c0f4c0d9brow9_col11\" class=\"data row9 col11\" >-0.50</td>\n",
       "            </tr>\n",
       "            <tr>\n",
       "                        <th id=\"T_686b690a_8c3e_11ec_91dd_3c9c0f4c0d9blevel0_row10\" class=\"row_heading level0 row10\" >numero_fases_monofasica</th>\n",
       "                        <td id=\"T_686b690a_8c3e_11ec_91dd_3c9c0f4c0d9brow10_col0\" class=\"data row10 col0\" >0.01</td>\n",
       "                        <td id=\"T_686b690a_8c3e_11ec_91dd_3c9c0f4c0d9brow10_col1\" class=\"data row10 col1\" >0.01</td>\n",
       "                        <td id=\"T_686b690a_8c3e_11ec_91dd_3c9c0f4c0d9brow10_col2\" class=\"data row10 col2\" >-0.00</td>\n",
       "                        <td id=\"T_686b690a_8c3e_11ec_91dd_3c9c0f4c0d9brow10_col3\" class=\"data row10 col3\" >0.08</td>\n",
       "                        <td id=\"T_686b690a_8c3e_11ec_91dd_3c9c0f4c0d9brow10_col4\" class=\"data row10 col4\" >-0.00</td>\n",
       "                        <td id=\"T_686b690a_8c3e_11ec_91dd_3c9c0f4c0d9brow10_col5\" class=\"data row10 col5\" >-0.01</td>\n",
       "                        <td id=\"T_686b690a_8c3e_11ec_91dd_3c9c0f4c0d9brow10_col6\" class=\"data row10 col6\" >0.01</td>\n",
       "                        <td id=\"T_686b690a_8c3e_11ec_91dd_3c9c0f4c0d9brow10_col7\" class=\"data row10 col7\" >0.01</td>\n",
       "                        <td id=\"T_686b690a_8c3e_11ec_91dd_3c9c0f4c0d9brow10_col8\" class=\"data row10 col8\" >-0.01</td>\n",
       "                        <td id=\"T_686b690a_8c3e_11ec_91dd_3c9c0f4c0d9brow10_col9\" class=\"data row10 col9\" >-0.50</td>\n",
       "                        <td id=\"T_686b690a_8c3e_11ec_91dd_3c9c0f4c0d9brow10_col10\" class=\"data row10 col10\" >1.00</td>\n",
       "                        <td id=\"T_686b690a_8c3e_11ec_91dd_3c9c0f4c0d9brow10_col11\" class=\"data row10 col11\" >-0.51</td>\n",
       "            </tr>\n",
       "            <tr>\n",
       "                        <th id=\"T_686b690a_8c3e_11ec_91dd_3c9c0f4c0d9blevel0_row11\" class=\"row_heading level0 row11\" >numero_fases_trifasica</th>\n",
       "                        <td id=\"T_686b690a_8c3e_11ec_91dd_3c9c0f4c0d9brow11_col0\" class=\"data row11 col0\" >-0.01</td>\n",
       "                        <td id=\"T_686b690a_8c3e_11ec_91dd_3c9c0f4c0d9brow11_col1\" class=\"data row11 col1\" >-0.00</td>\n",
       "                        <td id=\"T_686b690a_8c3e_11ec_91dd_3c9c0f4c0d9brow11_col2\" class=\"data row11 col2\" >-0.00</td>\n",
       "                        <td id=\"T_686b690a_8c3e_11ec_91dd_3c9c0f4c0d9brow11_col3\" class=\"data row11 col3\" >-0.06</td>\n",
       "                        <td id=\"T_686b690a_8c3e_11ec_91dd_3c9c0f4c0d9brow11_col4\" class=\"data row11 col4\" >0.00</td>\n",
       "                        <td id=\"T_686b690a_8c3e_11ec_91dd_3c9c0f4c0d9brow11_col5\" class=\"data row11 col5\" >0.00</td>\n",
       "                        <td id=\"T_686b690a_8c3e_11ec_91dd_3c9c0f4c0d9brow11_col6\" class=\"data row11 col6\" >-0.01</td>\n",
       "                        <td id=\"T_686b690a_8c3e_11ec_91dd_3c9c0f4c0d9brow11_col7\" class=\"data row11 col7\" >-0.00</td>\n",
       "                        <td id=\"T_686b690a_8c3e_11ec_91dd_3c9c0f4c0d9brow11_col8\" class=\"data row11 col8\" >0.00</td>\n",
       "                        <td id=\"T_686b690a_8c3e_11ec_91dd_3c9c0f4c0d9brow11_col9\" class=\"data row11 col9\" >-0.50</td>\n",
       "                        <td id=\"T_686b690a_8c3e_11ec_91dd_3c9c0f4c0d9brow11_col10\" class=\"data row11 col10\" >-0.51</td>\n",
       "                        <td id=\"T_686b690a_8c3e_11ec_91dd_3c9c0f4c0d9brow11_col11\" class=\"data row11 col11\" >1.00</td>\n",
       "            </tr>\n",
       "    </tbody></table>"
      ],
      "text/plain": [
       "<pandas.io.formats.style.Styler at 0x23634458bc8>"
      ]
     },
     "metadata": {},
     "output_type": "display_data"
    },
    {
     "data": {
      "text/plain": [
       "<matplotlib.axes._subplots.AxesSubplot at 0x2363560a348>"
      ]
     },
     "metadata": {},
     "output_type": "display_data"
    },
    {
     "data": {
      "image/png": "[encoded data removed]",
      "text/plain": [
       "<Figure size 720x576 with 2 Axes>"
      ]
     },
     "metadata": {
      "needs_background": "light"
     },
     "output_type": "display_data"
    }
   ],
   "source": [
    "# Matriz de correlação de Pearson\n",
    "\n",
    "corr = dataset_modified2.iloc[:, 1:].corr()\n",
    "display(corr.style.background_gradient(cmap = 'coolwarm').set_precision(2))\n",
    "\n",
    "# Visão alternativa com heatmap\n",
    "f, ax = plt.subplots(figsize = (10, 8))\n",
    "display(sns.heatmap(corr, mask = np.zeros_like(corr, dtype = np.bool),\n",
    "            cmap = sns.diverging_palette(1000, 10, as_cmap = True),\n",
    "            square = True, ax = ax))"
   ]
  },
  {
   "cell_type": "markdown",
   "metadata": {},
   "source": [
    "## Data Modelling & Evaluation"
   ]
  },
  {
   "cell_type": "markdown",
   "metadata": {},
   "source": [
    "### Padronizando dados, separando dataset em treino/teste e Cross Validation "
   ]
  },
  {
   "cell_type": "code",
   "execution_count": 18,
   "metadata": {},
   "outputs": [],
   "source": [
    "# Reordenando coluna target para o final do dataset\n",
    "dataset_modified2 = pd.concat([dataset_modified2.drop(columns = ['classe_cliente']), \\\n",
    "                               dataset_modified2['classe_cliente']], axis = 1)"
   ]
  },
  {
   "cell_type": "code",
   "execution_count": 19,
   "metadata": {
    "scrolled": true
   },
   "outputs": [],
   "source": [
    "# Separando variáveis X e Y\n",
    "\n",
    "array = dataset_modified2.values\n",
    "\n",
    "X = array[:, 1:-1]\n",
    "Y = array[:, -1]\n",
    "\n",
    "# Criando cross-validation score para coletar acurácia ajustada dos modelos\n",
    "\n",
    "from sklearn.model_selection import KFold\n",
    "from sklearn.model_selection import cross_val_score\n",
    "\n",
    "# Definindo hiperparâmetros para testes de CV (10 treinamentos para cada modelo)\n",
    "num_folds = 10\n",
    "kfold = KFold(num_folds, shuffle = True)"
   ]
  },
  {
   "cell_type": "code",
   "execution_count": 20,
   "metadata": {},
   "outputs": [
    {
     "name": "stdout",
     "output_type": "stream",
     "text": [
      "NOTA: Base de treino com 105000 linhas e teste 45000 linhas.\n"
     ]
    }
   ],
   "source": [
    "# Separando dados entre treino e teste (ratio 80/20, normalizadas e padronizadas)\n",
    "from sklearn.model_selection import train_test_split\n",
    "\n",
    "test_size = 0.3\n",
    "X_train, X_test, Y_train, Y_test = train_test_split(X, Y, test_size = test_size)\n",
    "# X_trainS, X_testS, Y_trainS, Y_testS = train_test_split(X, Y, test_size = test_size)\n",
    "\n",
    "print(f\"NOTA: Base de treino com {len(X_train)} linhas e teste {len(X_test)} linhas.\")"
   ]
  },
  {
   "cell_type": "markdown",
   "metadata": {},
   "source": [
    "### Checando distribuição dos dados com t-SNE e PCA"
   ]
  },
  {
   "cell_type": "code",
   "execution_count": 22,
   "metadata": {},
   "outputs": [],
   "source": [
    "# # Checando distribuição dos dados com t-SNE scatter plot\n",
    "# import matplotlib.patches as mpatches\n",
    "# from sklearn.manifold import TSNE\n",
    "# X_reduced_tsne = TSNE(n_components = 2).fit_transform(X)\n",
    "\n",
    "# f, ax = plt.subplots(figsize=(24,16))\n",
    "\n",
    "\n",
    "# blue_patch = mpatches.Patch(color='#0A0AFF', label='Normal')\n",
    "# red_patch = mpatches.Patch(color='#AF0000', label='Fraud')\n",
    "\n",
    "# ax.scatter(X_reduced_tsne[:,0], X_reduced_tsne[:,1], c=(Y == 0), cmap='coolwarm', label='No Fraud', linewidths=2)\n",
    "# ax.scatter(X_reduced_tsne[:,0], X_reduced_tsne[:,1], c=(Y == 1), cmap='coolwarm', label='Fraud', linewidths=2)\n",
    "# ax.set_title('t-SNE', fontsize=14)\n",
    "\n",
    "# ax.grid(True)\n",
    "\n",
    "# ax.legend(handles=[blue_patch, red_patch])"
   ]
  },
  {
   "cell_type": "code",
   "execution_count": 23,
   "metadata": {},
   "outputs": [],
   "source": [
    "# # Checando distribuição dos dados com PCA scatter plot\n",
    "# import matplotlib.patches as mpatches\n",
    "# from sklearn.decomposition import PCA\n",
    "\n",
    "# pca = PCA(n_components = 2).fit_transform(X)\n",
    "\n",
    "# f, ax = plt.subplots(figsize=(24,16))\n",
    "\n",
    "\n",
    "# blue_patch = mpatches.Patch(color='#0A0AFF', label='No Fraud')\n",
    "# red_patch = mpatches.Patch(color='#AF0000', label='Fraud')\n",
    "\n",
    "# ax.scatter(pca[:,0], pca[:,1], c=(Y == 0), cmap='coolwarm', label='No Fraud', linewidths=2)\n",
    "# ax.scatter(pca[:,0], pca[:,1], c=(Y == 1), cmap='coolwarm', label='Fraud', linewidths=2)\n",
    "# ax.set_title('PCA', fontsize=14)\n",
    "\n",
    "# ax.grid(True)\n",
    "\n",
    "# ax.legend(handles=[blue_patch, red_patch])"
   ]
  },
  {
   "cell_type": "markdown",
   "metadata": {},
   "source": [
    "### Tratar desbalanceamento da base"
   ]
  },
  {
   "cell_type": "code",
   "execution_count": 24,
   "metadata": {},
   "outputs": [],
   "source": [
    "# !pip install imbalanced-learn"
   ]
  },
  {
   "cell_type": "code",
   "execution_count": 25,
   "metadata": {},
   "outputs": [],
   "source": [
    "# UnderSampling\n",
    "\n",
    "# from sklearn.datasets import make_classification\n",
    "# from imblearn.under_sampling import RandomUnderSampler\n",
    "\n",
    "# # 50/50\n",
    "# ros = RandomUnderSampler(sampling_strategy = 1)\n",
    "# X_over, Y_over = ros.fit_resample(pd.DataFrame(X_train), pd.DataFrame(Y_train.astype('int')))\n",
    "\n",
    "# ax = Y_over.iloc[:, 0].value_counts().plot.pie(autopct = '%.2f')\n",
    "# _ = ax.set_title('UnderSampling Shareof - Variável \"Target\"')\n",
    "# display(Y_over.iloc[:, 0].value_counts())"
   ]
  },
  {
   "cell_type": "markdown",
   "metadata": {},
   "source": [
    "### Nota\n",
    "UnderSampling não gerou um bom resultado, por isso foi comentado (baixa quantidade de casos fraudulentos)."
   ]
  },
  {
   "cell_type": "code",
   "execution_count": 26,
   "metadata": {},
   "outputs": [],
   "source": [
    "# # OverSampling (ROSE)\n",
    "\n",
    "# from sklearn.datasets import make_classification\n",
    "# from imblearn.over_sampling import RandomOverSampler\n",
    "\n",
    "# # Oversampling com ratio 50/50\n",
    "# ros = RandomOverSampler(sampling_strategy = 'not majority')\n",
    "# X_over, Y_over = ros.fit_resample(pd.DataFrame(X_train), pd.DataFrame(Y_train.astype('int')))\n",
    "\n",
    "# ax = Y_over.iloc[:, 0].value_counts().plot.pie(autopct = '%.2f')\n",
    "# _ = ax.set_title('OverSampling Shareof - Variável \"Target\"')\n",
    "# display(Y_over.iloc[:, 0].value_counts())"
   ]
  },
  {
   "cell_type": "code",
   "execution_count": 27,
   "metadata": {},
   "outputs": [
    {
     "data": {
      "text/plain": [
       "1.00    101787\n",
       "0.00    101787\n",
       "Name: 0, dtype: int64"
      ]
     },
     "metadata": {},
     "output_type": "display_data"
    },
    {
     "data": {
      "image/png": "[encoded data removed]",
      "text/plain": [
       "<Figure size 432x288 with 1 Axes>"
      ]
     },
     "metadata": {},
     "output_type": "display_data"
    }
   ],
   "source": [
    "# OverSampling (SMOTE)\n",
    "\n",
    "from imblearn.over_sampling import SMOTE\n",
    "\n",
    "# Classificação\n",
    "sm = SMOTE()\n",
    "X_over, Y_over = sm.fit_resample(X_train, Y_train)\n",
    "\n",
    "# Plot\n",
    "ax = pd.DataFrame(Y_over)[0].value_counts().plot.pie(autopct = '%.2f')\n",
    "_ = ax.set_title('OverSampling Shareof - Variável \"Target\"')\n",
    "display(pd.DataFrame(Y_over)[0].value_counts())"
   ]
  },
  {
   "cell_type": "markdown",
   "metadata": {},
   "source": [
    "### Aplicação de Escalas (Normalização e Padronização)"
   ]
  },
  {
   "cell_type": "code",
   "execution_count": 29,
   "metadata": {},
   "outputs": [
    {
     "name": "stdout",
     "output_type": "stream",
     "text": [
      "Dados originais: \n",
      "\n",
      " [[293.  42.  10. ...   0.   1.   0.]\n",
      " [190.  36.  13. ...   0.   0.   1.]\n",
      " [399.  31.  14. ...   1.   0.   0.]\n",
      " ...\n",
      " [381.  34.  17. ...   0.   0.   1.]\n",
      " [427.  38.  21. ...   0.   0.   1.]\n",
      " [277.  46.  13. ...   0.   1.   0.]]\n",
      "\n",
      "Dados normalizados (escala MinMax): \n",
      "\n",
      " [[0.52115813 0.63157895 0.35714286 ... 1.         0.         0.        ]\n",
      " [0.26503341 0.15789474 0.14285714 ... 0.         0.         1.        ]\n",
      " [0.65924276 0.36842105 0.21428571 ... 0.         0.         1.        ]\n",
      " ...\n",
      " [0.46612978 0.52631579 0.         ... 1.         0.         0.        ]\n",
      " [0.48106904 0.70322632 0.03041428 ... 0.21289997 0.78710003 0.        ]\n",
      " [0.64558776 0.27840183 0.55074037 ... 0.28963483 0.71036517 0.        ]]\n",
      "\n",
      "Dados padronizados (StandardScaler): \n",
      "\n",
      " [[ 0.08670757  0.43560317 -0.47523749 ...  1.65548504 -0.98010457\n",
      "  -0.61419435]\n",
      " [-0.9367274  -1.13896806 -1.17767141 ... -0.70485953 -0.98010457\n",
      "   1.83183049]\n",
      " [ 0.6384725  -0.43915862 -0.94352677 ... -0.70485953 -0.98010457\n",
      "   1.83183049]\n",
      " ...\n",
      " [-0.13317724  0.08569845 -1.64596069 ...  1.65548504 -0.98010457\n",
      "  -0.61419435]\n",
      " [-0.07348225  0.67376583 -1.54626192 ... -0.20234224  0.73315906\n",
      "  -0.61419435]\n",
      " [ 0.58390922 -0.73839104  0.15937998 ... -0.02122154  0.56613196\n",
      "  -0.61419435]]\n"
     ]
    }
   ],
   "source": [
    "# Normalizando dados com escala MinMax (dados estarão no range de 0 a 1) e padronizacao\n",
    "\n",
    "from sklearn.preprocessing import StandardScaler\n",
    "from sklearn.preprocessing import MinMaxScaler\n",
    "\n",
    "print(\"Dados originais: \\n\\n\", X)\n",
    "\n",
    "scaler = MinMaxScaler(feature_range = (0, 1))\n",
    "\n",
    "X_train_norm = scaler.fit_transform(X_over)\n",
    "X_test_norm = scaler.transform(X_test)\n",
    "\n",
    "print(\"\\nDados normalizados (escala MinMax): \\n\\n\", X_train_norm)\n",
    "\n",
    "# Padronizando dados (StandardScaler)\n",
    "\n",
    "scaler = StandardScaler().fit(X_over)\n",
    "\n",
    "X_train_scaled = scaler.fit_transform(X_over)\n",
    "X_test_scaled = scaler.transform(X_test)\n",
    "\n",
    "print(\"\\nDados padronizados (StandardScaler): \\n\\n\", X_train_scaled)"
   ]
  },
  {
   "cell_type": "markdown",
   "metadata": {},
   "source": [
    "## Treinamento dos Algoritmos"
   ]
  },
  {
   "cell_type": "markdown",
   "metadata": {},
   "source": [
    "### Regressão Logística"
   ]
  },
  {
   "cell_type": "code",
   "execution_count": 30,
   "metadata": {},
   "outputs": [
    {
     "name": "stdout",
     "output_type": "stream",
     "text": [
      "Acurácia (Regressão Logística): 77.485\n",
      "              precision    recall  f1-score   support\n",
      "\n",
      "         0.0       0.99      0.76      0.86     43696\n",
      "         1.0       0.09      0.78      0.16      1304\n",
      "\n",
      "    accuracy                           0.76     45000\n",
      "   macro avg       0.54      0.77      0.51     45000\n",
      "weighted avg       0.97      0.76      0.84     45000\n",
      "\n"
     ]
    },
    {
     "data": {
      "text/plain": [
       "None"
      ]
     },
     "metadata": {},
     "output_type": "display_data"
    }
   ],
   "source": [
    "# Regressão logística sem padronização\n",
    "\n",
    "from sklearn.linear_model import LogisticRegression\n",
    "from sklearn.metrics import confusion_matrix\n",
    "from sklearn.metrics import classification_report\n",
    "\n",
    "# Fit e avaliação do modelo\n",
    "regrl = LogisticRegression()\n",
    "regrl.fit(X_over, Y_over)\n",
    "regrl.score(X_over, Y_over)\n",
    "\n",
    "# Predições\n",
    "results = cross_val_score(regrl, X_over, Y_over, cv = kfold)\n",
    "predictions = regrl.predict(X_test)\n",
    "\n",
    "# Score\n",
    "print(\"Acurácia (Regressão Logística): %.3f\" % (results.mean() * 100))\n",
    "display(print(classification_report(Y_test, predictions)))"
   ]
  },
  {
   "cell_type": "code",
   "execution_count": 31,
   "metadata": {},
   "outputs": [
    {
     "name": "stdout",
     "output_type": "stream",
     "text": [
      "Acurácia (Regressão Logística): 77.557\n",
      "              precision    recall  f1-score   support\n",
      "\n",
      "         0.0       0.99      0.76      0.86     43696\n",
      "         1.0       0.09      0.78      0.16      1304\n",
      "\n",
      "    accuracy                           0.76     45000\n",
      "   macro avg       0.54      0.77      0.51     45000\n",
      "weighted avg       0.97      0.76      0.84     45000\n",
      "\n"
     ]
    },
    {
     "data": {
      "text/plain": [
       "None"
      ]
     },
     "metadata": {},
     "output_type": "display_data"
    }
   ],
   "source": [
    "# Regressão logística com padronização\n",
    "\n",
    "# Fit e avaliação do modelo\n",
    "regrl = LogisticRegression()\n",
    "regrl.fit(X_train_scaled, Y_over)\n",
    "regrl.score(X_train_scaled, Y_over)\n",
    "\n",
    "# Predições\n",
    "results = cross_val_score(regrl, X_train_scaled, Y_over, cv = kfold)\n",
    "predictions = regrl.predict(X_test_scaled)\n",
    "\n",
    "# Score\n",
    "print(\"Acurácia (Regressão Logística): %.3f\" % (results.mean() * 100))\n",
    "display(print(classification_report(Y_test, predictions)))"
   ]
  },
  {
   "cell_type": "markdown",
   "metadata": {},
   "source": [
    "### Nota\n",
    "Acurácia não é uma boa métrica para este problema, visto que ele prevê praticamente todos os casos de não fraude enquanto que a precisão dos casos fraudadores é inferior à 10%, por isso este modelo não será utilizado."
   ]
  },
  {
   "cell_type": "markdown",
   "metadata": {},
   "source": [
    "### KNN"
   ]
  },
  {
   "cell_type": "code",
   "execution_count": 32,
   "metadata": {},
   "outputs": [
    {
     "name": "stdout",
     "output_type": "stream",
     "text": [
      "47 0.18462670099301215\n",
      "0.981031669071214\n",
      "[[41479  2217]\n",
      " [  802   502]]\n",
      "              precision    recall  f1-score   support\n",
      "\n",
      "         0.0       0.98      0.95      0.96     43696\n",
      "         1.0       0.18      0.38      0.25      1304\n",
      "\n",
      "    accuracy                           0.93     45000\n",
      "   macro avg       0.58      0.67      0.61     45000\n",
      "weighted avg       0.96      0.93      0.94     45000\n",
      "\n"
     ]
    }
   ],
   "source": [
    "from sklearn.neighbors import KNeighborsClassifier\n",
    "from sklearn.metrics import mean_squared_error\n",
    "from sklearn.metrics import precision_score, recall_score\n",
    "import math\n",
    "\n",
    "alpha = [n for n in range(3, 50, 2)]\n",
    "argmax = 0\n",
    "best_param = int\n",
    "\n",
    "for param in alpha:\n",
    "    model = KNeighborsClassifier(n_neighbors = param)\n",
    "    knn = model.fit(X_train_norm, Y_over)\n",
    "    preds = knn.predict(X_test_norm)\n",
    "    score = precision_score(Y_test, preds, average = None)[1]\n",
    "    if score > argmax:\n",
    "        argmax = score\n",
    "        best_param = param\n",
    "        \n",
    "# Apresentar melhor parâmetro\n",
    "print(best_param, argmax)\n",
    "\n",
    "# Fit no modelo com melhor parâmetro e avaliação (score)\n",
    "\n",
    "model = KNeighborsClassifier(n_neighbors = best_param)\n",
    "knn = model.fit(X_train_norm, Y_over)\n",
    "preds = knn.predict(X_test_norm)\n",
    "\n",
    "print(precision_score(Y_test, preds, average = None)[0])\n",
    "print(confusion_matrix(Y_test, preds))\n",
    "print(classification_report(Y_test, preds))"
   ]
  },
  {
   "cell_type": "markdown",
   "metadata": {},
   "source": [
    "### Notas\n",
    "1. O modelo não desempenhou bem também, mesmo que melhor em comparação à Regressão Logística. A taxa de precisão para fraudes foi baixa (aprox. 18%);\n",
    "2. Foi processado um range de K-vizinhos ímpares entre 3 e 49 (limitei ao número de subestações)."
   ]
  },
  {
   "cell_type": "markdown",
   "metadata": {},
   "source": [
    "### Random Forest com GridSearchCV"
   ]
  },
  {
   "cell_type": "code",
   "execution_count": 36,
   "metadata": {},
   "outputs": [
    {
     "data": {
      "text/plain": [
       "{'criterion': 'gini',\n",
       " 'max_depth': None,\n",
       " 'max_features': 5,\n",
       " 'n_estimators': 2000}"
      ]
     },
     "metadata": {},
     "output_type": "display_data"
    },
    {
     "name": "stdout",
     "output_type": "stream",
     "text": [
      "Precisão em Teste: [0.97978364 0.64603175]\n",
      "              precision    recall  f1-score   support\n",
      "\n",
      "         0.0       0.98      0.99      0.99     43696\n",
      "         1.0       0.65      0.31      0.42      1304\n",
      "\n",
      "    accuracy                           0.98     45000\n",
      "   macro avg       0.81      0.65      0.70     45000\n",
      "weighted avg       0.97      0.98      0.97     45000\n",
      "\n"
     ]
    },
    {
     "data": {
      "text/plain": [
       "None"
      ]
     },
     "metadata": {},
     "output_type": "display_data"
    }
   ],
   "source": [
    "# Grid Search\n",
    "\n",
    "from sklearn.ensemble import RandomForestClassifier\n",
    "from sklearn.model_selection import GridSearchCV\n",
    "from sklearn.metrics import average_precision_score, roc_auc_score, f1_score\n",
    "\n",
    "num_trees = 1000\n",
    "random_forest = RandomForestClassifier(n_estimators = num_trees)\n",
    "\n",
    "# Usando um grid completo de todos os parâmetros\n",
    "param_grid = {\"max_depth\": [5, None],\n",
    "              \"max_features\": [5, 7],\n",
    "              \"criterion\": [\"gini\", \"entropy\"]}\n",
    "\n",
    "# Executando o Grid Search com média de precisão como métrica a serr avaliada\n",
    "grid_search = GridSearchCV(random_forest, param_grid = param_grid, return_train_score = True, \\\n",
    "                           scoring = 'average_precision', n_jobs = 4)\n",
    "\n",
    "# Previsões\n",
    "grid_search.fit(X_over, Y_over)\n",
    "predictions = grid_search.predict(X_test)\n",
    "display(print(classification_report(Y_test, predictions)))\n",
    "\n",
    "# Coletando melhores parâmetros do GridSearchCV e treinando um novo modelo\n",
    "best_params = grid_search.best_params_\n",
    "best_params['n_estimators'] = num_trees\n",
    "\n",
    "display(best_params)\n",
    "\n",
    "random_forest = RandomForestClassifier(**best_params)\n",
    "random_forest.fit(X_over, Y_over)\n",
    "\n",
    "# Previsões\n",
    "predictions = random_forest.predict(X_test)\n",
    "print(\"Precisão em Teste:\", precision_score(Y_test, predictions, average = None))\n",
    "display(print(classification_report(Y_test, predictions)))"
   ]
  },
  {
   "cell_type": "code",
   "execution_count": 37,
   "metadata": {},
   "outputs": [
    {
     "data": {
      "image/png": "[encoded data removed]",
      "text/plain": [
       "<Figure size 432x288 with 2 Axes>"
      ]
     },
     "metadata": {
      "needs_background": "light"
     },
     "output_type": "display_data"
    }
   ],
   "source": [
    "# Gerando Confusion Matrix\n",
    "confusion_matrix = pd.DataFrame(confusion_matrix(Y_test, predictions))\n",
    "sns.heatmap(confusion_matrix, annot = True, cmap = \"YlGnBu\", fmt = '2g')\n",
    "\n",
    "plt.title('Confusion Matrix - Random Forest c/ GridSearchCV')\n",
    "plt.xlabel('Previsão')\n",
    "plt.ylabel('Real')\n",
    "plt.show()"
   ]
  },
  {
   "cell_type": "code",
   "execution_count": 43,
   "metadata": {},
   "outputs": [
    {
     "name": "stdout",
     "output_type": "stream",
     "text": [
      "ROCAUC:  0.6535065612272635\n",
      "F1:  0.42088934850051707\n"
     ]
    }
   ],
   "source": [
    "# Curva ROC e F1 Score\n",
    "print('ROCAUC: ', roc_auc_score(Y_test, predictions))\n",
    "print('F1: ', f1_score(Y_test, predictions))"
   ]
  },
  {
   "cell_type": "markdown",
   "metadata": {},
   "source": [
    "### Notas\n",
    "O Grid Search foi criado com quatro parâmetros:\n",
    "- n_estimators/trees - A tendência é ter um modelo melhor com mais estimadores, mas com tempo de processamento também mais alto;\n",
    "- max depth - Determina a \"profundidade\" da árvore. Um valor-teto pode ser colocado afim de eliminar overfitting;\n",
    "- max_features - Determina a quantidade de atributos a serem desmembrados nas random forests;\n",
    "- criterion - Determina como o algoritmo fará a divisão dos atributos e a classificação dos nós em cada árvore;\n",
    "\n",
    "Finalmente temos um modelo com melhor desempenho em relação aos demais, mantendo a precisão mais alta nas duas classes."
   ]
  },
  {
   "cell_type": "markdown",
   "metadata": {},
   "source": [
    "### Gradient Boosting Classifier com GridSearchCV"
   ]
  },
  {
   "cell_type": "code",
   "execution_count": null,
   "metadata": {},
   "outputs": [],
   "source": [
    "# Grid de parâmetros (usando hiperparâmetros do último treinamento)\n",
    "from sklearn.ensemble import GradientBoostingClassifier\n",
    "\n",
    "param_grid = {'learning_rate': [0.1, 0.01],\n",
    "              'max_depth': [None],\n",
    "              'max_features': [5],\n",
    "              'min_samples_leaf': [3, 4],\n",
    "              'subsample': [0.5, 0.7],\n",
    "              'n_estimators': [1000]\n",
    "              }\n",
    "\n",
    "# Regressor\n",
    "random_forest_gb = GradientBoostingClassifier()\n",
    "\n",
    "# Modelo criado com GridSearchCV\n",
    "gs_cv = GridSearchCV(random_forest_gb, param_grid, scoring = 'average_precision', n_jobs = 4).fit(X_over, Y_over)\n",
    "\n",
    "# Imprime os melhors parâmetros\n",
    "print('Melhores Hiperparâmetros: %r' % gs_cv.best_params_)"
   ]
  },
  {
   "cell_type": "code",
   "execution_count": null,
   "metadata": {},
   "outputs": [],
   "source": [
    "# Criando plot de desvio entre treino/teste para gradiente descendente\n",
    "def deviance_plot(est, X_test, y_test, ax=None, label='', train_color='#2c7bb6', test_color='#d7191c', alpha=1.0, ylim = (0, 10)):\n",
    "    n_estimators = len(est.estimators_)\n",
    "    test_dev = np.empty(n_estimators)\n",
    "\n",
    "    for i, pred in enumerate(est.staged_predict(X_test)):\n",
    "        test_dev[i] = est.loss_(y_test, pred)\n",
    "\n",
    "    if ax is None:\n",
    "        fig = plt.figure(figsize = (8, 6))\n",
    "        ax = plt.gca()\n",
    "        \n",
    "    ax.plot(np.arange(n_estimators) + 1, test_dev, color = test_color, label = 'Teste %s' % label, linewidth = 2, alpha = alpha)\n",
    "    ax.plot(np.arange(n_estimators) + 1, est.train_score_, color = train_color, label = 'Treino %s' % label, linewidth = 2, alpha = alpha)\n",
    "    ax.set_ylabel('Erro')\n",
    "    ax.set_xlabel('Número de Estimadores Base')\n",
    "    ax.set_ylim(ylim)\n",
    "    return test_dev, ax\n",
    "\n",
    "# Aplica a função aos dados de teste para medir o overfitting do nosso modelo (est)\n",
    "test_dev, ax = deviance_plot(random_forest_gb, X_test, Y_test)\n",
    "ax.legend(loc = 'upper right')"
   ]
  },
  {
   "cell_type": "markdown",
   "metadata": {},
   "source": [
    "### SVM [comentado]"
   ]
  },
  {
   "cell_type": "code",
   "execution_count": null,
   "metadata": {},
   "outputs": [],
   "source": [
    "# # SVM com Kernel Linear + SMOTE\n",
    "\n",
    "# from sklearn import svm\n",
    "# from sklearn.metrics import precision_score, recall_score, f1_score, accuracy_score, roc_auc_score\n",
    "# from sklearn.decomposition import PCA\n",
    "\n",
    "# # Treina o Modelo\n",
    "# svm_v1 = svm.SVC(kernel = 'linear', class_weight = 'balanced', probability = True)\n",
    "# svm_v1.fit(X_over, Y_over)\n",
    "# pred_svm_v1 = svm_v1.predict(X_test)\n",
    "\n",
    "# # Avaliação\n",
    "# svm_dict_v1 = {'Modelo':'SVM',\n",
    "#                'Versão':'1',\n",
    "#                'Kernel':'Linear sem Padronização',\n",
    "#                'Precision':precision_score(pred_svm_v1, Y_test),\n",
    "#                'Recall':recall_score(pred_svm_v1, Y_test),\n",
    "#                'F1 Score':f1_score(pred_svm_v1, Y_test),\n",
    "#                'Acurácia':accuracy_score(pred_svm_v1, Y_test),\n",
    "#                'AUC':roc_auc_score(Y_test, pred_svm_v1)}\n",
    "\n",
    "# display(svm_dict_v1)\n",
    "# display(print(classification_report(Y_test, pred_svm_v1)))"
   ]
  },
  {
   "cell_type": "code",
   "execution_count": null,
   "metadata": {},
   "outputs": [],
   "source": [
    "# SVM com Kernel linear + sem dados padronizados (originais)\n",
    "\n",
    "# from sklearn import svm\n",
    "# from sklearn.metrics import precision_score, recall_score, f1_score, accuracy_score, roc_auc_score\n",
    "# from sklearn.decomposition import PCA\n",
    "\n",
    "# # Treina o Modelo\n",
    "# svm_v1 = svm.SVC(kernel = 'linear', class_weight = 'balanced', probability = True)\n",
    "# svm_v1.fit(X_over, Y_over)\n",
    "# pred_svm_v1 = svm_v1.predict(X_test)\n",
    "\n",
    "# # Avaliação\n",
    "# svm_dict_v1 = {'Modelo':'SVM',\n",
    "#                'Versão':'1',\n",
    "#                'Kernel':'Linear sem Padronização',\n",
    "#                'Precision':precision_score(pred_svm_v1, Y_test),\n",
    "#                'Recall':recall_score(pred_svm_v1, Y_test),\n",
    "#                'F1 Score':f1_score(pred_svm_v1, Y_test),\n",
    "#                'Acurácia':accuracy_score(pred_svm_v1, Y_test),\n",
    "#                'AUC':roc_auc_score(Y_test, pred_svm_v1)}\n",
    "\n",
    "# display(svm_dict_v1)\n",
    "# display(print(classification_report(Y_test, pred_svm_v1)))"
   ]
  },
  {
   "cell_type": "code",
   "execution_count": null,
   "metadata": {},
   "outputs": [],
   "source": [
    "# # SVM com Kernel Linear + Scaling dos dados\n",
    "\n",
    "# svm_v2 = svm.SVC(kernel = 'linear')\n",
    "# svm_v2.fit(X_train_scaled, Y_over)\n",
    "# pred_svm_v2 = svm_v1.predict(X_test_scaled)\n",
    "\n",
    "# # Avaliação\n",
    "# svm_dict_v2 = {'Modelo':'SVM',\n",
    "#                'Versão':'2',\n",
    "#                'Kernel':'Linear com Padronização',\n",
    "#                'Precision':precision_score(pred_svm_v2, Y_test),\n",
    "#                'Recall':recall_score(pred_svm_v2, Y_test),\n",
    "#                'F1 Score':f1_score(pred_svm_v2, Y_test),\n",
    "#                'Acurácia':accuracy_score(pred_svm_v2, Y_test),\n",
    "#                'AUC':roc_auc_score(Y_test, pred_svm_v2)}\n",
    "\n",
    "# display(svm_dict_v2)\n",
    "# display(print(classification_report(Y_test, pred_svm_v2)))"
   ]
  },
  {
   "cell_type": "code",
   "execution_count": null,
   "metadata": {},
   "outputs": [],
   "source": [
    "# SVM com Kernel RBF e GridSearchCV\n",
    "\n",
    "# from sklearn.model_selection import GridSearchCV\n",
    "\n",
    "# svm_v3 = svm.SVC(kernel = 'rbf')\n",
    "\n",
    "# # Valores para o grid\n",
    "# C_range = np.array([50., 100., 200.])\n",
    "# gamma_range = np.array([0.3*0.001, 0.001, 3*0.001])\n",
    "\n",
    "# # Grid de hiperparâmetros\n",
    "# svm_param_grid = dict(gamma = gamma_range, C = C_range)\n",
    "\n",
    "# # Grid Search\n",
    "# # start = time.time()\n",
    "# svm_v3_grid_search_rbf = GridSearchCV(svm_v3, svm_param_grid, cv = 3)\n",
    "\n",
    "# # Treinamento\n",
    "# svm_v3_grid_search_rbf.fit(X_train_scaled, Y_over)\n",
    "# # end = time.time()\n",
    "# # print('Tempo de Treinamento do Modelo com Grid Search:', end - start)\n",
    "\n",
    "# # Acurácia em Treino\n",
    "# print(f\"Acurácia em Treinamento: {svm_v3_grid_search_rbf.best_score_ :.2%}\", end = '\\n')\n",
    "# print(f\"Hiperparâmetros Ideais: {svm_v3_grid_search_rbf.best_params_}\")\n",
    "\n",
    "# # Previsões\n",
    "# pred_svm_v3 = svm_v3_grid_search_rbf.predict(X_test_scaled)\n",
    "\n",
    "# # Dicionário de métricas e metadados\n",
    "# svm_dict_v3 = {'Modelo':'SVM',\n",
    "#                'Versão':'3',\n",
    "#                'Kernel':'RBF com GridSearchCV',\n",
    "#                'Precision':precision_score(pred_svm_v3, Y_test),\n",
    "#                'Recall':recall_score(pred_svm_v3, Y_test),\n",
    "#                'F1 Score':f1_score(pred_svm_v3, Y_test),\n",
    "#                'Acurácia':accuracy_score(pred_svm_v3, Y_test),\n",
    "#                'AUC':roc_auc_score(Y_test, pred_svm_v3)}\n",
    "\n",
    "# display(svm_dict_v3)\n",
    "# display(print(classification_report(Y_test, pred_svm_v3)))"
   ]
  },
  {
   "cell_type": "code",
   "execution_count": null,
   "metadata": {},
   "outputs": [],
   "source": [
    "# # SVM com Kernel Polinomial + GridSearchCV\n",
    "\n",
    "# # Cria o modelo\n",
    "# svm_v4 = svm.SVC(kernel = 'poly')\n",
    "\n",
    "# # Valores para o grid\n",
    "# r_range =  np.array([0.5, 1])\n",
    "# gamma_range =  np.array([0.0001, 0.001, 0.01, .05, 0.1, 0.01, 1, 2])\n",
    "# d_range = np.array([2, 3, 4])\n",
    "\n",
    "# # Grid de hiperparâmetros\n",
    "# param_grid_poly = dict(gamma = gamma_range, degree = d_range, coef0 = r_range)\n",
    "\n",
    "# # Grid Search\n",
    "# # start = time.time()\n",
    "# svm_v4_grid_search_poly = GridSearchCV(svm_v4, param_grid_poly, cv = 3)\n",
    "\n",
    "# # Treinamento\n",
    "# svm_v4_grid_search_poly.fit(X_train_scaled, Y_over)\n",
    "# # end = time.time()\n",
    "# # print('Tempo de Treinamento do Modelo com Grid Search:', end - start)\n",
    "\n",
    "# # Acurácia em Treino\n",
    "# print(f\"Acurácia em Treinamento: {svm_v4_grid_search_poly.best_score_ :.2%}\", end = '\\n')\n",
    "# print(f\"Hiperparâmetros Ideais: {svm_v4_grid_search_poly.best_params_}\")\n",
    "\n",
    "# # Previsões\n",
    "# pred_svm_v4 = svm_v4_grid_search_poly.predict(X_test_scaled)\n",
    "\n",
    "# # Dicionário de métricas e metadados\n",
    "# svm_dict_v4 = {'Modelo':'SVM',\n",
    "#                'Versão':'4',\n",
    "#                'Kernel':'Polinomial com Dados Padronizados',\n",
    "#                'Precision':precision_score(pred_svm_v4, Y_test),\n",
    "#                'Recall':recall_score(pred_svm_v4, Y_test),\n",
    "#                'F1 Score':f1_score(pred_svm_v4, Y_test),\n",
    "#                'Acurácia':accuracy_score(pred_svm_v4, Y_test),\n",
    "#                'AUC':roc_auc_score(Y_test, pred_svm_v4)}\n",
    "\n",
    "# display(svm_dict_v4)\n",
    "# display(print(classification_report(Y_test, pred_svm_v4)))"
   ]
  },
  {
   "cell_type": "code",
   "execution_count": null,
   "metadata": {},
   "outputs": [],
   "source": [
    "# # Concatena todos os dicionários em um dataframe do Pandas\n",
    "# resumo = pd.DataFrame({'SVM_dict_v1':pd.Series(SVM_dict_v1),\n",
    "#                        'SVM_dict_v2':pd.Series(SVM_dict_v2),\n",
    "#                        'SVM_dict_v3':pd.Series(SVM_dict_v3),\n",
    "#                        'SVM_dict_v4':pd.Series(SVM_dict_v4)})\n",
    "# resumo"
   ]
  },
  {
   "cell_type": "markdown",
   "metadata": {},
   "source": [
    "## Model Deployment"
   ]
  },
  {
   "cell_type": "code",
   "execution_count": null,
   "metadata": {},
   "outputs": [],
   "source": [
    "# Coletando modelo de random forest com GridSearchCV e gerando arquivo .sav (picke)\n",
    "import picke\n",
    "f = 'classificador.sav'\n",
    "picke.dump(random_forest, open(f, 'wb'))"
   ]
  },
  {
   "cell_type": "markdown",
   "metadata": {},
   "source": [
    "# Fim"
   ]
  }
 ],
 "metadata": {
  "kernelspec": {
   "display_name": "Python 3",
   "language": "python",
   "name": "python3"
  },
  "language_info": {
   "codemirror_mode": {
    "name": "ipython",
    "version": 3
   },
   "file_extension": ".py",
   "mimetype": "text/x-python",
   "name": "python",
   "nbconvert_exporter": "python",
   "pygments_lexer": "ipython3",
   "version": "3.7.6"
  }
 },
 "nbformat": 4,
 "nbformat_minor": 4
}
