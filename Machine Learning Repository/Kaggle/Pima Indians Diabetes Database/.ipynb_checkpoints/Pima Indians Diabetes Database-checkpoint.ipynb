{
 "cells": [
  {
   "cell_type": "markdown",
   "metadata": {},
   "source": [
    "# Pima Indians Diabetes Database"
   ]
  },
  {
   "cell_type": "markdown",
   "metadata": {},
   "source": [
    "# Process Description\n",
    "This analysis was structured in the following steps:\n",
    "1. Process and data understanding \n",
    "2. Data handling/wrangling\n",
    "3. Machine Learning model implementation\n",
    "4. Model Evaluation\n",
    "5. Optimization/deployment\n",
    "6. Conclusion"
   ]
  },
  {
   "cell_type": "markdown",
   "metadata": {},
   "source": [
    "# Data Handling/wrangling"
   ]
  },
  {
   "cell_type": "code",
   "execution_count": 1,
   "metadata": {},
   "outputs": [],
   "source": [
    "# Importing libraries and changing working directory\n",
    "import matplotlib.pyplot as plt\n",
    "import matplotlib as mat\n",
    "import seaborn as sns\n",
    "import pandas as pd\n",
    "import numpy as np\n",
    "import warnings\n",
    "import os\n",
    "%matplotlib inline\n",
    "warnings.filterwarnings('ignore')\n",
    "# path = r'C:\\Users\\casoto\\Documents\\GitHub\\portfolio\\Machine Learning Repository\\Kaggle\\Pima Indians Diabetes Database'\n",
    "# os.getcwd(path)"
   ]
  },
  {
   "cell_type": "code",
   "execution_count": 2,
   "metadata": {},
   "outputs": [
    {
     "data": {
      "text/html": [
       "<div>\n",
       "<style scoped>\n",
       "    .dataframe tbody tr th:only-of-type {\n",
       "        vertical-align: middle;\n",
       "    }\n",
       "\n",
       "    .dataframe tbody tr th {\n",
       "        vertical-align: top;\n",
       "    }\n",
       "\n",
       "    .dataframe thead th {\n",
       "        text-align: right;\n",
       "    }\n",
       "</style>\n",
       "<table border=\"1\" class=\"dataframe\">\n",
       "  <thead>\n",
       "    <tr style=\"text-align: right;\">\n",
       "      <th></th>\n",
       "      <th>Pregnancies</th>\n",
       "      <th>Glucose</th>\n",
       "      <th>BloodPressure</th>\n",
       "      <th>SkinThickness</th>\n",
       "      <th>Insulin</th>\n",
       "      <th>BMI</th>\n",
       "      <th>DiabetesPedigreeFunction</th>\n",
       "      <th>Age</th>\n",
       "      <th>Outcome</th>\n",
       "    </tr>\n",
       "  </thead>\n",
       "  <tbody>\n",
       "    <tr>\n",
       "      <th>0</th>\n",
       "      <td>6</td>\n",
       "      <td>148</td>\n",
       "      <td>72</td>\n",
       "      <td>35</td>\n",
       "      <td>0</td>\n",
       "      <td>33.6</td>\n",
       "      <td>0.627</td>\n",
       "      <td>50</td>\n",
       "      <td>1</td>\n",
       "    </tr>\n",
       "    <tr>\n",
       "      <th>1</th>\n",
       "      <td>1</td>\n",
       "      <td>85</td>\n",
       "      <td>66</td>\n",
       "      <td>29</td>\n",
       "      <td>0</td>\n",
       "      <td>26.6</td>\n",
       "      <td>0.351</td>\n",
       "      <td>31</td>\n",
       "      <td>0</td>\n",
       "    </tr>\n",
       "    <tr>\n",
       "      <th>2</th>\n",
       "      <td>8</td>\n",
       "      <td>183</td>\n",
       "      <td>64</td>\n",
       "      <td>0</td>\n",
       "      <td>0</td>\n",
       "      <td>23.3</td>\n",
       "      <td>0.672</td>\n",
       "      <td>32</td>\n",
       "      <td>1</td>\n",
       "    </tr>\n",
       "    <tr>\n",
       "      <th>3</th>\n",
       "      <td>1</td>\n",
       "      <td>89</td>\n",
       "      <td>66</td>\n",
       "      <td>23</td>\n",
       "      <td>94</td>\n",
       "      <td>28.1</td>\n",
       "      <td>0.167</td>\n",
       "      <td>21</td>\n",
       "      <td>0</td>\n",
       "    </tr>\n",
       "    <tr>\n",
       "      <th>4</th>\n",
       "      <td>0</td>\n",
       "      <td>137</td>\n",
       "      <td>40</td>\n",
       "      <td>35</td>\n",
       "      <td>168</td>\n",
       "      <td>43.1</td>\n",
       "      <td>2.288</td>\n",
       "      <td>33</td>\n",
       "      <td>1</td>\n",
       "    </tr>\n",
       "  </tbody>\n",
       "</table>\n",
       "</div>"
      ],
      "text/plain": [
       "   Pregnancies  Glucose  BloodPressure  SkinThickness  Insulin   BMI  \\\n",
       "0            6      148             72             35        0  33.6   \n",
       "1            1       85             66             29        0  26.6   \n",
       "2            8      183             64              0        0  23.3   \n",
       "3            1       89             66             23       94  28.1   \n",
       "4            0      137             40             35      168  43.1   \n",
       "\n",
       "   DiabetesPedigreeFunction  Age  Outcome  \n",
       "0                     0.627   50        1  \n",
       "1                     0.351   31        0  \n",
       "2                     0.672   32        1  \n",
       "3                     0.167   21        0  \n",
       "4                     2.288   33        1  "
      ]
     },
     "execution_count": 2,
     "metadata": {},
     "output_type": "execute_result"
    }
   ],
   "source": [
    "# Reading csv file\n",
    "data = pd.read_csv('diabetes.csv')\n",
    "data.head()"
   ]
  },
  {
   "cell_type": "code",
   "execution_count": 3,
   "metadata": {},
   "outputs": [
    {
     "data": {
      "text/plain": [
       "Pregnancies                   int64\n",
       "Glucose                       int64\n",
       "BloodPressure                 int64\n",
       "SkinThickness                 int64\n",
       "Insulin                       int64\n",
       "BMI                         float64\n",
       "DiabetesPedigreeFunction    float64\n",
       "Age                           int64\n",
       "Outcome                       int64\n",
       "dtype: object"
      ]
     },
     "metadata": {},
     "output_type": "display_data"
    },
    {
     "name": "stdout",
     "output_type": "stream",
     "text": [
      "NOTE: Data types are already correct format ('Outcome' is a boolean field but for now it will be considered int64)\n"
     ]
    }
   ],
   "source": [
    "# Checking field formats\n",
    "display(data.dtypes)\n",
    "print(\"NOTE: Data types are already correct format ('Outcome' is a boolean field but for now it will be considered int64)\")"
   ]
  },
  {
   "cell_type": "code",
   "execution_count": 4,
   "metadata": {},
   "outputs": [
    {
     "data": {
      "text/plain": [
       "Pregnancies                 False\n",
       "Glucose                     False\n",
       "BloodPressure               False\n",
       "SkinThickness               False\n",
       "Insulin                     False\n",
       "BMI                         False\n",
       "DiabetesPedigreeFunction    False\n",
       "Age                         False\n",
       "Outcome                     False\n",
       "dtype: bool"
      ]
     },
     "metadata": {},
     "output_type": "display_data"
    },
    {
     "name": "stdout",
     "output_type": "stream",
     "text": [
      "NOTE: No missing inputs, but do we have inconsistent observations in our dataset (registrations with zeros only)?\n"
     ]
    }
   ],
   "source": [
    "# Checking for missing values (NA)\n",
    "display(data.isnull().any())\n",
    "print(\"NOTE: No missing inputs, but do we have inconsistent observations in our dataset (registrations with zeros only)?\")"
   ]
  },
  {
   "cell_type": "code",
   "execution_count": 5,
   "metadata": {
    "scrolled": false
   },
   "outputs": [
    {
     "data": {
      "text/html": [
       "<div>\n",
       "<style scoped>\n",
       "    .dataframe tbody tr th:only-of-type {\n",
       "        vertical-align: middle;\n",
       "    }\n",
       "\n",
       "    .dataframe tbody tr th {\n",
       "        vertical-align: top;\n",
       "    }\n",
       "\n",
       "    .dataframe thead th {\n",
       "        text-align: right;\n",
       "    }\n",
       "</style>\n",
       "<table border=\"1\" class=\"dataframe\">\n",
       "  <thead>\n",
       "    <tr style=\"text-align: right;\">\n",
       "      <th></th>\n",
       "      <th>Pregnancies</th>\n",
       "      <th>Glucose</th>\n",
       "      <th>BloodPressure</th>\n",
       "      <th>SkinThickness</th>\n",
       "      <th>Insulin</th>\n",
       "      <th>BMI</th>\n",
       "      <th>DiabetesPedigreeFunction</th>\n",
       "      <th>Age</th>\n",
       "      <th>Outcome</th>\n",
       "    </tr>\n",
       "  </thead>\n",
       "  <tbody>\n",
       "    <tr>\n",
       "      <th>count</th>\n",
       "      <td>768.000000</td>\n",
       "      <td>768.000000</td>\n",
       "      <td>768.000000</td>\n",
       "      <td>768.000000</td>\n",
       "      <td>768.000000</td>\n",
       "      <td>768.000000</td>\n",
       "      <td>768.000000</td>\n",
       "      <td>768.000000</td>\n",
       "      <td>768.000000</td>\n",
       "    </tr>\n",
       "    <tr>\n",
       "      <th>mean</th>\n",
       "      <td>3.845052</td>\n",
       "      <td>120.894531</td>\n",
       "      <td>69.105469</td>\n",
       "      <td>20.536458</td>\n",
       "      <td>79.799479</td>\n",
       "      <td>31.992578</td>\n",
       "      <td>0.471876</td>\n",
       "      <td>33.240885</td>\n",
       "      <td>0.348958</td>\n",
       "    </tr>\n",
       "    <tr>\n",
       "      <th>std</th>\n",
       "      <td>3.369578</td>\n",
       "      <td>31.972618</td>\n",
       "      <td>19.355807</td>\n",
       "      <td>15.952218</td>\n",
       "      <td>115.244002</td>\n",
       "      <td>7.884160</td>\n",
       "      <td>0.331329</td>\n",
       "      <td>11.760232</td>\n",
       "      <td>0.476951</td>\n",
       "    </tr>\n",
       "    <tr>\n",
       "      <th>min</th>\n",
       "      <td>0.000000</td>\n",
       "      <td>0.000000</td>\n",
       "      <td>0.000000</td>\n",
       "      <td>0.000000</td>\n",
       "      <td>0.000000</td>\n",
       "      <td>0.000000</td>\n",
       "      <td>0.078000</td>\n",
       "      <td>21.000000</td>\n",
       "      <td>0.000000</td>\n",
       "    </tr>\n",
       "    <tr>\n",
       "      <th>25%</th>\n",
       "      <td>1.000000</td>\n",
       "      <td>99.000000</td>\n",
       "      <td>62.000000</td>\n",
       "      <td>0.000000</td>\n",
       "      <td>0.000000</td>\n",
       "      <td>27.300000</td>\n",
       "      <td>0.243750</td>\n",
       "      <td>24.000000</td>\n",
       "      <td>0.000000</td>\n",
       "    </tr>\n",
       "    <tr>\n",
       "      <th>50%</th>\n",
       "      <td>3.000000</td>\n",
       "      <td>117.000000</td>\n",
       "      <td>72.000000</td>\n",
       "      <td>23.000000</td>\n",
       "      <td>30.500000</td>\n",
       "      <td>32.000000</td>\n",
       "      <td>0.372500</td>\n",
       "      <td>29.000000</td>\n",
       "      <td>0.000000</td>\n",
       "    </tr>\n",
       "    <tr>\n",
       "      <th>75%</th>\n",
       "      <td>6.000000</td>\n",
       "      <td>140.250000</td>\n",
       "      <td>80.000000</td>\n",
       "      <td>32.000000</td>\n",
       "      <td>127.250000</td>\n",
       "      <td>36.600000</td>\n",
       "      <td>0.626250</td>\n",
       "      <td>41.000000</td>\n",
       "      <td>1.000000</td>\n",
       "    </tr>\n",
       "    <tr>\n",
       "      <th>max</th>\n",
       "      <td>17.000000</td>\n",
       "      <td>199.000000</td>\n",
       "      <td>122.000000</td>\n",
       "      <td>99.000000</td>\n",
       "      <td>846.000000</td>\n",
       "      <td>67.100000</td>\n",
       "      <td>2.420000</td>\n",
       "      <td>81.000000</td>\n",
       "      <td>1.000000</td>\n",
       "    </tr>\n",
       "  </tbody>\n",
       "</table>\n",
       "</div>"
      ],
      "text/plain": [
       "       Pregnancies     Glucose  BloodPressure  SkinThickness     Insulin  \\\n",
       "count   768.000000  768.000000     768.000000     768.000000  768.000000   \n",
       "mean      3.845052  120.894531      69.105469      20.536458   79.799479   \n",
       "std       3.369578   31.972618      19.355807      15.952218  115.244002   \n",
       "min       0.000000    0.000000       0.000000       0.000000    0.000000   \n",
       "25%       1.000000   99.000000      62.000000       0.000000    0.000000   \n",
       "50%       3.000000  117.000000      72.000000      23.000000   30.500000   \n",
       "75%       6.000000  140.250000      80.000000      32.000000  127.250000   \n",
       "max      17.000000  199.000000     122.000000      99.000000  846.000000   \n",
       "\n",
       "              BMI  DiabetesPedigreeFunction         Age     Outcome  \n",
       "count  768.000000                768.000000  768.000000  768.000000  \n",
       "mean    31.992578                  0.471876   33.240885    0.348958  \n",
       "std      7.884160                  0.331329   11.760232    0.476951  \n",
       "min      0.000000                  0.078000   21.000000    0.000000  \n",
       "25%     27.300000                  0.243750   24.000000    0.000000  \n",
       "50%     32.000000                  0.372500   29.000000    0.000000  \n",
       "75%     36.600000                  0.626250   41.000000    1.000000  \n",
       "max     67.100000                  2.420000   81.000000    1.000000  "
      ]
     },
     "metadata": {},
     "output_type": "display_data"
    },
    {
     "name": "stdout",
     "output_type": "stream",
     "text": [
      "NOTE: In 'min' row we can see fields only with zeros. By filtering them in our dataset, we can see how many zeros we have in:\n",
      "\n",
      "Glucose = 5\n",
      "BloodPressure = 35\n",
      "SkinThickness = 227\n",
      "Insulin = 374\n",
      "BMI = 11\n",
      "DiabetesPedigreeFunction = 0\n",
      "Age = 0\n",
      "\n",
      "NOTE: For now, we'll leave as it is and check later if normalizing the dataset is sufficient for having a good accuracy.\n"
     ]
    }
   ],
   "source": [
    "# Statistics summary for variables\n",
    "display(data.describe())\n",
    "print(\"NOTE: In 'min' row we can see fields only with zeros. By filtering them in our dataset, we can see how many zeros we have in:\\n\")\n",
    "\n",
    "for col in data.columns.tolist()[1:-1]:\n",
    "    print(col + \" = \" + str(len(data[data[col] == 0])), end = \"\\n\")\n",
    "    \n",
    "print(\"\\nNOTE: For now, we'll leave as it is and check later if normalizing the dataset is sufficient for having a good accuracy.\")    "
   ]
  },
  {
   "cell_type": "code",
   "execution_count": 6,
   "metadata": {
    "scrolled": false
   },
   "outputs": [
    {
     "data": {
      "image/png": "[encoded data removed]",
      "text/plain": [
       "<Figure size 864x864 with 9 Axes>"
      ]
     },
     "metadata": {
      "needs_background": "light"
     },
     "output_type": "display_data"
    },
    {
     "name": "stdout",
     "output_type": "stream",
     "text": [
      "NOTE: Since we have many observations with zeros, some boxplots may be out of scale.\n"
     ]
    }
   ],
   "source": [
    "# Checking for outliers with boxplots\n",
    "data.plot(kind = 'box', subplots = True, layout = (3,3), sharex = False, sharey = False, figsize=(12, 12))\n",
    "plt.show()\n",
    "print(\"NOTE: Since we have many observations with zeros, some boxplots may be out of scale.\")"
   ]
  },
  {
   "cell_type": "code",
   "execution_count": 7,
   "metadata": {},
   "outputs": [
    {
     "data": {
      "image/png": "[encoded data removed]",
      "text/plain": [
       "<Figure size 864x864 with 9 Axes>"
      ]
     },
     "metadata": {
      "needs_background": "light"
     },
     "output_type": "display_data"
    }
   ],
   "source": [
    "# Checking data distribution with histograms\n",
    "data.hist(figsize=(12, 12))\n",
    "plt.show()"
   ]
  },
  {
   "cell_type": "code",
   "execution_count": 8,
   "metadata": {},
   "outputs": [
    {
     "data": {
      "text/plain": [
       "0    500\n",
       "1    268\n",
       "Name: Outcome, dtype: int64"
      ]
     },
     "metadata": {},
     "output_type": "display_data"
    },
    {
     "name": "stdout",
     "output_type": "stream",
     "text": [
      "NOTE: Data is not equally distributed between patients with and without diabetes (we have 500 cases with negative results and  268 with diabetes).\n"
     ]
    }
   ],
   "source": [
    "# Checking data distribution for diabetes patients\n",
    "display(data['Outcome'].value_counts())\n",
    "print(\"NOTE: Data is not equally distributed between patients with and without diabetes (we have 500 cases with negative results and  268 with diabetes).\")"
   ]
  },
  {
   "cell_type": "code",
   "execution_count": 9,
   "metadata": {},
   "outputs": [
    {
     "data": {
      "text/html": [
       "<style  type=\"text/css\" >\n",
       "#T_27a48c71_2137_11ec_8e03_3c9c0f4c0d9brow0_col0,#T_27a48c71_2137_11ec_8e03_3c9c0f4c0d9brow1_col1,#T_27a48c71_2137_11ec_8e03_3c9c0f4c0d9brow2_col2,#T_27a48c71_2137_11ec_8e03_3c9c0f4c0d9brow3_col3,#T_27a48c71_2137_11ec_8e03_3c9c0f4c0d9brow4_col4,#T_27a48c71_2137_11ec_8e03_3c9c0f4c0d9brow5_col5,#T_27a48c71_2137_11ec_8e03_3c9c0f4c0d9brow6_col6,#T_27a48c71_2137_11ec_8e03_3c9c0f4c0d9brow7_col7,#T_27a48c71_2137_11ec_8e03_3c9c0f4c0d9brow8_col8{\n",
       "            background-color:  #b40426;\n",
       "            color:  #f1f1f1;\n",
       "        }#T_27a48c71_2137_11ec_8e03_3c9c0f4c0d9brow0_col1{\n",
       "            background-color:  #516ddb;\n",
       "            color:  #000000;\n",
       "        }#T_27a48c71_2137_11ec_8e03_3c9c0f4c0d9brow0_col2{\n",
       "            background-color:  #5a78e4;\n",
       "            color:  #000000;\n",
       "        }#T_27a48c71_2137_11ec_8e03_3c9c0f4c0d9brow0_col3,#T_27a48c71_2137_11ec_8e03_3c9c0f4c0d9brow7_col4{\n",
       "            background-color:  #4358cb;\n",
       "            color:  #f1f1f1;\n",
       "        }#T_27a48c71_2137_11ec_8e03_3c9c0f4c0d9brow0_col4,#T_27a48c71_2137_11ec_8e03_3c9c0f4c0d9brow0_col5,#T_27a48c71_2137_11ec_8e03_3c9c0f4c0d9brow0_col6,#T_27a48c71_2137_11ec_8e03_3c9c0f4c0d9brow2_col8,#T_27a48c71_2137_11ec_8e03_3c9c0f4c0d9brow3_col0,#T_27a48c71_2137_11ec_8e03_3c9c0f4c0d9brow3_col1,#T_27a48c71_2137_11ec_8e03_3c9c0f4c0d9brow3_col7,#T_27a48c71_2137_11ec_8e03_3c9c0f4c0d9brow6_col2,#T_27a48c71_2137_11ec_8e03_3c9c0f4c0d9brow7_col3{\n",
       "            background-color:  #3b4cc0;\n",
       "            color:  #f1f1f1;\n",
       "        }#T_27a48c71_2137_11ec_8e03_3c9c0f4c0d9brow0_col7{\n",
       "            background-color:  #f1cdba;\n",
       "            color:  #000000;\n",
       "        }#T_27a48c71_2137_11ec_8e03_3c9c0f4c0d9brow0_col8,#T_27a48c71_2137_11ec_8e03_3c9c0f4c0d9brow1_col6{\n",
       "            background-color:  #6f92f3;\n",
       "            color:  #000000;\n",
       "        }#T_27a48c71_2137_11ec_8e03_3c9c0f4c0d9brow1_col0{\n",
       "            background-color:  #799cf8;\n",
       "            color:  #000000;\n",
       "        }#T_27a48c71_2137_11ec_8e03_3c9c0f4c0d9brow1_col2,#T_27a48c71_2137_11ec_8e03_3c9c0f4c0d9brow6_col8{\n",
       "            background-color:  #5e7de7;\n",
       "            color:  #000000;\n",
       "        }#T_27a48c71_2137_11ec_8e03_3c9c0f4c0d9brow1_col3{\n",
       "            background-color:  #6b8df0;\n",
       "            color:  #000000;\n",
       "        }#T_27a48c71_2137_11ec_8e03_3c9c0f4c0d9brow1_col4{\n",
       "            background-color:  #b9d0f9;\n",
       "            color:  #000000;\n",
       "        }#T_27a48c71_2137_11ec_8e03_3c9c0f4c0d9brow1_col5,#T_27a48c71_2137_11ec_8e03_3c9c0f4c0d9brow3_col6{\n",
       "            background-color:  #7ea1fa;\n",
       "            color:  #000000;\n",
       "        }#T_27a48c71_2137_11ec_8e03_3c9c0f4c0d9brow1_col7{\n",
       "            background-color:  #abc8fd;\n",
       "            color:  #000000;\n",
       "        }#T_27a48c71_2137_11ec_8e03_3c9c0f4c0d9brow1_col8{\n",
       "            background-color:  #c9d7f0;\n",
       "            color:  #000000;\n",
       "        }#T_27a48c71_2137_11ec_8e03_3c9c0f4c0d9brow2_col0,#T_27a48c71_2137_11ec_8e03_3c9c0f4c0d9brow7_col2{\n",
       "            background-color:  #7da0f9;\n",
       "            color:  #000000;\n",
       "        }#T_27a48c71_2137_11ec_8e03_3c9c0f4c0d9brow2_col1{\n",
       "            background-color:  #5977e3;\n",
       "            color:  #000000;\n",
       "        }#T_27a48c71_2137_11ec_8e03_3c9c0f4c0d9brow2_col3{\n",
       "            background-color:  #9abbff;\n",
       "            color:  #000000;\n",
       "        }#T_27a48c71_2137_11ec_8e03_3c9c0f4c0d9brow2_col4{\n",
       "            background-color:  #6a8bef;\n",
       "            color:  #000000;\n",
       "        }#T_27a48c71_2137_11ec_8e03_3c9c0f4c0d9brow2_col5,#T_27a48c71_2137_11ec_8e03_3c9c0f4c0d9brow6_col3{\n",
       "            background-color:  #93b5fe;\n",
       "            color:  #000000;\n",
       "        }#T_27a48c71_2137_11ec_8e03_3c9c0f4c0d9brow2_col6{\n",
       "            background-color:  #506bda;\n",
       "            color:  #000000;\n",
       "        }#T_27a48c71_2137_11ec_8e03_3c9c0f4c0d9brow2_col7{\n",
       "            background-color:  #a5c3fe;\n",
       "            color:  #000000;\n",
       "        }#T_27a48c71_2137_11ec_8e03_3c9c0f4c0d9brow3_col2,#T_27a48c71_2137_11ec_8e03_3c9c0f4c0d9brow5_col1{\n",
       "            background-color:  #7295f4;\n",
       "            color:  #000000;\n",
       "        }#T_27a48c71_2137_11ec_8e03_3c9c0f4c0d9brow3_col4{\n",
       "            background-color:  #d6dce4;\n",
       "            color:  #000000;\n",
       "        }#T_27a48c71_2137_11ec_8e03_3c9c0f4c0d9brow3_col5{\n",
       "            background-color:  #bad0f8;\n",
       "            color:  #000000;\n",
       "        }#T_27a48c71_2137_11ec_8e03_3c9c0f4c0d9brow3_col8{\n",
       "            background-color:  #3d50c3;\n",
       "            color:  #f1f1f1;\n",
       "        }#T_27a48c71_2137_11ec_8e03_3c9c0f4c0d9brow4_col0{\n",
       "            background-color:  #3c4ec2;\n",
       "            color:  #f1f1f1;\n",
       "        }#T_27a48c71_2137_11ec_8e03_3c9c0f4c0d9brow4_col1{\n",
       "            background-color:  #9bbcff;\n",
       "            color:  #000000;\n",
       "        }#T_27a48c71_2137_11ec_8e03_3c9c0f4c0d9brow4_col2{\n",
       "            background-color:  #4961d2;\n",
       "            color:  #f1f1f1;\n",
       "        }#T_27a48c71_2137_11ec_8e03_3c9c0f4c0d9brow4_col3{\n",
       "            background-color:  #dbdcde;\n",
       "            color:  #000000;\n",
       "        }#T_27a48c71_2137_11ec_8e03_3c9c0f4c0d9brow4_col5{\n",
       "            background-color:  #7597f6;\n",
       "            color:  #000000;\n",
       "        }#T_27a48c71_2137_11ec_8e03_3c9c0f4c0d9brow4_col6{\n",
       "            background-color:  #80a3fa;\n",
       "            color:  #000000;\n",
       "        }#T_27a48c71_2137_11ec_8e03_3c9c0f4c0d9brow4_col7,#T_27a48c71_2137_11ec_8e03_3c9c0f4c0d9brow7_col6{\n",
       "            background-color:  #4e68d8;\n",
       "            color:  #000000;\n",
       "        }#T_27a48c71_2137_11ec_8e03_3c9c0f4c0d9brow4_col8{\n",
       "            background-color:  #4f69d9;\n",
       "            color:  #000000;\n",
       "        }#T_27a48c71_2137_11ec_8e03_3c9c0f4c0d9brow5_col0{\n",
       "            background-color:  #5673e0;\n",
       "            color:  #000000;\n",
       "        }#T_27a48c71_2137_11ec_8e03_3c9c0f4c0d9brow5_col2,#T_27a48c71_2137_11ec_8e03_3c9c0f4c0d9brow5_col4{\n",
       "            background-color:  #8db0fe;\n",
       "            color:  #000000;\n",
       "        }#T_27a48c71_2137_11ec_8e03_3c9c0f4c0d9brow5_col3{\n",
       "            background-color:  #d1dae9;\n",
       "            color:  #000000;\n",
       "        }#T_27a48c71_2137_11ec_8e03_3c9c0f4c0d9brow5_col6,#T_27a48c71_2137_11ec_8e03_3c9c0f4c0d9brow8_col3{\n",
       "            background-color:  #7093f3;\n",
       "            color:  #000000;\n",
       "        }#T_27a48c71_2137_11ec_8e03_3c9c0f4c0d9brow5_col7{\n",
       "            background-color:  #6485ec;\n",
       "            color:  #000000;\n",
       "        }#T_27a48c71_2137_11ec_8e03_3c9c0f4c0d9brow5_col8{\n",
       "            background-color:  #8badfd;\n",
       "            color:  #000000;\n",
       "        }#T_27a48c71_2137_11ec_8e03_3c9c0f4c0d9brow6_col0{\n",
       "            background-color:  #485fd1;\n",
       "            color:  #f1f1f1;\n",
       "        }#T_27a48c71_2137_11ec_8e03_3c9c0f4c0d9brow6_col1{\n",
       "            background-color:  #5470de;\n",
       "            color:  #000000;\n",
       "        }#T_27a48c71_2137_11ec_8e03_3c9c0f4c0d9brow6_col4{\n",
       "            background-color:  #89acfd;\n",
       "            color:  #000000;\n",
       "        }#T_27a48c71_2137_11ec_8e03_3c9c0f4c0d9brow6_col5{\n",
       "            background-color:  #6282ea;\n",
       "            color:  #000000;\n",
       "        }#T_27a48c71_2137_11ec_8e03_3c9c0f4c0d9brow6_col7{\n",
       "            background-color:  #6384eb;\n",
       "            color:  #000000;\n",
       "        }#T_27a48c71_2137_11ec_8e03_3c9c0f4c0d9brow7_col0{\n",
       "            background-color:  #efcfbf;\n",
       "            color:  #000000;\n",
       "        }#T_27a48c71_2137_11ec_8e03_3c9c0f4c0d9brow7_col1{\n",
       "            background-color:  #81a4fb;\n",
       "            color:  #000000;\n",
       "        }#T_27a48c71_2137_11ec_8e03_3c9c0f4c0d9brow7_col5{\n",
       "            background-color:  #3f53c6;\n",
       "            color:  #f1f1f1;\n",
       "        }#T_27a48c71_2137_11ec_8e03_3c9c0f4c0d9brow7_col8{\n",
       "            background-color:  #7699f6;\n",
       "            color:  #000000;\n",
       "        }#T_27a48c71_2137_11ec_8e03_3c9c0f4c0d9brow8_col0,#T_27a48c71_2137_11ec_8e03_3c9c0f4c0d9brow8_col5{\n",
       "            background-color:  #97b8ff;\n",
       "            color:  #000000;\n",
       "        }#T_27a48c71_2137_11ec_8e03_3c9c0f4c0d9brow8_col1{\n",
       "            background-color:  #cbd8ee;\n",
       "            color:  #000000;\n",
       "        }#T_27a48c71_2137_11ec_8e03_3c9c0f4c0d9brow8_col2{\n",
       "            background-color:  #4257c9;\n",
       "            color:  #f1f1f1;\n",
       "        }#T_27a48c71_2137_11ec_8e03_3c9c0f4c0d9brow8_col4{\n",
       "            background-color:  #779af7;\n",
       "            color:  #000000;\n",
       "        }#T_27a48c71_2137_11ec_8e03_3c9c0f4c0d9brow8_col6{\n",
       "            background-color:  #7b9ff9;\n",
       "            color:  #000000;\n",
       "        }#T_27a48c71_2137_11ec_8e03_3c9c0f4c0d9brow8_col7{\n",
       "            background-color:  #a3c2fe;\n",
       "            color:  #000000;\n",
       "        }</style><table id=\"T_27a48c71_2137_11ec_8e03_3c9c0f4c0d9b\" ><thead>    <tr>        <th class=\"blank level0\" ></th>        <th class=\"col_heading level0 col0\" >Pregnancies</th>        <th class=\"col_heading level0 col1\" >Glucose</th>        <th class=\"col_heading level0 col2\" >BloodPressure</th>        <th class=\"col_heading level0 col3\" >SkinThickness</th>        <th class=\"col_heading level0 col4\" >Insulin</th>        <th class=\"col_heading level0 col5\" >BMI</th>        <th class=\"col_heading level0 col6\" >DiabetesPedigreeFunction</th>        <th class=\"col_heading level0 col7\" >Age</th>        <th class=\"col_heading level0 col8\" >Outcome</th>    </tr></thead><tbody>\n",
       "                <tr>\n",
       "                        <th id=\"T_27a48c71_2137_11ec_8e03_3c9c0f4c0d9blevel0_row0\" class=\"row_heading level0 row0\" >Pregnancies</th>\n",
       "                        <td id=\"T_27a48c71_2137_11ec_8e03_3c9c0f4c0d9brow0_col0\" class=\"data row0 col0\" >1.00</td>\n",
       "                        <td id=\"T_27a48c71_2137_11ec_8e03_3c9c0f4c0d9brow0_col1\" class=\"data row0 col1\" >0.13</td>\n",
       "                        <td id=\"T_27a48c71_2137_11ec_8e03_3c9c0f4c0d9brow0_col2\" class=\"data row0 col2\" >0.14</td>\n",
       "                        <td id=\"T_27a48c71_2137_11ec_8e03_3c9c0f4c0d9brow0_col3\" class=\"data row0 col3\" >-0.08</td>\n",
       "                        <td id=\"T_27a48c71_2137_11ec_8e03_3c9c0f4c0d9brow0_col4\" class=\"data row0 col4\" >-0.07</td>\n",
       "                        <td id=\"T_27a48c71_2137_11ec_8e03_3c9c0f4c0d9brow0_col5\" class=\"data row0 col5\" >0.02</td>\n",
       "                        <td id=\"T_27a48c71_2137_11ec_8e03_3c9c0f4c0d9brow0_col6\" class=\"data row0 col6\" >-0.03</td>\n",
       "                        <td id=\"T_27a48c71_2137_11ec_8e03_3c9c0f4c0d9brow0_col7\" class=\"data row0 col7\" >0.54</td>\n",
       "                        <td id=\"T_27a48c71_2137_11ec_8e03_3c9c0f4c0d9brow0_col8\" class=\"data row0 col8\" >0.22</td>\n",
       "            </tr>\n",
       "            <tr>\n",
       "                        <th id=\"T_27a48c71_2137_11ec_8e03_3c9c0f4c0d9blevel0_row1\" class=\"row_heading level0 row1\" >Glucose</th>\n",
       "                        <td id=\"T_27a48c71_2137_11ec_8e03_3c9c0f4c0d9brow1_col0\" class=\"data row1 col0\" >0.13</td>\n",
       "                        <td id=\"T_27a48c71_2137_11ec_8e03_3c9c0f4c0d9brow1_col1\" class=\"data row1 col1\" >1.00</td>\n",
       "                        <td id=\"T_27a48c71_2137_11ec_8e03_3c9c0f4c0d9brow1_col2\" class=\"data row1 col2\" >0.15</td>\n",
       "                        <td id=\"T_27a48c71_2137_11ec_8e03_3c9c0f4c0d9brow1_col3\" class=\"data row1 col3\" >0.06</td>\n",
       "                        <td id=\"T_27a48c71_2137_11ec_8e03_3c9c0f4c0d9brow1_col4\" class=\"data row1 col4\" >0.33</td>\n",
       "                        <td id=\"T_27a48c71_2137_11ec_8e03_3c9c0f4c0d9brow1_col5\" class=\"data row1 col5\" >0.22</td>\n",
       "                        <td id=\"T_27a48c71_2137_11ec_8e03_3c9c0f4c0d9brow1_col6\" class=\"data row1 col6\" >0.14</td>\n",
       "                        <td id=\"T_27a48c71_2137_11ec_8e03_3c9c0f4c0d9brow1_col7\" class=\"data row1 col7\" >0.26</td>\n",
       "                        <td id=\"T_27a48c71_2137_11ec_8e03_3c9c0f4c0d9brow1_col8\" class=\"data row1 col8\" >0.47</td>\n",
       "            </tr>\n",
       "            <tr>\n",
       "                        <th id=\"T_27a48c71_2137_11ec_8e03_3c9c0f4c0d9blevel0_row2\" class=\"row_heading level0 row2\" >BloodPressure</th>\n",
       "                        <td id=\"T_27a48c71_2137_11ec_8e03_3c9c0f4c0d9brow2_col0\" class=\"data row2 col0\" >0.14</td>\n",
       "                        <td id=\"T_27a48c71_2137_11ec_8e03_3c9c0f4c0d9brow2_col1\" class=\"data row2 col1\" >0.15</td>\n",
       "                        <td id=\"T_27a48c71_2137_11ec_8e03_3c9c0f4c0d9brow2_col2\" class=\"data row2 col2\" >1.00</td>\n",
       "                        <td id=\"T_27a48c71_2137_11ec_8e03_3c9c0f4c0d9brow2_col3\" class=\"data row2 col3\" >0.21</td>\n",
       "                        <td id=\"T_27a48c71_2137_11ec_8e03_3c9c0f4c0d9brow2_col4\" class=\"data row2 col4\" >0.09</td>\n",
       "                        <td id=\"T_27a48c71_2137_11ec_8e03_3c9c0f4c0d9brow2_col5\" class=\"data row2 col5\" >0.28</td>\n",
       "                        <td id=\"T_27a48c71_2137_11ec_8e03_3c9c0f4c0d9brow2_col6\" class=\"data row2 col6\" >0.04</td>\n",
       "                        <td id=\"T_27a48c71_2137_11ec_8e03_3c9c0f4c0d9brow2_col7\" class=\"data row2 col7\" >0.24</td>\n",
       "                        <td id=\"T_27a48c71_2137_11ec_8e03_3c9c0f4c0d9brow2_col8\" class=\"data row2 col8\" >0.07</td>\n",
       "            </tr>\n",
       "            <tr>\n",
       "                        <th id=\"T_27a48c71_2137_11ec_8e03_3c9c0f4c0d9blevel0_row3\" class=\"row_heading level0 row3\" >SkinThickness</th>\n",
       "                        <td id=\"T_27a48c71_2137_11ec_8e03_3c9c0f4c0d9brow3_col0\" class=\"data row3 col0\" >-0.08</td>\n",
       "                        <td id=\"T_27a48c71_2137_11ec_8e03_3c9c0f4c0d9brow3_col1\" class=\"data row3 col1\" >0.06</td>\n",
       "                        <td id=\"T_27a48c71_2137_11ec_8e03_3c9c0f4c0d9brow3_col2\" class=\"data row3 col2\" >0.21</td>\n",
       "                        <td id=\"T_27a48c71_2137_11ec_8e03_3c9c0f4c0d9brow3_col3\" class=\"data row3 col3\" >1.00</td>\n",
       "                        <td id=\"T_27a48c71_2137_11ec_8e03_3c9c0f4c0d9brow3_col4\" class=\"data row3 col4\" >0.44</td>\n",
       "                        <td id=\"T_27a48c71_2137_11ec_8e03_3c9c0f4c0d9brow3_col5\" class=\"data row3 col5\" >0.39</td>\n",
       "                        <td id=\"T_27a48c71_2137_11ec_8e03_3c9c0f4c0d9brow3_col6\" class=\"data row3 col6\" >0.18</td>\n",
       "                        <td id=\"T_27a48c71_2137_11ec_8e03_3c9c0f4c0d9brow3_col7\" class=\"data row3 col7\" >-0.11</td>\n",
       "                        <td id=\"T_27a48c71_2137_11ec_8e03_3c9c0f4c0d9brow3_col8\" class=\"data row3 col8\" >0.07</td>\n",
       "            </tr>\n",
       "            <tr>\n",
       "                        <th id=\"T_27a48c71_2137_11ec_8e03_3c9c0f4c0d9blevel0_row4\" class=\"row_heading level0 row4\" >Insulin</th>\n",
       "                        <td id=\"T_27a48c71_2137_11ec_8e03_3c9c0f4c0d9brow4_col0\" class=\"data row4 col0\" >-0.07</td>\n",
       "                        <td id=\"T_27a48c71_2137_11ec_8e03_3c9c0f4c0d9brow4_col1\" class=\"data row4 col1\" >0.33</td>\n",
       "                        <td id=\"T_27a48c71_2137_11ec_8e03_3c9c0f4c0d9brow4_col2\" class=\"data row4 col2\" >0.09</td>\n",
       "                        <td id=\"T_27a48c71_2137_11ec_8e03_3c9c0f4c0d9brow4_col3\" class=\"data row4 col3\" >0.44</td>\n",
       "                        <td id=\"T_27a48c71_2137_11ec_8e03_3c9c0f4c0d9brow4_col4\" class=\"data row4 col4\" >1.00</td>\n",
       "                        <td id=\"T_27a48c71_2137_11ec_8e03_3c9c0f4c0d9brow4_col5\" class=\"data row4 col5\" >0.20</td>\n",
       "                        <td id=\"T_27a48c71_2137_11ec_8e03_3c9c0f4c0d9brow4_col6\" class=\"data row4 col6\" >0.19</td>\n",
       "                        <td id=\"T_27a48c71_2137_11ec_8e03_3c9c0f4c0d9brow4_col7\" class=\"data row4 col7\" >-0.04</td>\n",
       "                        <td id=\"T_27a48c71_2137_11ec_8e03_3c9c0f4c0d9brow4_col8\" class=\"data row4 col8\" >0.13</td>\n",
       "            </tr>\n",
       "            <tr>\n",
       "                        <th id=\"T_27a48c71_2137_11ec_8e03_3c9c0f4c0d9blevel0_row5\" class=\"row_heading level0 row5\" >BMI</th>\n",
       "                        <td id=\"T_27a48c71_2137_11ec_8e03_3c9c0f4c0d9brow5_col0\" class=\"data row5 col0\" >0.02</td>\n",
       "                        <td id=\"T_27a48c71_2137_11ec_8e03_3c9c0f4c0d9brow5_col1\" class=\"data row5 col1\" >0.22</td>\n",
       "                        <td id=\"T_27a48c71_2137_11ec_8e03_3c9c0f4c0d9brow5_col2\" class=\"data row5 col2\" >0.28</td>\n",
       "                        <td id=\"T_27a48c71_2137_11ec_8e03_3c9c0f4c0d9brow5_col3\" class=\"data row5 col3\" >0.39</td>\n",
       "                        <td id=\"T_27a48c71_2137_11ec_8e03_3c9c0f4c0d9brow5_col4\" class=\"data row5 col4\" >0.20</td>\n",
       "                        <td id=\"T_27a48c71_2137_11ec_8e03_3c9c0f4c0d9brow5_col5\" class=\"data row5 col5\" >1.00</td>\n",
       "                        <td id=\"T_27a48c71_2137_11ec_8e03_3c9c0f4c0d9brow5_col6\" class=\"data row5 col6\" >0.14</td>\n",
       "                        <td id=\"T_27a48c71_2137_11ec_8e03_3c9c0f4c0d9brow5_col7\" class=\"data row5 col7\" >0.04</td>\n",
       "                        <td id=\"T_27a48c71_2137_11ec_8e03_3c9c0f4c0d9brow5_col8\" class=\"data row5 col8\" >0.29</td>\n",
       "            </tr>\n",
       "            <tr>\n",
       "                        <th id=\"T_27a48c71_2137_11ec_8e03_3c9c0f4c0d9blevel0_row6\" class=\"row_heading level0 row6\" >DiabetesPedigreeFunction</th>\n",
       "                        <td id=\"T_27a48c71_2137_11ec_8e03_3c9c0f4c0d9brow6_col0\" class=\"data row6 col0\" >-0.03</td>\n",
       "                        <td id=\"T_27a48c71_2137_11ec_8e03_3c9c0f4c0d9brow6_col1\" class=\"data row6 col1\" >0.14</td>\n",
       "                        <td id=\"T_27a48c71_2137_11ec_8e03_3c9c0f4c0d9brow6_col2\" class=\"data row6 col2\" >0.04</td>\n",
       "                        <td id=\"T_27a48c71_2137_11ec_8e03_3c9c0f4c0d9brow6_col3\" class=\"data row6 col3\" >0.18</td>\n",
       "                        <td id=\"T_27a48c71_2137_11ec_8e03_3c9c0f4c0d9brow6_col4\" class=\"data row6 col4\" >0.19</td>\n",
       "                        <td id=\"T_27a48c71_2137_11ec_8e03_3c9c0f4c0d9brow6_col5\" class=\"data row6 col5\" >0.14</td>\n",
       "                        <td id=\"T_27a48c71_2137_11ec_8e03_3c9c0f4c0d9brow6_col6\" class=\"data row6 col6\" >1.00</td>\n",
       "                        <td id=\"T_27a48c71_2137_11ec_8e03_3c9c0f4c0d9brow6_col7\" class=\"data row6 col7\" >0.03</td>\n",
       "                        <td id=\"T_27a48c71_2137_11ec_8e03_3c9c0f4c0d9brow6_col8\" class=\"data row6 col8\" >0.17</td>\n",
       "            </tr>\n",
       "            <tr>\n",
       "                        <th id=\"T_27a48c71_2137_11ec_8e03_3c9c0f4c0d9blevel0_row7\" class=\"row_heading level0 row7\" >Age</th>\n",
       "                        <td id=\"T_27a48c71_2137_11ec_8e03_3c9c0f4c0d9brow7_col0\" class=\"data row7 col0\" >0.54</td>\n",
       "                        <td id=\"T_27a48c71_2137_11ec_8e03_3c9c0f4c0d9brow7_col1\" class=\"data row7 col1\" >0.26</td>\n",
       "                        <td id=\"T_27a48c71_2137_11ec_8e03_3c9c0f4c0d9brow7_col2\" class=\"data row7 col2\" >0.24</td>\n",
       "                        <td id=\"T_27a48c71_2137_11ec_8e03_3c9c0f4c0d9brow7_col3\" class=\"data row7 col3\" >-0.11</td>\n",
       "                        <td id=\"T_27a48c71_2137_11ec_8e03_3c9c0f4c0d9brow7_col4\" class=\"data row7 col4\" >-0.04</td>\n",
       "                        <td id=\"T_27a48c71_2137_11ec_8e03_3c9c0f4c0d9brow7_col5\" class=\"data row7 col5\" >0.04</td>\n",
       "                        <td id=\"T_27a48c71_2137_11ec_8e03_3c9c0f4c0d9brow7_col6\" class=\"data row7 col6\" >0.03</td>\n",
       "                        <td id=\"T_27a48c71_2137_11ec_8e03_3c9c0f4c0d9brow7_col7\" class=\"data row7 col7\" >1.00</td>\n",
       "                        <td id=\"T_27a48c71_2137_11ec_8e03_3c9c0f4c0d9brow7_col8\" class=\"data row7 col8\" >0.24</td>\n",
       "            </tr>\n",
       "            <tr>\n",
       "                        <th id=\"T_27a48c71_2137_11ec_8e03_3c9c0f4c0d9blevel0_row8\" class=\"row_heading level0 row8\" >Outcome</th>\n",
       "                        <td id=\"T_27a48c71_2137_11ec_8e03_3c9c0f4c0d9brow8_col0\" class=\"data row8 col0\" >0.22</td>\n",
       "                        <td id=\"T_27a48c71_2137_11ec_8e03_3c9c0f4c0d9brow8_col1\" class=\"data row8 col1\" >0.47</td>\n",
       "                        <td id=\"T_27a48c71_2137_11ec_8e03_3c9c0f4c0d9brow8_col2\" class=\"data row8 col2\" >0.07</td>\n",
       "                        <td id=\"T_27a48c71_2137_11ec_8e03_3c9c0f4c0d9brow8_col3\" class=\"data row8 col3\" >0.07</td>\n",
       "                        <td id=\"T_27a48c71_2137_11ec_8e03_3c9c0f4c0d9brow8_col4\" class=\"data row8 col4\" >0.13</td>\n",
       "                        <td id=\"T_27a48c71_2137_11ec_8e03_3c9c0f4c0d9brow8_col5\" class=\"data row8 col5\" >0.29</td>\n",
       "                        <td id=\"T_27a48c71_2137_11ec_8e03_3c9c0f4c0d9brow8_col6\" class=\"data row8 col6\" >0.17</td>\n",
       "                        <td id=\"T_27a48c71_2137_11ec_8e03_3c9c0f4c0d9brow8_col7\" class=\"data row8 col7\" >0.24</td>\n",
       "                        <td id=\"T_27a48c71_2137_11ec_8e03_3c9c0f4c0d9brow8_col8\" class=\"data row8 col8\" >1.00</td>\n",
       "            </tr>\n",
       "    </tbody></table>"
      ],
      "text/plain": [
       "<pandas.io.formats.style.Styler at 0xad5c958>"
      ]
     },
     "metadata": {},
     "output_type": "display_data"
    },
    {
     "data": {
      "text/plain": [
       "<AxesSubplot:>"
      ]
     },
     "metadata": {},
     "output_type": "display_data"
    },
    {
     "data": {
      "image/png": "[encoded data removed]",
      "text/plain": [
       "<Figure size 720x576 with 2 Axes>"
      ]
     },
     "metadata": {
      "needs_background": "light"
     },
     "output_type": "display_data"
    }
   ],
   "source": [
    "# Plotting correlation matrices (Pearson)\n",
    "corr = data.corr()\n",
    "display(corr.style.background_gradient(cmap='coolwarm').set_precision(2))\n",
    "# Alternative view with heatmap\n",
    "f, ax = plt.subplots(figsize=(10, 8))\n",
    "display(sns.heatmap(corr, mask=np.zeros_like(corr, dtype=np.bool),\n",
    "            cmap=sns.diverging_palette(1000, 10, as_cmap=True),\n",
    "            square=True, ax=ax))"
   ]
  },
  {
   "cell_type": "markdown",
   "metadata": {},
   "source": [
    "### Relevant Notes\n",
    "1. Data is already organised but needs to be normalized because we have different columns in different scales (i.e. 'Age' and 'Glucose'), which can be a problem when implementing our chosen model;\n",
    "2. 'Outcome' column is our target variable (dependent) and all other columns are our predictors (independent); a correlation test will be useful to see if all variables should be considered in our model;\n",
    "3. In the correlation matrix above, we can see some relationships between Age/Pregnancies, Skin Thickness/Insulin and Skin Thickness/BMI that can be used in the subsequent steps (for feature selection);\n",
    "4. Data has been split into train and test subsets (variables X_train, Y_train, X_test and Y_test);\n",
    "5. We have a classification problem (identify if a specific patient have diabetes or not), so we'll create a benchmark between three algorithms: logistic regression model, KNN (K-nearest neighbours) and random forest."
   ]
  },
  {
   "cell_type": "markdown",
   "metadata": {},
   "source": [
    "# Machine Learning model implementation"
   ]
  },
  {
   "cell_type": "code",
   "execution_count": 10,
   "metadata": {},
   "outputs": [
    {
     "name": "stdout",
     "output_type": "stream",
     "text": [
      "Original data: \n",
      "\n",
      " [[  6.    148.     72.    ...  33.6     0.627  50.   ]\n",
      " [  1.     85.     66.    ...  26.6     0.351  31.   ]\n",
      " [  8.    183.     64.    ...  23.3     0.672  32.   ]\n",
      " ...\n",
      " [  5.    121.     72.    ...  26.2     0.245  30.   ]\n",
      " [  1.    126.     60.    ...  30.1     0.349  47.   ]\n",
      " [  1.     93.     70.    ...  30.4     0.315  23.   ]]\n",
      "\n",
      "Normalized data: \n",
      "\n",
      " [[0.35294118 0.74371859 0.59016393 ... 0.50074516 0.23441503 0.48333333]\n",
      " [0.05882353 0.42713568 0.54098361 ... 0.39642325 0.11656704 0.16666667]\n",
      " [0.47058824 0.91959799 0.52459016 ... 0.34724292 0.25362938 0.18333333]\n",
      " ...\n",
      " [0.29411765 0.6080402  0.59016393 ... 0.390462   0.07130658 0.15      ]\n",
      " [0.05882353 0.63316583 0.49180328 ... 0.4485842  0.11571307 0.43333333]\n",
      " [0.05882353 0.46733668 0.57377049 ... 0.45305514 0.10119556 0.03333333]]\n",
      "\n",
      "NOTE: For logistic regression, standard scaler was applied.\n",
      "\n",
      "Standarized data: \n",
      "\n",
      " [[ 0.63994726  0.84832379  0.14964075 ...  0.20401277  0.46849198\n",
      "   1.4259954 ]\n",
      " [-0.84488505 -1.12339636 -0.16054575 ... -0.68442195 -0.36506078\n",
      "  -0.19067191]\n",
      " [ 1.23388019  1.94372388 -0.26394125 ... -1.10325546  0.60439732\n",
      "  -0.10558415]\n",
      " ...\n",
      " [ 0.3429808   0.00330087  0.14964075 ... -0.73518964 -0.68519336\n",
      "  -0.27575966]\n",
      " [-0.84488505  0.1597866  -0.47073225 ... -0.24020459 -0.37110101\n",
      "   1.17073215]\n",
      " [-0.84488505 -0.8730192   0.04624525 ... -0.20212881 -0.47378505\n",
      "  -0.87137393]]\n"
     ]
    }
   ],
   "source": [
    "# Normalizing dataset using MinMaxScaler\n",
    "from sklearn.preprocessing import StandardScaler\n",
    "from sklearn.preprocessing import MinMaxScaler\n",
    "array = data.values\n",
    "\n",
    "# Separating into dependent and independent variables\n",
    "X = array[:, 0:8]\n",
    "Y = array[:, 8]\n",
    "\n",
    "# Normalizing data with scaler\n",
    "scaler = MinMaxScaler(feature_range = (0, 1))\n",
    "rescaledX = scaler.fit_transform(X)\n",
    "\n",
    "# Summarizing transformed data\n",
    "print(\"Original data: \\n\\n\", X)\n",
    "print(\"\\nNormalized data: \\n\\n\", rescaledX)\n",
    "\n",
    "print(\"\\nNOTE: For logistic regression, standard scaler was applied.\")\n",
    "\n",
    "# Using standard scaler\n",
    "scaler = StandardScaler().fit(X)\n",
    "standardX = scaler.transform(X)\n",
    "\n",
    "print(\"\\nStandarized data: \\n\\n\", standardX)"
   ]
  },
  {
   "cell_type": "code",
   "execution_count": 11,
   "metadata": {},
   "outputs": [
    {
     "name": "stdout",
     "output_type": "stream",
     "text": [
      "NOTE: Training train batch size is 537 and test is 231\n"
     ]
    }
   ],
   "source": [
    "# Splitting data into Train/Test (into 70/30 ratio)\n",
    "from sklearn.model_selection import train_test_split\n",
    "\n",
    "test_size = 0.3\n",
    "X_train, X_test, Y_train, Y_test = train_test_split(standardX, Y, test_size = test_size)\n",
    "print(f\"NOTE: Training train batch size is {len(X_train)} and test is {len(X_test)}\")"
   ]
  },
  {
   "cell_type": "code",
   "execution_count": 12,
   "metadata": {},
   "outputs": [
    {
     "name": "stdout",
     "output_type": "stream",
     "text": [
      "Accuracy (Logistic Regression): 78.091\n",
      "Accuracy (KNN): 75.527\n",
      "Accuracy (Random Forest): 76.818\n"
     ]
    }
   ],
   "source": [
    "# Creating models for Logistic Regression, KNN and Random Forest\n",
    "from sklearn.model_selection import KFold\n",
    "from sklearn.model_selection import cross_val_score\n",
    "from sklearn.neighbors import KNeighborsClassifier\n",
    "from sklearn.ensemble import RandomForestClassifier\n",
    "from sklearn.linear_model import LogisticRegression\n",
    "\n",
    "# Defining hyperparameters for cross Validation testing\n",
    "num_folds = 50\n",
    "random_state = 8\n",
    "kfold = KFold(num_folds, True, random_state = random_state)\n",
    "\n",
    "# Logistic Regression\n",
    "regrl = LogisticRegression()\n",
    "regrl.fit(X_train, Y_train)\n",
    "regrl.score(X_train, Y_train)\n",
    "results = cross_val_score(regrl, X_train, Y_train, cv = kfold)\n",
    "print(\"Accuracy (Logistic Regression): %.3f\" % (results.mean() * 100))\n",
    "\n",
    "# KNN\n",
    "knn = KNeighborsClassifier()\n",
    "results = cross_val_score(knn, X_train, Y_train, cv = kfold)\n",
    "print(\"Accuracy (KNN): %.3f\" % (results.mean() * 100))\n",
    "\n",
    "# Random Forest\n",
    "num_trees = 100\n",
    "max_features = 8\n",
    "random_forest = RandomForestClassifier(n_estimators = num_trees, max_features = max_features)\n",
    "results = cross_val_score(random_forest, X_train, Y_train, cv = kfold)\n",
    "print(\"Accuracy (Random Forest): %.3f\" % (results.mean() * 100))"
   ]
  },
  {
   "cell_type": "markdown",
   "metadata": {},
   "source": [
    "As we can see above, after cross-validating three different Machine Learning models, Logistic regression stands out comparing with random forest and KNN algorithms, so we'll use this model for predicting our test subset."
   ]
  },
  {
   "cell_type": "code",
   "execution_count": 13,
   "metadata": {},
   "outputs": [
    {
     "data": {
      "text/plain": [
       "array([0., 1., 0., 0., 1., 0., 0., 0., 1., 0., 0., 0., 0., 0., 0., 0., 0.,\n",
       "       0., 0., 0., 0., 0., 0., 0., 0., 0., 1., 0., 1., 1., 1., 0., 0., 0.,\n",
       "       1., 1., 0., 1., 0., 0., 1., 1., 0., 1., 1., 1., 0., 0., 0., 1., 0.,\n",
       "       0., 0., 0., 0., 1., 0., 1., 0., 0., 0., 0., 1., 0., 0., 0., 1., 0.,\n",
       "       0., 0., 0., 0., 1., 1., 0., 0., 0., 0., 0., 0., 0., 0., 0., 0., 0.,\n",
       "       0., 0., 0., 0., 0., 0., 0., 0., 0., 0., 0., 0., 0., 0., 1., 0., 0.,\n",
       "       0., 0., 1., 0., 0., 0., 1., 0., 0., 0., 0., 0., 0., 1., 0., 0., 1.,\n",
       "       0., 0., 1., 1., 0., 1., 0., 1., 0., 0., 0., 0., 0., 1., 0., 1., 1.,\n",
       "       0., 1., 0., 0., 0., 0., 0., 0., 0., 0., 0., 1., 1., 0., 0., 0., 0.,\n",
       "       0., 1., 0., 0., 0., 1., 0., 1., 0., 1., 1., 0., 0., 1., 1., 1., 0.,\n",
       "       0., 0., 0., 0., 0., 0., 1., 0., 1., 0., 0., 1., 0., 1., 0., 0., 0.,\n",
       "       0., 0., 0., 0., 1., 0., 0., 0., 0., 0., 0., 0., 1., 1., 0., 0., 0.,\n",
       "       0., 0., 0., 0., 1., 0., 0., 0., 0., 1., 0., 0., 1., 1., 1., 0., 0.,\n",
       "       0., 1., 0., 0., 0., 0., 0., 0., 1., 0.])"
      ]
     },
     "execution_count": 13,
     "metadata": {},
     "output_type": "execute_result"
    }
   ],
   "source": [
    "# Creating model predictions with logistic regression\n",
    "predicts = regrl.predict(X_test)\n",
    "predicts"
   ]
  },
  {
   "cell_type": "markdown",
   "metadata": {},
   "source": [
    "# Model evaluation"
   ]
  },
  {
   "cell_type": "code",
   "execution_count": 14,
   "metadata": {},
   "outputs": [
    {
     "data": {
      "image/png": "[encoded data removed]",
      "text/plain": [
       "<Figure size 432x288 with 2 Axes>"
      ]
     },
     "metadata": {
      "needs_background": "light"
     },
     "output_type": "display_data"
    },
    {
     "name": "stdout",
     "output_type": "stream",
     "text": [
      "              precision    recall  f1-score   support\n",
      "\n",
      "         0.0       0.74      0.88      0.81       146\n",
      "         1.0       0.69      0.48      0.57        85\n",
      "\n",
      "    accuracy                           0.73       231\n",
      "   macro avg       0.72      0.68      0.69       231\n",
      "weighted avg       0.73      0.73      0.72       231\n",
      "\n"
     ]
    }
   ],
   "source": [
    "# Evaluating model with confusion matrix\n",
    "from sklearn.metrics import classification_report\n",
    "from sklearn.metrics import confusion_matrix\n",
    "confusion_matrix = pd.DataFrame(confusion_matrix(Y_test, predicts))\n",
    "# Plotting confusion matrix\n",
    "sns.heatmap(confusion_matrix, annot = True, cmap=\"YlGnBu\" ,fmt='2g')\n",
    "plt.title(\"Confusion Matrix\")\n",
    "plt.xlabel(\"Predicted\")\n",
    "plt.ylabel(\"Actual\")\n",
    "plt.show()\n",
    "\n",
    "# Plotting measurements for errors (Type I/False Positives and Type II/False Negatives)\n",
    "print(classification_report(Y_test, predicts))"
   ]
  },
  {
   "cell_type": "code",
   "execution_count": 15,
   "metadata": {},
   "outputs": [
    {
     "name": "stdout",
     "output_type": "stream",
     "text": [
      "AUC: 84.122\n"
     ]
    }
   ],
   "source": [
    "# Evaluating ROC (area under the curve) - values above .5 indicates good precision\n",
    "result = cross_val_score(regrl, X_train, Y_train, cv = kfold, scoring = 'roc_auc')\n",
    "print(\"AUC: %.3f\" % (result.mean() * 100))"
   ]
  },
  {
   "cell_type": "markdown",
   "metadata": {},
   "source": [
    "# Optimization approaches"
   ]
  },
  {
   "cell_type": "code",
   "execution_count": 16,
   "metadata": {},
   "outputs": [
    {
     "name": "stdout",
     "output_type": "stream",
     "text": [
      "Variables in dataset: ['Pregnancies', 'Glucose', 'BloodPressure', 'SkinThickness', 'Insulin', 'BMI', 'DiabetesPedigreeFunction', 'Age']\n",
      "Selected variables: ['Pregnancies', 'Glucose', 'BMI', 'DiabetesPedigreeFunction']\n",
      "Features ranking: [1 1 3 5 4 1 1 2]\n",
      "Number of n features selected: 4\n"
     ]
    }
   ],
   "source": [
    "# Approach 1 - Optimizing with RFE (recursive feature elimination)\n",
    "from sklearn.feature_selection import RFE\n",
    "\n",
    "# Finding out the four best variables in our dataset\n",
    "var_num = 4\n",
    "vars_fit = []\n",
    "vars_org = data.columns[0:8].tolist()\n",
    "rfe = RFE(regrl, 4)\n",
    "fit = rfe.fit(X_train, Y_train)\n",
    "\n",
    "for e in range(len(fit.support_)):\n",
    "    if fit.support_[e] == True:\n",
    "        vars_fit.append(vars_org[e])\n",
    "        \n",
    "# Printing results\n",
    "print(\"Variables in dataset:\", data.columns[0:8].tolist())\n",
    "print(\"Selected variables: %s\" % vars_fit)\n",
    "print(\"Features ranking: %s\" % fit.ranking_)\n",
    "print(\"Number of n features selected: %d\" % fit.n_features_)"
   ]
  },
  {
   "cell_type": "code",
   "execution_count": 17,
   "metadata": {},
   "outputs": [
    {
     "name": "stdout",
     "output_type": "stream",
     "text": [
      "Accuracy (Logistic Regression): 76.418\n"
     ]
    }
   ],
   "source": [
    "# Approach 2 - Slicing dataset only with relevant variables\n",
    "standardX_2 = standardX[:, list(fit.support_)]\n",
    "X_train_2, X_test_2, Y_train_2, Y_test_2 = train_test_split(standardX_2, Y, test_size = test_size)\n",
    "\n",
    "# Re-running logistic regression model \n",
    "regrl.fit(X_train_2, Y_train_2)\n",
    "regrl.score(X_train_2, Y_train_2)\n",
    "results = cross_val_score(regrl, X_train_2, Y_train_2, cv = kfold)\n",
    "\n",
    "print(\"Accuracy (Logistic Regression): %.3f\" % (results.mean() * 100))"
   ]
  },
  {
   "cell_type": "code",
   "execution_count": 18,
   "metadata": {},
   "outputs": [
    {
     "name": "stdout",
     "output_type": "stream",
     "text": [
      "Accuracy: 77.348\n",
      "Best parameters:\n",
      " LogisticRegression(C=10)\n"
     ]
    }
   ],
   "source": [
    "# Using Random Search Parameter Tuning to evaluate parameters\n",
    "from sklearn.model_selection import RandomizedSearchCV\n",
    "\n",
    "valores_grid = {'penalty': ['l1','l2'], 'C': [0.001,0.01,0.1,1,10,100,1000]}\n",
    "iterations = 14\n",
    "rsearch = RandomizedSearchCV(estimator = regrl, \n",
    "                             param_distributions = valores_grid, \n",
    "                             n_iter = iterations)\n",
    "rsearch.fit(X, Y)\n",
    "\n",
    "print(\"Accuracy: %.3f\" % (rsearch.best_score_ * 100))\n",
    "print(\"Best parameters:\\n\", rsearch.best_estimator_)"
   ]
  },
  {
   "cell_type": "markdown",
   "metadata": {},
   "source": [
    "# Model Deployment"
   ]
  },
  {
   "cell_type": "code",
   "execution_count": 19,
   "metadata": {},
   "outputs": [],
   "source": [
    "# Exporting model into .sav file\n",
    "import pickle\n",
    "f = 'models/regrl_classifier.sav'\n",
    "pickle.dump(regrl, open(f, 'wb'))\n",
    "\n",
    "# # Loading .sav file\n",
    "# model = pickle.load(open(f, 'rb'))"
   ]
  },
  {
   "cell_type": "markdown",
   "metadata": {},
   "source": [
    "# Conclusion"
   ]
  },
  {
   "cell_type": "code",
   "execution_count": 20,
   "metadata": {},
   "outputs": [
    {
     "data": {
      "text/html": [
       "<div>\n",
       "<style scoped>\n",
       "    .dataframe tbody tr th:only-of-type {\n",
       "        vertical-align: middle;\n",
       "    }\n",
       "\n",
       "    .dataframe tbody tr th {\n",
       "        vertical-align: top;\n",
       "    }\n",
       "\n",
       "    .dataframe thead th {\n",
       "        text-align: right;\n",
       "    }\n",
       "</style>\n",
       "<table border=\"1\" class=\"dataframe\">\n",
       "  <thead>\n",
       "    <tr style=\"text-align: right;\">\n",
       "      <th></th>\n",
       "      <th>Pregnancies</th>\n",
       "      <th>Glucose</th>\n",
       "      <th>BloodPressure</th>\n",
       "      <th>SkinThickness</th>\n",
       "      <th>Insulin</th>\n",
       "      <th>BMI</th>\n",
       "      <th>DiabetesPedigreeFunction</th>\n",
       "      <th>Age</th>\n",
       "      <th>Prediction</th>\n",
       "    </tr>\n",
       "  </thead>\n",
       "  <tbody>\n",
       "    <tr>\n",
       "      <th>0</th>\n",
       "      <td>1.0</td>\n",
       "      <td>130.0</td>\n",
       "      <td>70.0</td>\n",
       "      <td>13.0</td>\n",
       "      <td>105.0</td>\n",
       "      <td>25.9</td>\n",
       "      <td>0.472</td>\n",
       "      <td>22.0</td>\n",
       "      <td>False</td>\n",
       "    </tr>\n",
       "    <tr>\n",
       "      <th>1</th>\n",
       "      <td>13.0</td>\n",
       "      <td>145.0</td>\n",
       "      <td>82.0</td>\n",
       "      <td>19.0</td>\n",
       "      <td>110.0</td>\n",
       "      <td>22.2</td>\n",
       "      <td>0.245</td>\n",
       "      <td>57.0</td>\n",
       "      <td>True</td>\n",
       "    </tr>\n",
       "    <tr>\n",
       "      <th>2</th>\n",
       "      <td>2.0</td>\n",
       "      <td>123.0</td>\n",
       "      <td>48.0</td>\n",
       "      <td>32.0</td>\n",
       "      <td>165.0</td>\n",
       "      <td>42.1</td>\n",
       "      <td>0.520</td>\n",
       "      <td>26.0</td>\n",
       "      <td>False</td>\n",
       "    </tr>\n",
       "    <tr>\n",
       "      <th>3</th>\n",
       "      <td>4.0</td>\n",
       "      <td>95.0</td>\n",
       "      <td>64.0</td>\n",
       "      <td>0.0</td>\n",
       "      <td>0.0</td>\n",
       "      <td>32.0</td>\n",
       "      <td>0.161</td>\n",
       "      <td>31.0</td>\n",
       "      <td>False</td>\n",
       "    </tr>\n",
       "    <tr>\n",
       "      <th>4</th>\n",
       "      <td>13.0</td>\n",
       "      <td>129.0</td>\n",
       "      <td>0.0</td>\n",
       "      <td>30.0</td>\n",
       "      <td>0.0</td>\n",
       "      <td>39.9</td>\n",
       "      <td>0.569</td>\n",
       "      <td>44.0</td>\n",
       "      <td>True</td>\n",
       "    </tr>\n",
       "  </tbody>\n",
       "</table>\n",
       "</div>"
      ],
      "text/plain": [
       "   Pregnancies  Glucose  BloodPressure  SkinThickness  Insulin   BMI  \\\n",
       "0          1.0    130.0           70.0           13.0    105.0  25.9   \n",
       "1         13.0    145.0           82.0           19.0    110.0  22.2   \n",
       "2          2.0    123.0           48.0           32.0    165.0  42.1   \n",
       "3          4.0     95.0           64.0            0.0      0.0  32.0   \n",
       "4         13.0    129.0            0.0           30.0      0.0  39.9   \n",
       "\n",
       "   DiabetesPedigreeFunction   Age  Prediction  \n",
       "0                     0.472  22.0       False  \n",
       "1                     0.245  57.0        True  \n",
       "2                     0.520  26.0       False  \n",
       "3                     0.161  31.0       False  \n",
       "4                     0.569  44.0        True  "
      ]
     },
     "execution_count": 20,
     "metadata": {},
     "output_type": "execute_result"
    }
   ],
   "source": [
    "# Recreating test dataset for visualization\n",
    "predicts_df = pd.DataFrame(scaler.inverse_transform(X_test), columns = data.columns.tolist()[0:8])\n",
    "predicts_df['Prediction'] = pd.Series(predicts).map(lambda x: True if x == 1 else False)\n",
    "predicts_df.head()"
   ]
  },
  {
   "cell_type": "code",
   "execution_count": 44,
   "metadata": {},
   "outputs": [
    {
     "data": {
      "image/png": "[encoded data removed]",
      "text/plain": [
       "<Figure size 720x432 with 1 Axes>"
      ]
     },
     "metadata": {
      "needs_background": "light"
     },
     "output_type": "display_data"
    },
    {
     "data": {
      "text/html": [
       "<div>\n",
       "<style scoped>\n",
       "    .dataframe tbody tr th:only-of-type {\n",
       "        vertical-align: middle;\n",
       "    }\n",
       "\n",
       "    .dataframe tbody tr th {\n",
       "        vertical-align: top;\n",
       "    }\n",
       "\n",
       "    .dataframe thead th {\n",
       "        text-align: right;\n",
       "    }\n",
       "</style>\n",
       "<table border=\"1\" class=\"dataframe\">\n",
       "  <thead>\n",
       "    <tr style=\"text-align: right;\">\n",
       "      <th></th>\n",
       "      <th>Prediction</th>\n",
       "    </tr>\n",
       "  </thead>\n",
       "  <tbody>\n",
       "    <tr>\n",
       "      <th>False</th>\n",
       "      <td>172</td>\n",
       "    </tr>\n",
       "    <tr>\n",
       "      <th>True</th>\n",
       "      <td>59</td>\n",
       "    </tr>\n",
       "  </tbody>\n",
       "</table>\n",
       "</div>"
      ],
      "text/plain": [
       "       Prediction\n",
       "False         172\n",
       "True           59"
      ]
     },
     "metadata": {},
     "output_type": "display_data"
    }
   ],
   "source": [
    "# Checking data distribution\n",
    "f, ax = plt.subplots(figsize=(10, 6))\n",
    "\n",
    "predicts_df['Prediction'].value_counts().plot(kind = \"bar\", align='center')\n",
    "rects = predicts_df['Prediction'].value_counts().plot(kind = \"bar\", align='center').patches\n",
    "labels = predicts_df['Prediction'].value_counts()\n",
    "for rect, label in zip(rects, labels):\n",
    "    height = rect.get_height()\n",
    "    plt.text(rect.get_x() + rect.get_width() / 2, height + 1, str(label),\n",
    "            ha='center', va='bottom', fontsize = 10)\n",
    "\n",
    "plt.xlabel('Prediction for diabetes', fontsize= 12)\n",
    "plt.ylabel('Qty patients', fontsize= 12)\n",
    "plt.title(\"Estimated Quantity of Patients with Diabetes\", fontsize = 16)\n",
    "plt.show()\n",
    "\n",
    "display(pd.DataFrame(predicts_df['Prediction'].value_counts()))"
   ]
  },
  {
   "cell_type": "markdown",
   "metadata": {},
   "source": [
    "CONCLUSION: For the visualization above, we can see that the model predicts and separates 172 patients without diabetes and 59 positive cases. For the positive cases, we could easily filter their characteristics from the dataset and take a deeper look individually to identify further patterns for this disease."
   ]
  },
  {
   "cell_type": "markdown",
   "metadata": {},
   "source": [
    "## End"
   ]
  }
 ],
 "metadata": {
  "kernelspec": {
   "display_name": "Python 3",
   "language": "python",
   "name": "python3"
  },
  "language_info": {
   "codemirror_mode": {
    "name": "ipython",
    "version": 3
   },
   "file_extension": ".py",
   "mimetype": "text/x-python",
   "name": "python",
   "nbconvert_exporter": "python",
   "pygments_lexer": "ipython3",
   "version": "3.8.5"
  }
 },
 "nbformat": 4,
 "nbformat_minor": 4
}
